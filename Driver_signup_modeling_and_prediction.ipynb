{
 "cells": [
  {
   "cell_type": "markdown",
   "metadata": {},
   "source": [
    "--------------------------------------------------------------------------------------------------------------------------------"
   ]
  },
  {
   "cell_type": "markdown",
   "metadata": {
    "collapsed": true
   },
   "source": [
    "<font, size = 6> Uber - Data scientist Interview - Challenge </font>"
   ]
  },
  {
   "cell_type": "markdown",
   "metadata": {},
   "source": [
    "----------------------------------------------------------------------------------------------------------------------------"
   ]
  },
  {
   "cell_type": "markdown",
   "metadata": {},
   "source": [
    "<h1 id=\"tocheading\">Table of Contents</h1>\n",
    "<div id=\"toc\"></div>"
   ]
  },
  {
   "cell_type": "code",
   "execution_count": 1,
   "metadata": {
    "collapsed": false
   },
   "outputs": [
    {
     "data": {
      "application/javascript": [
       "$.getScript('https://kmahelona.github.io/ipython_notebook_goodies/ipython_notebook_toc.js')"
      ],
      "text/plain": [
       "<IPython.core.display.Javascript object>"
      ]
     },
     "metadata": {},
     "output_type": "display_data"
    }
   ],
   "source": [
    "%%javascript\n",
    "$.getScript('https://kmahelona.github.io/ipython_notebook_goodies/ipython_notebook_toc.js')"
   ]
  },
  {
   "cell_type": "markdown",
   "metadata": {
    "collapsed": true
   },
   "source": [
    "# Objective of the analysis:"
   ]
  },
  {
   "cell_type": "markdown",
   "metadata": {},
   "source": [
    "The main objective of the analysis is to understand the data through data exploration and apply machine learning techniques to develop a predictive model. From the knowledge gained through data exploration and modeling, answer the questions below."
   ]
  },
  {
   "cell_type": "markdown",
   "metadata": {
    "collapsed": true
   },
   "source": [
    "1. Which driver signups are most likely to start driving \n",
    "2. What factors are best at predicting whether a signup will result in driving and offer insights"
   ]
  },
  {
   "cell_type": "markdown",
   "metadata": {
    "collapsed": true
   },
   "source": [
    "Dataset provided contains driver's the following background information\n",
    "\n",
    "<b> Data description: </b>\n",
    "\n",
    "id: driver_id\n",
    "\n",
    "city_id : city_id this user signed up in\n",
    "\n",
    "signup_os : signup device of the user (“android”, “ios”, “website”, “other”)\n",
    "\n",
    "signup_channel : what channel did the driver sign up from (“offline”, “paid”, “organic”, “referral”)\n",
    "\n",
    "signup_timestamp : timestamp of account creation; local time in the form ‘YYYYMMDD’\n",
    "\n",
    "bgc_date : date of background check consent; in the form ‘YYYYMMDD’\n",
    "\n",
    "vehicle_added_date : date when driver’s vehicle information was uploaded; in the form ‘YYYYMMDD’\n",
    "\n",
    "first_trip_date : date of the first trip as a driver; in the form ‘YYYYMMDD’\n",
    "\n",
    "vehicle_make: make of vehicle uploaded (i.e. Honda, Ford, Kia)\n",
    "\n",
    "vehicle_model: model of vehicle uploaded (i.e. Accord, Prius, 350z)\n",
    "\n",
    "vehicle_year: year that the car was made; in the form ‘YYYY’"
   ]
  },
  {
   "cell_type": "code",
   "execution_count": 7,
   "metadata": {
    "collapsed": false
   },
   "outputs": [],
   "source": [
    "% matplotlib inline\n",
    "\n",
    "import pandas as pd\n",
    "import numpy as np\n",
    "import matplotlib.pyplot as plt\n",
    "import seaborn as sns"
   ]
  },
  {
   "cell_type": "code",
   "execution_count": 8,
   "metadata": {
    "collapsed": false,
    "scrolled": true
   },
   "outputs": [
    {
     "data": {
      "text/html": [
       "<div>\n",
       "<table border=\"1\" class=\"dataframe\">\n",
       "  <thead>\n",
       "    <tr style=\"text-align: right;\">\n",
       "      <th></th>\n",
       "      <th>id</th>\n",
       "      <th>city_name</th>\n",
       "      <th>signup_os</th>\n",
       "      <th>signup_channel</th>\n",
       "      <th>signup_date</th>\n",
       "      <th>bgc_date</th>\n",
       "      <th>vehicle_added_date</th>\n",
       "      <th>vehicle_make</th>\n",
       "      <th>vehicle_model</th>\n",
       "      <th>vehicle_year</th>\n",
       "      <th>first_completed_date</th>\n",
       "    </tr>\n",
       "  </thead>\n",
       "  <tbody>\n",
       "    <tr>\n",
       "      <th>0</th>\n",
       "      <td>1</td>\n",
       "      <td>Strark</td>\n",
       "      <td>ios web</td>\n",
       "      <td>Paid</td>\n",
       "      <td>1/2/16</td>\n",
       "      <td>NaN</td>\n",
       "      <td>NaN</td>\n",
       "      <td>NaN</td>\n",
       "      <td>NaN</td>\n",
       "      <td>NaN</td>\n",
       "      <td>NaN</td>\n",
       "    </tr>\n",
       "    <tr>\n",
       "      <th>1</th>\n",
       "      <td>2</td>\n",
       "      <td>Strark</td>\n",
       "      <td>windows</td>\n",
       "      <td>Paid</td>\n",
       "      <td>1/21/16</td>\n",
       "      <td>NaN</td>\n",
       "      <td>NaN</td>\n",
       "      <td>NaN</td>\n",
       "      <td>NaN</td>\n",
       "      <td>NaN</td>\n",
       "      <td>NaN</td>\n",
       "    </tr>\n",
       "    <tr>\n",
       "      <th>2</th>\n",
       "      <td>3</td>\n",
       "      <td>Wrouver</td>\n",
       "      <td>windows</td>\n",
       "      <td>Organic</td>\n",
       "      <td>1/11/16</td>\n",
       "      <td>1/11/16</td>\n",
       "      <td>NaN</td>\n",
       "      <td>NaN</td>\n",
       "      <td>NaN</td>\n",
       "      <td>NaN</td>\n",
       "      <td>NaN</td>\n",
       "    </tr>\n",
       "    <tr>\n",
       "      <th>3</th>\n",
       "      <td>4</td>\n",
       "      <td>Berton</td>\n",
       "      <td>android web</td>\n",
       "      <td>Referral</td>\n",
       "      <td>1/29/16</td>\n",
       "      <td>2/3/16</td>\n",
       "      <td>2/3/16</td>\n",
       "      <td>Toyota</td>\n",
       "      <td>Corolla</td>\n",
       "      <td>2016.0</td>\n",
       "      <td>2/3/16</td>\n",
       "    </tr>\n",
       "    <tr>\n",
       "      <th>4</th>\n",
       "      <td>5</td>\n",
       "      <td>Strark</td>\n",
       "      <td>android web</td>\n",
       "      <td>Referral</td>\n",
       "      <td>1/10/16</td>\n",
       "      <td>1/25/16</td>\n",
       "      <td>1/26/16</td>\n",
       "      <td>Hyundai</td>\n",
       "      <td>Sonata</td>\n",
       "      <td>2016.0</td>\n",
       "      <td>NaN</td>\n",
       "    </tr>\n",
       "  </tbody>\n",
       "</table>\n",
       "</div>"
      ],
      "text/plain": [
       "   id city_name    signup_os signup_channel signup_date bgc_date  \\\n",
       "0   1    Strark      ios web           Paid      1/2/16      NaN   \n",
       "1   2    Strark      windows           Paid     1/21/16      NaN   \n",
       "2   3   Wrouver      windows        Organic     1/11/16  1/11/16   \n",
       "3   4    Berton  android web       Referral     1/29/16   2/3/16   \n",
       "4   5    Strark  android web       Referral     1/10/16  1/25/16   \n",
       "\n",
       "  vehicle_added_date vehicle_make vehicle_model  vehicle_year  \\\n",
       "0                NaN          NaN           NaN           NaN   \n",
       "1                NaN          NaN           NaN           NaN   \n",
       "2                NaN          NaN           NaN           NaN   \n",
       "3             2/3/16       Toyota       Corolla        2016.0   \n",
       "4            1/26/16      Hyundai        Sonata        2016.0   \n",
       "\n",
       "  first_completed_date  \n",
       "0                  NaN  \n",
       "1                  NaN  \n",
       "2                  NaN  \n",
       "3               2/3/16  \n",
       "4                  NaN  "
      ]
     },
     "execution_count": 8,
     "metadata": {},
     "output_type": "execute_result"
    }
   ],
   "source": [
    "# Loading the dataset as a Pandas Dataframe:\n",
    "data = pd.read_csv(\"./data/ds_challenge.csv\")\n",
    "data.head()"
   ]
  },
  {
   "cell_type": "markdown",
   "metadata": {},
   "source": [
    "# Data Mining:"
   ]
  },
  {
   "cell_type": "markdown",
   "metadata": {},
   "source": [
    "## Data Exploration-1:"
   ]
  },
  {
   "cell_type": "code",
   "execution_count": 35,
   "metadata": {
    "collapsed": false
   },
   "outputs": [
    {
     "data": {
      "text/plain": [
       "array(['id', 'city_name', 'signup_os', 'signup_channel', 'signup_date',\n",
       "       'bgc_date', 'vehicle_added_date', 'vehicle_make', 'vehicle_model',\n",
       "       'vehicle_year', 'first_completed_date'], dtype=object)"
      ]
     },
     "execution_count": 35,
     "metadata": {},
     "output_type": "execute_result"
    }
   ],
   "source": [
    "# Printing the parameters in the dataset\n",
    "data.columns.values"
   ]
  },
  {
   "cell_type": "code",
   "execution_count": 36,
   "metadata": {
    "collapsed": false
   },
   "outputs": [
    {
     "data": {
      "text/plain": [
       "id                      54681\n",
       "city_name               54681\n",
       "signup_os               47824\n",
       "signup_channel          54681\n",
       "signup_date             54681\n",
       "bgc_date                32896\n",
       "vehicle_added_date      13134\n",
       "vehicle_make            13223\n",
       "vehicle_model           13223\n",
       "vehicle_year            13223\n",
       "first_completed_date     6137\n",
       "dtype: int64"
      ]
     },
     "execution_count": 36,
     "metadata": {},
     "output_type": "execute_result"
    }
   ],
   "source": [
    "# Data count for each parameters:\n",
    "data.count()"
   ]
  },
  {
   "cell_type": "code",
   "execution_count": 9,
   "metadata": {
    "collapsed": false
   },
   "outputs": [
    {
     "name": "stdout",
     "output_type": "stream",
     "text": [
      "id                      1.000000\n",
      "city_name               1.000000\n",
      "signup_os               0.874600\n",
      "signup_channel          1.000000\n",
      "signup_date             1.000000\n",
      "bgc_date                0.601598\n",
      "vehicle_added_date      0.240193\n",
      "vehicle_make            0.241821\n",
      "vehicle_model           0.241821\n",
      "vehicle_year            0.241821\n",
      "first_completed_date    0.112233\n",
      "dtype: float64\n"
     ]
    }
   ],
   "source": [
    "# Data count in percentage for each parameters:\n",
    "data_percent = data.count() / len(data)\n",
    "print(data_percent)"
   ]
  },
  {
   "cell_type": "markdown",
   "metadata": {
    "collapsed": true
   },
   "source": [
    "The parameters with lot of missing values may not contain useful information for modeling and they can be removed. Let us assume a cutoff of 60% and drop the parameters with value count less than that."
   ]
  },
  {
   "cell_type": "markdown",
   "metadata": {},
   "source": [
    "## Parameter Selection - 1:"
   ]
  },
  {
   "cell_type": "code",
   "execution_count": 10,
   "metadata": {
    "collapsed": false
   },
   "outputs": [
    {
     "data": {
      "text/plain": [
       "id                1.000000\n",
       "city_name         1.000000\n",
       "signup_os         0.874600\n",
       "signup_channel    1.000000\n",
       "signup_date       1.000000\n",
       "bgc_date          0.601598\n",
       "dtype: float64"
      ]
     },
     "execution_count": 10,
     "metadata": {},
     "output_type": "execute_result"
    }
   ],
   "source": [
    "data_percent[data_percent > 0.6]"
   ]
  },
  {
   "cell_type": "code",
   "execution_count": 11,
   "metadata": {
    "collapsed": false,
    "scrolled": true
   },
   "outputs": [
    {
     "name": "stdout",
     "output_type": "stream",
     "text": [
      "['id' 'city_name' 'signup_os' 'signup_channel' 'signup_date' 'bgc_date'\n",
      " 'first_completed_date']\n"
     ]
    }
   ],
   "source": [
    "valid_parameters = data_percent[data_percent > 0.6].index.values\n",
    "\n",
    "valid_parameters = np.append( valid_parameters, 'first_completed_date') \n",
    "# When 'first_completed_date' is a valid date then the corresponding driver has started driving after signup (11.22%)\n",
    "\n",
    "print(valid_parameters)"
   ]
  },
  {
   "cell_type": "code",
   "execution_count": 47,
   "metadata": {
    "collapsed": false
   },
   "outputs": [
    {
     "data": {
      "text/html": [
       "<div>\n",
       "<table border=\"1\" class=\"dataframe\">\n",
       "  <thead>\n",
       "    <tr style=\"text-align: right;\">\n",
       "      <th></th>\n",
       "      <th>id</th>\n",
       "      <th>city_name</th>\n",
       "      <th>signup_os</th>\n",
       "      <th>signup_channel</th>\n",
       "      <th>signup_date</th>\n",
       "      <th>bgc_date</th>\n",
       "      <th>first_completed_date</th>\n",
       "    </tr>\n",
       "  </thead>\n",
       "  <tbody>\n",
       "    <tr>\n",
       "      <th>0</th>\n",
       "      <td>1</td>\n",
       "      <td>Strark</td>\n",
       "      <td>ios web</td>\n",
       "      <td>Paid</td>\n",
       "      <td>1/2/16</td>\n",
       "      <td>NaN</td>\n",
       "      <td>NaN</td>\n",
       "    </tr>\n",
       "    <tr>\n",
       "      <th>1</th>\n",
       "      <td>2</td>\n",
       "      <td>Strark</td>\n",
       "      <td>windows</td>\n",
       "      <td>Paid</td>\n",
       "      <td>1/21/16</td>\n",
       "      <td>NaN</td>\n",
       "      <td>NaN</td>\n",
       "    </tr>\n",
       "    <tr>\n",
       "      <th>2</th>\n",
       "      <td>3</td>\n",
       "      <td>Wrouver</td>\n",
       "      <td>windows</td>\n",
       "      <td>Organic</td>\n",
       "      <td>1/11/16</td>\n",
       "      <td>1/11/16</td>\n",
       "      <td>NaN</td>\n",
       "    </tr>\n",
       "    <tr>\n",
       "      <th>3</th>\n",
       "      <td>4</td>\n",
       "      <td>Berton</td>\n",
       "      <td>android web</td>\n",
       "      <td>Referral</td>\n",
       "      <td>1/29/16</td>\n",
       "      <td>2/3/16</td>\n",
       "      <td>2/3/16</td>\n",
       "    </tr>\n",
       "    <tr>\n",
       "      <th>4</th>\n",
       "      <td>5</td>\n",
       "      <td>Strark</td>\n",
       "      <td>android web</td>\n",
       "      <td>Referral</td>\n",
       "      <td>1/10/16</td>\n",
       "      <td>1/25/16</td>\n",
       "      <td>NaN</td>\n",
       "    </tr>\n",
       "  </tbody>\n",
       "</table>\n",
       "</div>"
      ],
      "text/plain": [
       "   id city_name    signup_os signup_channel signup_date bgc_date  \\\n",
       "0   1    Strark      ios web           Paid      1/2/16      NaN   \n",
       "1   2    Strark      windows           Paid     1/21/16      NaN   \n",
       "2   3   Wrouver      windows        Organic     1/11/16  1/11/16   \n",
       "3   4    Berton  android web       Referral     1/29/16   2/3/16   \n",
       "4   5    Strark  android web       Referral     1/10/16  1/25/16   \n",
       "\n",
       "  first_completed_date  \n",
       "0                  NaN  \n",
       "1                  NaN  \n",
       "2                  NaN  \n",
       "3               2/3/16  \n",
       "4                  NaN  "
      ]
     },
     "execution_count": 47,
     "metadata": {},
     "output_type": "execute_result"
    }
   ],
   "source": [
    "# Retain only valid_parameters in the dataframe:\n",
    "data = data[valid_parameters]\n",
    "data.head()"
   ]
  },
  {
   "cell_type": "markdown",
   "metadata": {},
   "source": [
    "## Data cleaning-1 (Data Exploration-2):"
   ]
  },
  {
   "cell_type": "markdown",
   "metadata": {},
   "source": [
    "<b> Is 'id' a unique variable ? </b>"
   ]
  },
  {
   "cell_type": "code",
   "execution_count": 22,
   "metadata": {
    "collapsed": false
   },
   "outputs": [
    {
     "name": "stdout",
     "output_type": "stream",
     "text": [
      "id_unique_count: 54681\n",
      "Length of the dataframe: 54681\n"
     ]
    }
   ],
   "source": [
    "id_unique_count = len(data['id'].unique())\n",
    "print(\"id_unique_count: %d\" %id_unique_count)\n",
    "print(\"Length of the dataframe: %d\" %len(data))"
   ]
  },
  {
   "cell_type": "markdown",
   "metadata": {},
   "source": [
    "Yes, 'id' is a unique value for each user as expected and can be assigned as the index of the dataframe"
   ]
  },
  {
   "cell_type": "code",
   "execution_count": 48,
   "metadata": {
    "collapsed": true
   },
   "outputs": [],
   "source": [
    "# Assigning index and converting dates in string format to datetime format\n",
    "data = data.set_index(\"id\", drop = True)\n",
    "data['signup_date'] = pd.to_datetime(data['signup_date'])\n",
    "data['bgc_date'] = pd.to_datetime(data['bgc_date'])\n",
    "data['first_completed_date'] = pd.to_datetime(data['first_completed_date'])"
   ]
  },
  {
   "cell_type": "code",
   "execution_count": 49,
   "metadata": {
    "collapsed": false
   },
   "outputs": [
    {
     "data": {
      "text/html": [
       "<div>\n",
       "<table border=\"1\" class=\"dataframe\">\n",
       "  <thead>\n",
       "    <tr style=\"text-align: right;\">\n",
       "      <th></th>\n",
       "      <th>city_name</th>\n",
       "      <th>signup_os</th>\n",
       "      <th>signup_channel</th>\n",
       "      <th>signup_date</th>\n",
       "      <th>bgc_date</th>\n",
       "      <th>first_completed_date</th>\n",
       "    </tr>\n",
       "    <tr>\n",
       "      <th>id</th>\n",
       "      <th></th>\n",
       "      <th></th>\n",
       "      <th></th>\n",
       "      <th></th>\n",
       "      <th></th>\n",
       "      <th></th>\n",
       "    </tr>\n",
       "  </thead>\n",
       "  <tbody>\n",
       "    <tr>\n",
       "      <th>1</th>\n",
       "      <td>Strark</td>\n",
       "      <td>ios web</td>\n",
       "      <td>Paid</td>\n",
       "      <td>2016-01-02</td>\n",
       "      <td>NaT</td>\n",
       "      <td>NaT</td>\n",
       "    </tr>\n",
       "    <tr>\n",
       "      <th>2</th>\n",
       "      <td>Strark</td>\n",
       "      <td>windows</td>\n",
       "      <td>Paid</td>\n",
       "      <td>2016-01-21</td>\n",
       "      <td>NaT</td>\n",
       "      <td>NaT</td>\n",
       "    </tr>\n",
       "    <tr>\n",
       "      <th>3</th>\n",
       "      <td>Wrouver</td>\n",
       "      <td>windows</td>\n",
       "      <td>Organic</td>\n",
       "      <td>2016-01-11</td>\n",
       "      <td>2016-01-11</td>\n",
       "      <td>NaT</td>\n",
       "    </tr>\n",
       "    <tr>\n",
       "      <th>4</th>\n",
       "      <td>Berton</td>\n",
       "      <td>android web</td>\n",
       "      <td>Referral</td>\n",
       "      <td>2016-01-29</td>\n",
       "      <td>2016-02-03</td>\n",
       "      <td>2016-02-03</td>\n",
       "    </tr>\n",
       "    <tr>\n",
       "      <th>5</th>\n",
       "      <td>Strark</td>\n",
       "      <td>android web</td>\n",
       "      <td>Referral</td>\n",
       "      <td>2016-01-10</td>\n",
       "      <td>2016-01-25</td>\n",
       "      <td>NaT</td>\n",
       "    </tr>\n",
       "  </tbody>\n",
       "</table>\n",
       "</div>"
      ],
      "text/plain": [
       "   city_name    signup_os signup_channel signup_date   bgc_date  \\\n",
       "id                                                                \n",
       "1     Strark      ios web           Paid  2016-01-02        NaT   \n",
       "2     Strark      windows           Paid  2016-01-21        NaT   \n",
       "3    Wrouver      windows        Organic  2016-01-11 2016-01-11   \n",
       "4     Berton  android web       Referral  2016-01-29 2016-02-03   \n",
       "5     Strark  android web       Referral  2016-01-10 2016-01-25   \n",
       "\n",
       "   first_completed_date  \n",
       "id                       \n",
       "1                   NaT  \n",
       "2                   NaT  \n",
       "3                   NaT  \n",
       "4            2016-02-03  \n",
       "5                   NaT  "
      ]
     },
     "execution_count": 49,
     "metadata": {},
     "output_type": "execute_result"
    }
   ],
   "source": [
    "data.head()"
   ]
  },
  {
   "cell_type": "markdown",
   "metadata": {},
   "source": [
    "We know that the signup_os and the bgc_date parameters have missing values that needs to be replaced. Lets explore the valid values for the signup_os and the bgc_date and fill the NaNs using a suitable method."
   ]
  },
  {
   "cell_type": "markdown",
   "metadata": {},
   "source": [
    "### Clean signup_os:"
   ]
  },
  {
   "cell_type": "markdown",
   "metadata": {},
   "source": [
    "#### Frequency matrix:"
   ]
  },
  {
   "cell_type": "markdown",
   "metadata": {},
   "source": [
    "Let us consider only categorical variables for grouping and find the frequency (or count) of each group"
   ]
  },
  {
   "cell_type": "code",
   "execution_count": 50,
   "metadata": {
    "collapsed": false
   },
   "outputs": [
    {
     "data": {
      "text/html": [
       "<div>\n",
       "<table border=\"1\" class=\"dataframe\">\n",
       "  <thead>\n",
       "    <tr style=\"text-align: right;\">\n",
       "      <th></th>\n",
       "      <th>signup_channel</th>\n",
       "      <th>city_name</th>\n",
       "      <th>signup_os</th>\n",
       "      <th>Count</th>\n",
       "    </tr>\n",
       "  </thead>\n",
       "  <tbody>\n",
       "    <tr>\n",
       "      <th>0</th>\n",
       "      <td>Organic</td>\n",
       "      <td>Berton</td>\n",
       "      <td>android web</td>\n",
       "      <td>1052</td>\n",
       "    </tr>\n",
       "    <tr>\n",
       "      <th>1</th>\n",
       "      <td>Organic</td>\n",
       "      <td>Berton</td>\n",
       "      <td>ios web</td>\n",
       "      <td>1427</td>\n",
       "    </tr>\n",
       "    <tr>\n",
       "      <th>2</th>\n",
       "      <td>Organic</td>\n",
       "      <td>Berton</td>\n",
       "      <td>mac</td>\n",
       "      <td>699</td>\n",
       "    </tr>\n",
       "    <tr>\n",
       "      <th>3</th>\n",
       "      <td>Organic</td>\n",
       "      <td>Berton</td>\n",
       "      <td>other</td>\n",
       "      <td>374</td>\n",
       "    </tr>\n",
       "    <tr>\n",
       "      <th>4</th>\n",
       "      <td>Organic</td>\n",
       "      <td>Berton</td>\n",
       "      <td>windows</td>\n",
       "      <td>697</td>\n",
       "    </tr>\n",
       "  </tbody>\n",
       "</table>\n",
       "</div>"
      ],
      "text/plain": [
       "  signup_channel city_name    signup_os  Count\n",
       "0        Organic    Berton  android web   1052\n",
       "1        Organic    Berton      ios web   1427\n",
       "2        Organic    Berton          mac    699\n",
       "3        Organic    Berton        other    374\n",
       "4        Organic    Berton      windows    697"
      ]
     },
     "execution_count": 50,
     "metadata": {},
     "output_type": "execute_result"
    }
   ],
   "source": [
    "df_group1 = data.groupby(['signup_channel', 'city_name', 'signup_os'])['signup_date'].count()\n",
    "df_group1 = df_group1.reset_index()\n",
    "df_group1.columns = ['signup_channel', 'city_name', 'signup_os', 'Count']\n",
    "df_group1.head()"
   ]
  },
  {
   "cell_type": "code",
   "execution_count": 10,
   "metadata": {
    "collapsed": false
   },
   "outputs": [
    {
     "data": {
      "text/plain": [
       "<matplotlib.axes._subplots.AxesSubplot at 0xc4d358>"
      ]
     },
     "execution_count": 10,
     "metadata": {},
     "output_type": "execute_result"
    },
    {
     "data": {
      "image/png": "[encoded data removed]",
      "text/plain": [
       "<matplotlib.figure.Figure at 0x2f98278>"
      ]
     },
     "metadata": {},
     "output_type": "display_data"
    }
   ],
   "source": [
    "df_group1.ix[ (df_group1['signup_channel'] == 'Organic') & (df_group1['city_name'] == 'Berton')].plot.bar( x = 'signup_os', \n",
    "                                                                                                           y = 'Count', \n",
    "                                                                                                           figsize = (6, 4) )"
   ]
  },
  {
   "cell_type": "markdown",
   "metadata": {},
   "source": [
    "From the above plot, it is obvious that when the 'signup_channel' is Organic and 'city_name' is berton then the partner is more likely to have signedup from ios web than anyother os. The next option would be android web. \n",
    "\n",
    "Although, the likelihood for signing up from ios web is higher than any other options, we cannot ignore them and replace NaNs with ios web. The probability of signing up from other options are not negligible. Hence, we need to follow a different approach than repalcing NaNs with mode."
   ]
  },
  {
   "cell_type": "markdown",
   "metadata": {},
   "source": [
    "Let's look at another case:"
   ]
  },
  {
   "cell_type": "code",
   "execution_count": 81,
   "metadata": {
    "collapsed": false
   },
   "outputs": [
    {
     "data": {
      "text/plain": [
       "<matplotlib.axes._subplots.AxesSubplot at 0x2956b574e80>"
      ]
     },
     "execution_count": 81,
     "metadata": {},
     "output_type": "execute_result"
    },
    {
     "data": {
      "image/png": "[encoded data removed]",
      "text/plain": [
       "<matplotlib.figure.Figure at 0x2956aef3320>"
      ]
     },
     "metadata": {},
     "output_type": "display_data"
    }
   ],
   "source": [
    "df_group1.ix[ (df_group1['signup_channel'] == 'Paid') & (df_group1['city_name'] == 'Strark')].plot.bar( x = 'signup_os', \n",
    "                                                                                                        y = 'Count', \n",
    "                                                                                                        figsize = (6, 4) )"
   ]
  },
  {
   "cell_type": "markdown",
   "metadata": {},
   "source": [
    "We observe the same trend as the previous case. "
   ]
  },
  {
   "cell_type": "markdown",
   "metadata": {},
   "source": [
    "In such cases, the best two methods to replace missing values are:\n",
    "    1. Assign weight to each of the categories based on the count and pick randomly\n",
    "    2. Develop a simple model with 'signup_os' as the target variable with 'signup_channel' and 'city_name' as the predictors"
   ]
  },
  {
   "cell_type": "markdown",
   "metadata": {},
   "source": [
    "As the percentage of NaNs is around 15%, it is sufficient to use probabilitic method to replace missing values."
   ]
  },
  {
   "cell_type": "markdown",
   "metadata": {},
   "source": [
    "Let us add probability for each group in the frequency table:\n",
    "\n",
    "Probability of different signup_os types for a signup_channel and a city_name"
   ]
  },
  {
   "cell_type": "code",
   "execution_count": 51,
   "metadata": {
    "collapsed": false
   },
   "outputs": [
    {
     "data": {
      "text/html": [
       "<div>\n",
       "<table border=\"1\" class=\"dataframe\">\n",
       "  <thead>\n",
       "    <tr style=\"text-align: right;\">\n",
       "      <th></th>\n",
       "      <th>signup_channel</th>\n",
       "      <th>city_name</th>\n",
       "      <th>Total</th>\n",
       "    </tr>\n",
       "  </thead>\n",
       "  <tbody>\n",
       "    <tr>\n",
       "      <th>0</th>\n",
       "      <td>Organic</td>\n",
       "      <td>Berton</td>\n",
       "      <td>4249</td>\n",
       "    </tr>\n",
       "    <tr>\n",
       "      <th>1</th>\n",
       "      <td>Organic</td>\n",
       "      <td>Strark</td>\n",
       "      <td>5668</td>\n",
       "    </tr>\n",
       "    <tr>\n",
       "      <th>2</th>\n",
       "      <td>Organic</td>\n",
       "      <td>Wrouver</td>\n",
       "      <td>978</td>\n",
       "    </tr>\n",
       "    <tr>\n",
       "      <th>3</th>\n",
       "      <td>Paid</td>\n",
       "      <td>Berton</td>\n",
       "      <td>8708</td>\n",
       "    </tr>\n",
       "    <tr>\n",
       "      <th>4</th>\n",
       "      <td>Paid</td>\n",
       "      <td>Strark</td>\n",
       "      <td>12350</td>\n",
       "    </tr>\n",
       "  </tbody>\n",
       "</table>\n",
       "</div>"
      ],
      "text/plain": [
       "  signup_channel city_name  Total\n",
       "0        Organic    Berton   4249\n",
       "1        Organic    Strark   5668\n",
       "2        Organic   Wrouver    978\n",
       "3           Paid    Berton   8708\n",
       "4           Paid    Strark  12350"
      ]
     },
     "execution_count": 51,
     "metadata": {},
     "output_type": "execute_result"
    }
   ],
   "source": [
    "df_group1_freq = data.groupby(['signup_channel', 'city_name'])['signup_os'].count()\n",
    "df_group1_freq = df_group1_freq.reset_index()\n",
    "df_group1_freq.columns = ['signup_channel', 'city_name', 'Total']\n",
    "df_group1_freq.head()"
   ]
  },
  {
   "cell_type": "code",
   "execution_count": 53,
   "metadata": {
    "collapsed": false
   },
   "outputs": [
    {
     "data": {
      "text/html": [
       "<div>\n",
       "<table border=\"1\" class=\"dataframe\">\n",
       "  <thead>\n",
       "    <tr style=\"text-align: right;\">\n",
       "      <th></th>\n",
       "      <th>signup_channel</th>\n",
       "      <th>city_name</th>\n",
       "      <th>signup_os</th>\n",
       "      <th>Count</th>\n",
       "      <th>Total</th>\n",
       "    </tr>\n",
       "  </thead>\n",
       "  <tbody>\n",
       "    <tr>\n",
       "      <th>0</th>\n",
       "      <td>Organic</td>\n",
       "      <td>Berton</td>\n",
       "      <td>android web</td>\n",
       "      <td>1052</td>\n",
       "      <td>4249</td>\n",
       "    </tr>\n",
       "    <tr>\n",
       "      <th>1</th>\n",
       "      <td>Organic</td>\n",
       "      <td>Berton</td>\n",
       "      <td>ios web</td>\n",
       "      <td>1427</td>\n",
       "      <td>4249</td>\n",
       "    </tr>\n",
       "    <tr>\n",
       "      <th>2</th>\n",
       "      <td>Organic</td>\n",
       "      <td>Berton</td>\n",
       "      <td>mac</td>\n",
       "      <td>699</td>\n",
       "      <td>4249</td>\n",
       "    </tr>\n",
       "    <tr>\n",
       "      <th>3</th>\n",
       "      <td>Organic</td>\n",
       "      <td>Berton</td>\n",
       "      <td>other</td>\n",
       "      <td>374</td>\n",
       "      <td>4249</td>\n",
       "    </tr>\n",
       "    <tr>\n",
       "      <th>4</th>\n",
       "      <td>Organic</td>\n",
       "      <td>Berton</td>\n",
       "      <td>windows</td>\n",
       "      <td>697</td>\n",
       "      <td>4249</td>\n",
       "    </tr>\n",
       "    <tr>\n",
       "      <th>5</th>\n",
       "      <td>Organic</td>\n",
       "      <td>Strark</td>\n",
       "      <td>android web</td>\n",
       "      <td>1529</td>\n",
       "      <td>5668</td>\n",
       "    </tr>\n",
       "    <tr>\n",
       "      <th>6</th>\n",
       "      <td>Organic</td>\n",
       "      <td>Strark</td>\n",
       "      <td>ios web</td>\n",
       "      <td>1814</td>\n",
       "      <td>5668</td>\n",
       "    </tr>\n",
       "    <tr>\n",
       "      <th>7</th>\n",
       "      <td>Organic</td>\n",
       "      <td>Strark</td>\n",
       "      <td>mac</td>\n",
       "      <td>929</td>\n",
       "      <td>5668</td>\n",
       "    </tr>\n",
       "    <tr>\n",
       "      <th>8</th>\n",
       "      <td>Organic</td>\n",
       "      <td>Strark</td>\n",
       "      <td>other</td>\n",
       "      <td>430</td>\n",
       "      <td>5668</td>\n",
       "    </tr>\n",
       "    <tr>\n",
       "      <th>9</th>\n",
       "      <td>Organic</td>\n",
       "      <td>Strark</td>\n",
       "      <td>windows</td>\n",
       "      <td>966</td>\n",
       "      <td>5668</td>\n",
       "    </tr>\n",
       "  </tbody>\n",
       "</table>\n",
       "</div>"
      ],
      "text/plain": [
       "  signup_channel city_name    signup_os  Count  Total\n",
       "0        Organic    Berton  android web   1052   4249\n",
       "1        Organic    Berton      ios web   1427   4249\n",
       "2        Organic    Berton          mac    699   4249\n",
       "3        Organic    Berton        other    374   4249\n",
       "4        Organic    Berton      windows    697   4249\n",
       "5        Organic    Strark  android web   1529   5668\n",
       "6        Organic    Strark      ios web   1814   5668\n",
       "7        Organic    Strark          mac    929   5668\n",
       "8        Organic    Strark        other    430   5668\n",
       "9        Organic    Strark      windows    966   5668"
      ]
     },
     "execution_count": 53,
     "metadata": {},
     "output_type": "execute_result"
    }
   ],
   "source": [
    "df = pd.merge(df_group1, df_group1_freq, how = 'outer', on=['signup_channel', 'city_name'])\n",
    "df.head(10)"
   ]
  },
  {
   "cell_type": "code",
   "execution_count": 55,
   "metadata": {
    "collapsed": false
   },
   "outputs": [
    {
     "data": {
      "text/html": [
       "<div>\n",
       "<table border=\"1\" class=\"dataframe\">\n",
       "  <thead>\n",
       "    <tr style=\"text-align: right;\">\n",
       "      <th></th>\n",
       "      <th>signup_channel</th>\n",
       "      <th>city_name</th>\n",
       "      <th>signup_os</th>\n",
       "      <th>Count</th>\n",
       "      <th>Total</th>\n",
       "      <th>prob</th>\n",
       "    </tr>\n",
       "  </thead>\n",
       "  <tbody>\n",
       "    <tr>\n",
       "      <th>0</th>\n",
       "      <td>Organic</td>\n",
       "      <td>Berton</td>\n",
       "      <td>android web</td>\n",
       "      <td>1052</td>\n",
       "      <td>4249</td>\n",
       "      <td>0.247588</td>\n",
       "    </tr>\n",
       "    <tr>\n",
       "      <th>1</th>\n",
       "      <td>Organic</td>\n",
       "      <td>Berton</td>\n",
       "      <td>ios web</td>\n",
       "      <td>1427</td>\n",
       "      <td>4249</td>\n",
       "      <td>0.335844</td>\n",
       "    </tr>\n",
       "    <tr>\n",
       "      <th>2</th>\n",
       "      <td>Organic</td>\n",
       "      <td>Berton</td>\n",
       "      <td>mac</td>\n",
       "      <td>699</td>\n",
       "      <td>4249</td>\n",
       "      <td>0.164509</td>\n",
       "    </tr>\n",
       "    <tr>\n",
       "      <th>3</th>\n",
       "      <td>Organic</td>\n",
       "      <td>Berton</td>\n",
       "      <td>other</td>\n",
       "      <td>374</td>\n",
       "      <td>4249</td>\n",
       "      <td>0.088021</td>\n",
       "    </tr>\n",
       "    <tr>\n",
       "      <th>4</th>\n",
       "      <td>Organic</td>\n",
       "      <td>Berton</td>\n",
       "      <td>windows</td>\n",
       "      <td>697</td>\n",
       "      <td>4249</td>\n",
       "      <td>0.164039</td>\n",
       "    </tr>\n",
       "  </tbody>\n",
       "</table>\n",
       "</div>"
      ],
      "text/plain": [
       "  signup_channel city_name    signup_os  Count  Total      prob\n",
       "0        Organic    Berton  android web   1052   4249  0.247588\n",
       "1        Organic    Berton      ios web   1427   4249  0.335844\n",
       "2        Organic    Berton          mac    699   4249  0.164509\n",
       "3        Organic    Berton        other    374   4249  0.088021\n",
       "4        Organic    Berton      windows    697   4249  0.164039"
      ]
     },
     "execution_count": 55,
     "metadata": {},
     "output_type": "execute_result"
    }
   ],
   "source": [
    "df['prob'] = df['Count'] / df['Total']\n",
    "df.head()"
   ]
  },
  {
   "cell_type": "markdown",
   "metadata": {},
   "source": [
    "We have the probability calculated for each os in a group and we are ready to replace NaNs in 'signup_os' column"
   ]
  },
  {
   "cell_type": "markdown",
   "metadata": {},
   "source": [
    "Creating a Dataframe with group names and corresponding probabilities in the form of a dictionary to make the replacement process easy."
   ]
  },
  {
   "cell_type": "code",
   "execution_count": 56,
   "metadata": {
    "collapsed": false,
    "scrolled": true
   },
   "outputs": [
    {
     "data": {
      "text/html": [
       "<div>\n",
       "<table border=\"1\" class=\"dataframe\">\n",
       "  <thead>\n",
       "    <tr style=\"text-align: right;\">\n",
       "      <th></th>\n",
       "      <th>signup_channel</th>\n",
       "      <th>city_name</th>\n",
       "      <th>prob_dict</th>\n",
       "    </tr>\n",
       "  </thead>\n",
       "  <tbody>\n",
       "    <tr>\n",
       "      <th>0</th>\n",
       "      <td>Organic</td>\n",
       "      <td>Berton</td>\n",
       "      <td>{'windows': 0.16403859731701576, 'mac': 0.1645...</td>\n",
       "    </tr>\n",
       "    <tr>\n",
       "      <th>1</th>\n",
       "      <td>Organic</td>\n",
       "      <td>Strark</td>\n",
       "      <td>{'windows': 0.17043048694424842, 'mac': 0.1639...</td>\n",
       "    </tr>\n",
       "    <tr>\n",
       "      <th>2</th>\n",
       "      <td>Organic</td>\n",
       "      <td>Wrouver</td>\n",
       "      <td>{'windows': 0.20245398773006135, 'mac': 0.1717...</td>\n",
       "    </tr>\n",
       "    <tr>\n",
       "      <th>3</th>\n",
       "      <td>Paid</td>\n",
       "      <td>Berton</td>\n",
       "      <td>{'windows': 0.1619200734956362, 'mac': 0.11862...</td>\n",
       "    </tr>\n",
       "    <tr>\n",
       "      <th>4</th>\n",
       "      <td>Paid</td>\n",
       "      <td>Strark</td>\n",
       "      <td>{'windows': 0.1382995951417004, 'mac': 0.10615...</td>\n",
       "    </tr>\n",
       "    <tr>\n",
       "      <th>5</th>\n",
       "      <td>Paid</td>\n",
       "      <td>Wrouver</td>\n",
       "      <td>{'windows': 0.17680950666186532, 'mac': 0.0975...</td>\n",
       "    </tr>\n",
       "    <tr>\n",
       "      <th>6</th>\n",
       "      <td>Referral</td>\n",
       "      <td>Berton</td>\n",
       "      <td>{'windows': 0.09788308409399883, 'mac': 0.1118...</td>\n",
       "    </tr>\n",
       "    <tr>\n",
       "      <th>7</th>\n",
       "      <td>Referral</td>\n",
       "      <td>Strark</td>\n",
       "      <td>{'windows': 0.09795570698466781, 'mac': 0.1061...</td>\n",
       "    </tr>\n",
       "    <tr>\n",
       "      <th>8</th>\n",
       "      <td>Referral</td>\n",
       "      <td>Wrouver</td>\n",
       "      <td>{'windows': 0.12430632630410655, 'mac': 0.0987...</td>\n",
       "    </tr>\n",
       "  </tbody>\n",
       "</table>\n",
       "</div>"
      ],
      "text/plain": [
       "  signup_channel city_name                                          prob_dict\n",
       "0        Organic    Berton  {'windows': 0.16403859731701576, 'mac': 0.1645...\n",
       "1        Organic    Strark  {'windows': 0.17043048694424842, 'mac': 0.1639...\n",
       "2        Organic   Wrouver  {'windows': 0.20245398773006135, 'mac': 0.1717...\n",
       "3           Paid    Berton  {'windows': 0.1619200734956362, 'mac': 0.11862...\n",
       "4           Paid    Strark  {'windows': 0.1382995951417004, 'mac': 0.10615...\n",
       "5           Paid   Wrouver  {'windows': 0.17680950666186532, 'mac': 0.0975...\n",
       "6       Referral    Berton  {'windows': 0.09788308409399883, 'mac': 0.1118...\n",
       "7       Referral    Strark  {'windows': 0.09795570698466781, 'mac': 0.1061...\n",
       "8       Referral   Wrouver  {'windows': 0.12430632630410655, 'mac': 0.0987..."
      ]
     },
     "execution_count": 56,
     "metadata": {},
     "output_type": "execute_result"
    }
   ],
   "source": [
    "df_group1_prob_dict = df.groupby(['signup_channel', 'city_name']).apply(lambda x: { x1:y1 for x1, y1 in x[['signup_os', 'prob']].values}).reset_index()\n",
    "df_group1_prob_dict.columns = ['signup_channel', 'city_name', 'prob_dict']\n",
    "df_group1_prob_dict"
   ]
  },
  {
   "cell_type": "markdown",
   "metadata": {},
   "source": [
    "Creating a new copy of the dataframe to not directly apply the changes to the original dataframe so that we can start from here again when we mess any of the following steps. Like a checkpoint."
   ]
  },
  {
   "cell_type": "code",
   "execution_count": 57,
   "metadata": {
    "collapsed": true
   },
   "outputs": [],
   "source": [
    "dat = data.copy()"
   ]
  },
  {
   "cell_type": "code",
   "execution_count": 59,
   "metadata": {
    "collapsed": false
   },
   "outputs": [],
   "source": [
    "for index_, x in df_group1_prob_dict[['signup_channel', 'city_name', 'prob_dict']].iterrows():\n",
    "    \n",
    "    df_temp = dat.ix[(dat['signup_channel'] == x[0]) & (dat['city_name'] == x[1]) & dat['signup_os'].isnull(), 'signup_os']\n",
    "    \n",
    "    keys, values = zip(*x['prob_dict'].items())\n",
    "    \n",
    "    values_ = np.random.choice(keys, p = values, size = len(df_temp))\n",
    "    \n",
    "    dat.ix[(dat['signup_channel'] == x[0]) & (dat['city_name'] == x[1]) & dat['signup_os'].isnull(), 'signup_os'] = values_"
   ]
  },
  {
   "cell_type": "markdown",
   "metadata": {},
   "source": [
    "Check data count after replacement:"
   ]
  },
  {
   "cell_type": "code",
   "execution_count": 60,
   "metadata": {
    "collapsed": false
   },
   "outputs": [
    {
     "name": "stdout",
     "output_type": "stream",
     "text": [
      "city_name               1.000000\n",
      "signup_os               1.000000\n",
      "signup_channel          1.000000\n",
      "signup_date             1.000000\n",
      "bgc_date                0.601598\n",
      "first_completed_date    0.112233\n",
      "dtype: float64\n"
     ]
    }
   ],
   "source": [
    "data_percent = dat.count() / len(dat)\n",
    "print(data_percent)"
   ]
  },
  {
   "cell_type": "code",
   "execution_count": 61,
   "metadata": {
    "collapsed": false
   },
   "outputs": [
    {
     "data": {
      "text/plain": [
       "Series([], Name: signup_os, dtype: object)"
      ]
     },
     "execution_count": 61,
     "metadata": {},
     "output_type": "execute_result"
    }
   ],
   "source": [
    "dat.ix[(dat['signup_channel'] == 'Organic') & (dat['city_name'] == 'Berton') & dat['signup_os'].isnull(), 'signup_os']"
   ]
  },
  {
   "cell_type": "markdown",
   "metadata": {},
   "source": [
    "<b> The missing values on 'signup_os' has been replaced </b>"
   ]
  },
  {
   "cell_type": "markdown",
   "metadata": {},
   "source": [
    "Saving a backup file"
   ]
  },
  {
   "cell_type": "code",
   "execution_count": 62,
   "metadata": {
    "collapsed": true
   },
   "outputs": [],
   "source": [
    "dat.to_csv(\"./data/ds_challenge_replaced_signup_os.csv\")"
   ]
  },
  {
   "cell_type": "markdown",
   "metadata": {},
   "source": [
    "## Feature Engineering - 1:"
   ]
  },
  {
   "cell_type": "markdown",
   "metadata": {
    "collapsed": true
   },
   "source": [
    "We know that there missing values in bgc_date column. Since it is datetime variable, replacing NaNs directly may not be the best method to go forward. So here I am going to extract information from bgc_date and create new parameters. These parameters could be more helpful that bgc_date itself for modeling."
   ]
  },
  {
   "cell_type": "code",
   "execution_count": 344,
   "metadata": {
    "collapsed": false
   },
   "outputs": [],
   "source": [
    "# Run this to read the data from the backup\n",
    "dat = pd.read_csv(\"./data/ds_challenge_replaced_signup_os.csv\")\n",
    "dat['signup_date'] = pd.to_datetime(dat['signup_date'])\n",
    "dat['bgc_date'] = pd.to_datetime(dat['bgc_date'])\n",
    "dat['first_completed_date'] = pd.to_datetime(dat['first_completed_date'])                            "
   ]
  },
  {
   "cell_type": "code",
   "execution_count": 345,
   "metadata": {
    "collapsed": false
   },
   "outputs": [
    {
     "data": {
      "text/html": [
       "<div>\n",
       "<table border=\"1\" class=\"dataframe\">\n",
       "  <thead>\n",
       "    <tr style=\"text-align: right;\">\n",
       "      <th></th>\n",
       "      <th>id</th>\n",
       "      <th>city_name</th>\n",
       "      <th>signup_os</th>\n",
       "      <th>signup_channel</th>\n",
       "      <th>signup_date</th>\n",
       "      <th>bgc_date</th>\n",
       "      <th>first_completed_date</th>\n",
       "    </tr>\n",
       "  </thead>\n",
       "  <tbody>\n",
       "    <tr>\n",
       "      <th>0</th>\n",
       "      <td>1</td>\n",
       "      <td>Strark</td>\n",
       "      <td>ios web</td>\n",
       "      <td>Paid</td>\n",
       "      <td>2016-01-02</td>\n",
       "      <td>NaT</td>\n",
       "      <td>NaT</td>\n",
       "    </tr>\n",
       "    <tr>\n",
       "      <th>1</th>\n",
       "      <td>2</td>\n",
       "      <td>Strark</td>\n",
       "      <td>windows</td>\n",
       "      <td>Paid</td>\n",
       "      <td>2016-01-21</td>\n",
       "      <td>NaT</td>\n",
       "      <td>NaT</td>\n",
       "    </tr>\n",
       "    <tr>\n",
       "      <th>2</th>\n",
       "      <td>3</td>\n",
       "      <td>Wrouver</td>\n",
       "      <td>windows</td>\n",
       "      <td>Organic</td>\n",
       "      <td>2016-01-11</td>\n",
       "      <td>2016-01-11</td>\n",
       "      <td>NaT</td>\n",
       "    </tr>\n",
       "    <tr>\n",
       "      <th>3</th>\n",
       "      <td>4</td>\n",
       "      <td>Berton</td>\n",
       "      <td>android web</td>\n",
       "      <td>Referral</td>\n",
       "      <td>2016-01-29</td>\n",
       "      <td>2016-02-03</td>\n",
       "      <td>2016-02-03</td>\n",
       "    </tr>\n",
       "    <tr>\n",
       "      <th>4</th>\n",
       "      <td>5</td>\n",
       "      <td>Strark</td>\n",
       "      <td>android web</td>\n",
       "      <td>Referral</td>\n",
       "      <td>2016-01-10</td>\n",
       "      <td>2016-01-25</td>\n",
       "      <td>NaT</td>\n",
       "    </tr>\n",
       "  </tbody>\n",
       "</table>\n",
       "</div>"
      ],
      "text/plain": [
       "   id city_name    signup_os signup_channel signup_date   bgc_date  \\\n",
       "0   1    Strark      ios web           Paid  2016-01-02        NaT   \n",
       "1   2    Strark      windows           Paid  2016-01-21        NaT   \n",
       "2   3   Wrouver      windows        Organic  2016-01-11 2016-01-11   \n",
       "3   4    Berton  android web       Referral  2016-01-29 2016-02-03   \n",
       "4   5    Strark  android web       Referral  2016-01-10 2016-01-25   \n",
       "\n",
       "  first_completed_date  \n",
       "0                  NaT  \n",
       "1                  NaT  \n",
       "2                  NaT  \n",
       "3           2016-02-03  \n",
       "4                  NaT  "
      ]
     },
     "execution_count": 345,
     "metadata": {},
     "output_type": "execute_result"
    }
   ],
   "source": [
    "dat.head()"
   ]
  },
  {
   "cell_type": "markdown",
   "metadata": {
    "collapsed": true
   },
   "source": [
    "The signup_date is a datetime variable and might be correlated with bgc_date in different ways such as day, month, etc. So lets add new variables and check for correlation and will use them for modeling if correlated to the target variable."
   ]
  },
  {
   "cell_type": "code",
   "execution_count": 346,
   "metadata": {
    "collapsed": false
   },
   "outputs": [],
   "source": [
    "dat['signup_day'] = [x.weekday() for x in dat.signup_date]\n",
    "dat['signup_month'] = [x.month for x in dat.signup_date]"
   ]
  },
  {
   "cell_type": "markdown",
   "metadata": {},
   "source": [
    "Let's assume that when 'first_completed_date' is NaT then the driver didnt start driving after signup (0) and when there is a date then the driver started driving after signup.\n",
    "\n",
    "Instead of using 'first_completed_date' as the target variable, which is in datetime format, lets make it simple by creating a new (binary) variable 'target' from 'first_completed_date'<br>\n",
    "Target = 0 ( 'first_completed_date' is NaT ) <br>\n",
    "Target = 1 ( 'first_completed_date' is a date )"
   ]
  },
  {
   "cell_type": "code",
   "execution_count": 347,
   "metadata": {
    "collapsed": false
   },
   "outputs": [],
   "source": [
    "dat.ix[dat['first_completed_date'].isnull(), 'Target'] = 0\n",
    "dat.ix[dat['first_completed_date'].notnull(), 'Target'] = 1"
   ]
  },
  {
   "cell_type": "code",
   "execution_count": 319,
   "metadata": {
    "collapsed": false,
    "scrolled": true
   },
   "outputs": [
    {
     "data": {
      "text/html": [
       "<div>\n",
       "<table border=\"1\" class=\"dataframe\">\n",
       "  <thead>\n",
       "    <tr style=\"text-align: right;\">\n",
       "      <th></th>\n",
       "      <th>id</th>\n",
       "      <th>city_name</th>\n",
       "      <th>signup_os</th>\n",
       "      <th>signup_channel</th>\n",
       "      <th>signup_date</th>\n",
       "      <th>bgc_date</th>\n",
       "      <th>first_completed_date</th>\n",
       "      <th>signup_day</th>\n",
       "      <th>signup_month</th>\n",
       "      <th>Target</th>\n",
       "    </tr>\n",
       "  </thead>\n",
       "  <tbody>\n",
       "    <tr>\n",
       "      <th>0</th>\n",
       "      <td>1</td>\n",
       "      <td>Strark</td>\n",
       "      <td>ios web</td>\n",
       "      <td>Paid</td>\n",
       "      <td>2016-01-02</td>\n",
       "      <td>NaT</td>\n",
       "      <td>NaT</td>\n",
       "      <td>5</td>\n",
       "      <td>1</td>\n",
       "      <td>0.0</td>\n",
       "    </tr>\n",
       "    <tr>\n",
       "      <th>1</th>\n",
       "      <td>2</td>\n",
       "      <td>Strark</td>\n",
       "      <td>windows</td>\n",
       "      <td>Paid</td>\n",
       "      <td>2016-01-21</td>\n",
       "      <td>NaT</td>\n",
       "      <td>NaT</td>\n",
       "      <td>3</td>\n",
       "      <td>1</td>\n",
       "      <td>0.0</td>\n",
       "    </tr>\n",
       "    <tr>\n",
       "      <th>2</th>\n",
       "      <td>3</td>\n",
       "      <td>Wrouver</td>\n",
       "      <td>windows</td>\n",
       "      <td>Organic</td>\n",
       "      <td>2016-01-11</td>\n",
       "      <td>2016-01-11</td>\n",
       "      <td>NaT</td>\n",
       "      <td>0</td>\n",
       "      <td>1</td>\n",
       "      <td>0.0</td>\n",
       "    </tr>\n",
       "    <tr>\n",
       "      <th>3</th>\n",
       "      <td>4</td>\n",
       "      <td>Berton</td>\n",
       "      <td>android web</td>\n",
       "      <td>Referral</td>\n",
       "      <td>2016-01-29</td>\n",
       "      <td>2016-02-03</td>\n",
       "      <td>2016-02-03</td>\n",
       "      <td>4</td>\n",
       "      <td>1</td>\n",
       "      <td>1.0</td>\n",
       "    </tr>\n",
       "    <tr>\n",
       "      <th>4</th>\n",
       "      <td>5</td>\n",
       "      <td>Strark</td>\n",
       "      <td>android web</td>\n",
       "      <td>Referral</td>\n",
       "      <td>2016-01-10</td>\n",
       "      <td>2016-01-25</td>\n",
       "      <td>NaT</td>\n",
       "      <td>6</td>\n",
       "      <td>1</td>\n",
       "      <td>0.0</td>\n",
       "    </tr>\n",
       "    <tr>\n",
       "      <th>5</th>\n",
       "      <td>6</td>\n",
       "      <td>Strark</td>\n",
       "      <td>android web</td>\n",
       "      <td>Referral</td>\n",
       "      <td>2016-01-18</td>\n",
       "      <td>2016-01-18</td>\n",
       "      <td>NaT</td>\n",
       "      <td>0</td>\n",
       "      <td>1</td>\n",
       "      <td>0.0</td>\n",
       "    </tr>\n",
       "    <tr>\n",
       "      <th>6</th>\n",
       "      <td>7</td>\n",
       "      <td>Strark</td>\n",
       "      <td>ios web</td>\n",
       "      <td>Paid</td>\n",
       "      <td>2016-01-14</td>\n",
       "      <td>2016-01-16</td>\n",
       "      <td>2016-01-23</td>\n",
       "      <td>3</td>\n",
       "      <td>1</td>\n",
       "      <td>1.0</td>\n",
       "    </tr>\n",
       "    <tr>\n",
       "      <th>7</th>\n",
       "      <td>8</td>\n",
       "      <td>Strark</td>\n",
       "      <td>ios web</td>\n",
       "      <td>Referral</td>\n",
       "      <td>2016-01-26</td>\n",
       "      <td>2016-02-05</td>\n",
       "      <td>NaT</td>\n",
       "      <td>1</td>\n",
       "      <td>1</td>\n",
       "      <td>0.0</td>\n",
       "    </tr>\n",
       "    <tr>\n",
       "      <th>8</th>\n",
       "      <td>9</td>\n",
       "      <td>Strark</td>\n",
       "      <td>mac</td>\n",
       "      <td>Referral</td>\n",
       "      <td>2016-01-05</td>\n",
       "      <td>NaT</td>\n",
       "      <td>NaT</td>\n",
       "      <td>1</td>\n",
       "      <td>1</td>\n",
       "      <td>0.0</td>\n",
       "    </tr>\n",
       "    <tr>\n",
       "      <th>9</th>\n",
       "      <td>10</td>\n",
       "      <td>Berton</td>\n",
       "      <td>ios web</td>\n",
       "      <td>Paid</td>\n",
       "      <td>2016-01-25</td>\n",
       "      <td>NaT</td>\n",
       "      <td>NaT</td>\n",
       "      <td>0</td>\n",
       "      <td>1</td>\n",
       "      <td>0.0</td>\n",
       "    </tr>\n",
       "  </tbody>\n",
       "</table>\n",
       "</div>"
      ],
      "text/plain": [
       "   id city_name    signup_os signup_channel signup_date   bgc_date  \\\n",
       "0   1    Strark      ios web           Paid  2016-01-02        NaT   \n",
       "1   2    Strark      windows           Paid  2016-01-21        NaT   \n",
       "2   3   Wrouver      windows        Organic  2016-01-11 2016-01-11   \n",
       "3   4    Berton  android web       Referral  2016-01-29 2016-02-03   \n",
       "4   5    Strark  android web       Referral  2016-01-10 2016-01-25   \n",
       "5   6    Strark  android web       Referral  2016-01-18 2016-01-18   \n",
       "6   7    Strark      ios web           Paid  2016-01-14 2016-01-16   \n",
       "7   8    Strark      ios web       Referral  2016-01-26 2016-02-05   \n",
       "8   9    Strark          mac       Referral  2016-01-05        NaT   \n",
       "9  10    Berton      ios web           Paid  2016-01-25        NaT   \n",
       "\n",
       "  first_completed_date  signup_day  signup_month  Target  \n",
       "0                  NaT           5             1     0.0  \n",
       "1                  NaT           3             1     0.0  \n",
       "2                  NaT           0             1     0.0  \n",
       "3           2016-02-03           4             1     1.0  \n",
       "4                  NaT           6             1     0.0  \n",
       "5                  NaT           0             1     0.0  \n",
       "6           2016-01-23           3             1     1.0  \n",
       "7                  NaT           1             1     0.0  \n",
       "8                  NaT           1             1     0.0  \n",
       "9                  NaT           0             1     0.0  "
      ]
     },
     "execution_count": 319,
     "metadata": {},
     "output_type": "execute_result"
    }
   ],
   "source": [
    "dat.head(10)"
   ]
  },
  {
   "cell_type": "markdown",
   "metadata": {},
   "source": [
    "Lets also include the number of days taken to give persmission for background check ('days_bgc') and number of days taken to drive since background check ('days_drive')"
   ]
  },
  {
   "cell_type": "code",
   "execution_count": 348,
   "metadata": {
    "collapsed": true
   },
   "outputs": [],
   "source": [
    "dat['days_bgc'] = dat['bgc_date'] - dat['signup_date']\n",
    "dat['days_drive'] = dat['first_completed_date'] - dat['bgc_date']"
   ]
  },
  {
   "cell_type": "markdown",
   "metadata": {},
   "source": [
    "Now the columns 'signup_date', 'bgc_date', and 'first_completed_date' can be deleted as we have transformed the key information from them into new (simple) parameters"
   ]
  },
  {
   "cell_type": "code",
   "execution_count": 349,
   "metadata": {
    "collapsed": false
   },
   "outputs": [],
   "source": [
    "dat.drop(['signup_date', 'bgc_date', 'first_completed_date'], inplace = True, axis = 1)"
   ]
  },
  {
   "cell_type": "code",
   "execution_count": 322,
   "metadata": {
    "collapsed": false
   },
   "outputs": [
    {
     "data": {
      "text/html": [
       "<div>\n",
       "<table border=\"1\" class=\"dataframe\">\n",
       "  <thead>\n",
       "    <tr style=\"text-align: right;\">\n",
       "      <th></th>\n",
       "      <th>id</th>\n",
       "      <th>city_name</th>\n",
       "      <th>signup_os</th>\n",
       "      <th>signup_channel</th>\n",
       "      <th>signup_day</th>\n",
       "      <th>signup_month</th>\n",
       "      <th>Target</th>\n",
       "      <th>days_bgc</th>\n",
       "      <th>days_drive</th>\n",
       "    </tr>\n",
       "  </thead>\n",
       "  <tbody>\n",
       "    <tr>\n",
       "      <th>0</th>\n",
       "      <td>1</td>\n",
       "      <td>Strark</td>\n",
       "      <td>ios web</td>\n",
       "      <td>Paid</td>\n",
       "      <td>5</td>\n",
       "      <td>1</td>\n",
       "      <td>0.0</td>\n",
       "      <td>NaT</td>\n",
       "      <td>NaT</td>\n",
       "    </tr>\n",
       "    <tr>\n",
       "      <th>1</th>\n",
       "      <td>2</td>\n",
       "      <td>Strark</td>\n",
       "      <td>windows</td>\n",
       "      <td>Paid</td>\n",
       "      <td>3</td>\n",
       "      <td>1</td>\n",
       "      <td>0.0</td>\n",
       "      <td>NaT</td>\n",
       "      <td>NaT</td>\n",
       "    </tr>\n",
       "    <tr>\n",
       "      <th>2</th>\n",
       "      <td>3</td>\n",
       "      <td>Wrouver</td>\n",
       "      <td>windows</td>\n",
       "      <td>Organic</td>\n",
       "      <td>0</td>\n",
       "      <td>1</td>\n",
       "      <td>0.0</td>\n",
       "      <td>0 days</td>\n",
       "      <td>NaT</td>\n",
       "    </tr>\n",
       "    <tr>\n",
       "      <th>3</th>\n",
       "      <td>4</td>\n",
       "      <td>Berton</td>\n",
       "      <td>android web</td>\n",
       "      <td>Referral</td>\n",
       "      <td>4</td>\n",
       "      <td>1</td>\n",
       "      <td>1.0</td>\n",
       "      <td>5 days</td>\n",
       "      <td>0 days</td>\n",
       "    </tr>\n",
       "    <tr>\n",
       "      <th>4</th>\n",
       "      <td>5</td>\n",
       "      <td>Strark</td>\n",
       "      <td>android web</td>\n",
       "      <td>Referral</td>\n",
       "      <td>6</td>\n",
       "      <td>1</td>\n",
       "      <td>0.0</td>\n",
       "      <td>15 days</td>\n",
       "      <td>NaT</td>\n",
       "    </tr>\n",
       "    <tr>\n",
       "      <th>5</th>\n",
       "      <td>6</td>\n",
       "      <td>Strark</td>\n",
       "      <td>android web</td>\n",
       "      <td>Referral</td>\n",
       "      <td>0</td>\n",
       "      <td>1</td>\n",
       "      <td>0.0</td>\n",
       "      <td>0 days</td>\n",
       "      <td>NaT</td>\n",
       "    </tr>\n",
       "    <tr>\n",
       "      <th>6</th>\n",
       "      <td>7</td>\n",
       "      <td>Strark</td>\n",
       "      <td>ios web</td>\n",
       "      <td>Paid</td>\n",
       "      <td>3</td>\n",
       "      <td>1</td>\n",
       "      <td>1.0</td>\n",
       "      <td>2 days</td>\n",
       "      <td>7 days</td>\n",
       "    </tr>\n",
       "    <tr>\n",
       "      <th>7</th>\n",
       "      <td>8</td>\n",
       "      <td>Strark</td>\n",
       "      <td>ios web</td>\n",
       "      <td>Referral</td>\n",
       "      <td>1</td>\n",
       "      <td>1</td>\n",
       "      <td>0.0</td>\n",
       "      <td>10 days</td>\n",
       "      <td>NaT</td>\n",
       "    </tr>\n",
       "    <tr>\n",
       "      <th>8</th>\n",
       "      <td>9</td>\n",
       "      <td>Strark</td>\n",
       "      <td>mac</td>\n",
       "      <td>Referral</td>\n",
       "      <td>1</td>\n",
       "      <td>1</td>\n",
       "      <td>0.0</td>\n",
       "      <td>NaT</td>\n",
       "      <td>NaT</td>\n",
       "    </tr>\n",
       "    <tr>\n",
       "      <th>9</th>\n",
       "      <td>10</td>\n",
       "      <td>Berton</td>\n",
       "      <td>ios web</td>\n",
       "      <td>Paid</td>\n",
       "      <td>0</td>\n",
       "      <td>1</td>\n",
       "      <td>0.0</td>\n",
       "      <td>NaT</td>\n",
       "      <td>NaT</td>\n",
       "    </tr>\n",
       "  </tbody>\n",
       "</table>\n",
       "</div>"
      ],
      "text/plain": [
       "   id city_name    signup_os signup_channel  signup_day  signup_month  Target  \\\n",
       "0   1    Strark      ios web           Paid           5             1     0.0   \n",
       "1   2    Strark      windows           Paid           3             1     0.0   \n",
       "2   3   Wrouver      windows        Organic           0             1     0.0   \n",
       "3   4    Berton  android web       Referral           4             1     1.0   \n",
       "4   5    Strark  android web       Referral           6             1     0.0   \n",
       "5   6    Strark  android web       Referral           0             1     0.0   \n",
       "6   7    Strark      ios web           Paid           3             1     1.0   \n",
       "7   8    Strark      ios web       Referral           1             1     0.0   \n",
       "8   9    Strark          mac       Referral           1             1     0.0   \n",
       "9  10    Berton      ios web           Paid           0             1     0.0   \n",
       "\n",
       "   days_bgc  days_drive  \n",
       "0       NaT         NaT  \n",
       "1       NaT         NaT  \n",
       "2    0 days         NaT  \n",
       "3    5 days      0 days  \n",
       "4   15 days         NaT  \n",
       "5    0 days         NaT  \n",
       "6    2 days      7 days  \n",
       "7   10 days         NaT  \n",
       "8       NaT         NaT  \n",
       "9       NaT         NaT  "
      ]
     },
     "execution_count": 322,
     "metadata": {},
     "output_type": "execute_result"
    }
   ],
   "source": [
    "dat.head(10)"
   ]
  },
  {
   "cell_type": "markdown",
   "metadata": {},
   "source": [
    "## Data Exploration-3:"
   ]
  },
  {
   "cell_type": "markdown",
   "metadata": {},
   "source": [
    "As we have added new engineered parameters to the dataset, it is important to understand the dataset again to know the impact/importance of new parameters."
   ]
  },
  {
   "cell_type": "markdown",
   "metadata": {},
   "source": [
    "### Explore 'signup_month' parameter:"
   ]
  },
  {
   "cell_type": "code",
   "execution_count": 350,
   "metadata": {
    "collapsed": false
   },
   "outputs": [
    {
     "data": {
      "text/plain": [
       "array([1], dtype=int64)"
      ]
     },
     "execution_count": 350,
     "metadata": {},
     "output_type": "execute_result"
    }
   ],
   "source": [
    "dat.signup_month.unique()"
   ]
  },
  {
   "cell_type": "markdown",
   "metadata": {},
   "source": [
    "All are signed up in the same month so signup month is not a good predictor. Lets delete."
   ]
  },
  {
   "cell_type": "code",
   "execution_count": 351,
   "metadata": {
    "collapsed": true
   },
   "outputs": [],
   "source": [
    "del dat['signup_month']"
   ]
  },
  {
   "cell_type": "markdown",
   "metadata": {},
   "source": [
    "### Explore 'signup_day' parameter:"
   ]
  },
  {
   "cell_type": "code",
   "execution_count": 352,
   "metadata": {
    "collapsed": false
   },
   "outputs": [
    {
     "data": {
      "text/plain": [
       "array([5, 3, 0, 4, 6, 1, 2], dtype=int64)"
      ]
     },
     "execution_count": 352,
     "metadata": {},
     "output_type": "execute_result"
    }
   ],
   "source": [
    "dat.signup_day.unique()"
   ]
  },
  {
   "cell_type": "markdown",
   "metadata": {},
   "source": [
    "The numbers from 0 - 6 represents the weekdays"
   ]
  },
  {
   "cell_type": "code",
   "execution_count": 353,
   "metadata": {
    "collapsed": false
   },
   "outputs": [
    {
     "data": {
      "text/plain": [
       "(array([ 0.,  1.,  2.,  3.,  4.,  5.,  6.]),\n",
       " <a list of 7 Text xticklabel objects>)"
      ]
     },
     "execution_count": 353,
     "metadata": {},
     "output_type": "execute_result"
    },
    {
     "data": {
      "image/png": "[encoded data removed]",
      "text/plain": [
       "<matplotlib.figure.Figure at 0x1abe2f18b00>"
      ]
     },
     "metadata": {},
     "output_type": "display_data"
    }
   ],
   "source": [
    "fig, (ax1, ax2) = plt.subplots(2, sharex = True, figsize = (4, 6.5) )\n",
    "sns.distplot(dat.ix[dat.Target == 0, 'signup_day'], color = 'r', kde=False, ax = ax1  )\n",
    "sns.distplot(dat.ix[dat.Target == 1, 'signup_day'], color = 'b', kde=False, ax = ax2 )\n",
    "ax1.set_ylabel('Count')\n",
    "ax1.set_xlabel('')\n",
    "ax1.set_title('Target = 0')\n",
    "ax2.set_ylabel('Count')\n",
    "ax2.set_title('Target = 1')\n",
    "ax2.set_xticklabels(['Monday', 'Tuesday', 'Wednesday', 'Thursday', 'Friday', 'Saturday', 'Sunday'])\n",
    "plt.xticks(rotation=50)"
   ]
  },
  {
   "cell_type": "markdown",
   "metadata": {},
   "source": [
    "The above plot clearly shows that the signup weekday may not be a good predictor of the target variable. So lets delete."
   ]
  },
  {
   "cell_type": "code",
   "execution_count": 354,
   "metadata": {
    "collapsed": true
   },
   "outputs": [],
   "source": [
    "del dat['signup_day']"
   ]
  },
  {
   "cell_type": "code",
   "execution_count": 355,
   "metadata": {
    "collapsed": true
   },
   "outputs": [],
   "source": [
    "def time_delta_int(x):\n",
    "    try:\n",
    "        return x.days\n",
    "    except:\n",
    "        return np.NaN"
   ]
  },
  {
   "cell_type": "markdown",
   "metadata": {},
   "source": [
    "time_delta_int() function is applied to columns 'days_bgc' and 'days_drive' to convert the data in datetime format (days) into numerical values (days)"
   ]
  },
  {
   "cell_type": "code",
   "execution_count": 356,
   "metadata": {
    "collapsed": false
   },
   "outputs": [],
   "source": [
    "dat['days_bgc'] = dat['days_bgc'].apply(time_delta_int)\n",
    "dat['days_drive'] = dat['days_drive'].apply(time_delta_int)"
   ]
  },
  {
   "cell_type": "markdown",
   "metadata": {},
   "source": [
    "### Explore 'days_drive' parameter:"
   ]
  },
  {
   "cell_type": "code",
   "execution_count": 357,
   "metadata": {
    "collapsed": false,
    "scrolled": false
   },
   "outputs": [
    {
     "data": {
      "text/plain": [
       "<matplotlib.axes._subplots.AxesSubplot at 0x1abddfaf898>"
      ]
     },
     "execution_count": 357,
     "metadata": {},
     "output_type": "execute_result"
    },
    {
     "data": {
      "image/png": "[encoded data removed]",
      "text/plain": [
       "<matplotlib.figure.Figure at 0x1abe3fa8940>"
      ]
     },
     "metadata": {},
     "output_type": "display_data"
    }
   ],
   "source": [
    "fig, (ax1, ax2) = plt.subplots(2, figsize = (6, 8) )\n",
    "dat.ix[ dat.Target == 0, 'days_drive'].plot.hist(bins = 100, ax = ax1 )\n",
    "dat.ix[ dat.Target == 1, 'days_drive'].plot.hist(bins = 100, ax = ax2 )"
   ]
  },
  {
   "cell_type": "markdown",
   "metadata": {},
   "source": [
    "This could be a good predictor of the target."
   ]
  },
  {
   "cell_type": "code",
   "execution_count": 358,
   "metadata": {
    "collapsed": false
   },
   "outputs": [
    {
     "data": {
      "text/plain": [
       "array([ nan])"
      ]
     },
     "execution_count": 358,
     "metadata": {},
     "output_type": "execute_result"
    }
   ],
   "source": [
    "dat.ix[ dat.Target == 0, 'days_drive'].unique()"
   ]
  },
  {
   "cell_type": "markdown",
   "metadata": {
    "collapsed": true
   },
   "source": [
    "As expected, the no. of days to drive since bgc is NaN when the target is 0. Data integrity is maintained here. \n",
    "To cleanup and for modeling purposes, lets replace all NaNs with -1"
   ]
  },
  {
   "cell_type": "code",
   "execution_count": 363,
   "metadata": {
    "collapsed": false
   },
   "outputs": [
    {
     "data": {
      "text/plain": [
       "0   -1.0\n",
       "1   -1.0\n",
       "2   -1.0\n",
       "4   -1.0\n",
       "5   -1.0\n",
       "Name: days_drive, dtype: float64"
      ]
     },
     "execution_count": 363,
     "metadata": {},
     "output_type": "execute_result"
    }
   ],
   "source": [
    "dat.ix[dat.Target == 0, 'days_drive'] = dat.ix[dat.Target == 0, 'days_drive'].fillna(-1)\n",
    "dat.ix[dat.Target == 0, 'days_drive'].head()"
   ]
  },
  {
   "cell_type": "markdown",
   "metadata": {},
   "source": [
    "When the target is 1, the no. of days to drive since bgc has a chi-squared distribution (refer to the previous plot). However, there are some negative values in the data which implies that the driver has started driving even before the bgc approval. The best way to handle this is to just drop them, as they are significantly less. For this case, lets replace all NaNs with 0"
   ]
  },
  {
   "cell_type": "markdown",
   "metadata": {},
   "source": [
    "Count of missing values in days_drive when the target = 1"
   ]
  },
  {
   "cell_type": "code",
   "execution_count": 364,
   "metadata": {
    "collapsed": false
   },
   "outputs": [
    {
     "data": {
      "text/plain": [
       "id                33\n",
       "city_name         33\n",
       "signup_os         33\n",
       "signup_channel    33\n",
       "Target            33\n",
       "days_bgc          33\n",
       "days_drive        33\n",
       "dtype: int64"
      ]
     },
     "execution_count": 364,
     "metadata": {},
     "output_type": "execute_result"
    }
   ],
   "source": [
    "dat.ix[ (dat.Target == 1) & (dat.days_drive < 0)].count()"
   ]
  },
  {
   "cell_type": "markdown",
   "metadata": {},
   "source": [
    "Drop rows with days_drive as negative and target = 1"
   ]
  },
  {
   "cell_type": "code",
   "execution_count": 370,
   "metadata": {
    "collapsed": false
   },
   "outputs": [],
   "source": [
    "index_drop = dat.ix[(dat.Target == 1) & (dat.days_drive < 0)].index.values\n",
    "dat.drop( dat.index[index_drop], inplace = True )\n",
    "dat = dat.reset_index(drop = True)"
   ]
  },
  {
   "cell_type": "code",
   "execution_count": 371,
   "metadata": {
    "collapsed": false,
    "scrolled": true
   },
   "outputs": [
    {
     "data": {
      "text/plain": [
       "id                0\n",
       "city_name         0\n",
       "signup_os         0\n",
       "signup_channel    0\n",
       "Target            0\n",
       "days_bgc          0\n",
       "days_drive        0\n",
       "dtype: int64"
      ]
     },
     "execution_count": 371,
     "metadata": {},
     "output_type": "execute_result"
    }
   ],
   "source": [
    "dat.ix[ (dat.Target == 1) & (dat.days_drive < 0)].count()"
   ]
  },
  {
   "cell_type": "markdown",
   "metadata": {},
   "source": [
    "Let's plot again to check the data:"
   ]
  },
  {
   "cell_type": "code",
   "execution_count": 373,
   "metadata": {
    "collapsed": false
   },
   "outputs": [
    {
     "data": {
      "text/plain": [
       "<matplotlib.axes._subplots.AxesSubplot at 0x1abe2b93c50>"
      ]
     },
     "execution_count": 373,
     "metadata": {},
     "output_type": "execute_result"
    },
    {
     "data": {
      "image/png": "[encoded data removed]",
      "text/plain": [
       "<matplotlib.figure.Figure at 0x1abe19d2908>"
      ]
     },
     "metadata": {},
     "output_type": "display_data"
    }
   ],
   "source": [
    "fig, (ax1, ax2) = plt.subplots(2, figsize = (6, 8) )\n",
    "dat.ix[ dat.Target == 0, 'days_drive'].plot.hist(bins = 100, ax = ax1 )\n",
    "dat.ix[ dat.Target == 1, 'days_drive'].plot.hist(bins = 100, ax = ax2 )"
   ]
  },
  {
   "cell_type": "code",
   "execution_count": 374,
   "metadata": {
    "collapsed": false,
    "scrolled": false
   },
   "outputs": [
    {
     "data": {
      "text/plain": [
       "id                1.000000\n",
       "city_name         1.000000\n",
       "signup_os         1.000000\n",
       "signup_channel    1.000000\n",
       "Target            1.000000\n",
       "days_bgc          0.601358\n",
       "days_drive        1.000000\n",
       "dtype: float64"
      ]
     },
     "execution_count": 374,
     "metadata": {},
     "output_type": "execute_result"
    }
   ],
   "source": [
    "dat.count() / len(dat)"
   ]
  },
  {
   "cell_type": "code",
   "execution_count": 375,
   "metadata": {
    "collapsed": true
   },
   "outputs": [],
   "source": [
    "# Saving a backup\n",
    "dat.to_csv(\"./data/ds_challenge_replaced_days_drive.csv\", index = False)"
   ]
  },
  {
   "cell_type": "markdown",
   "metadata": {},
   "source": [
    "### Explore 'days_bgc' parameter:"
   ]
  },
  {
   "cell_type": "code",
   "execution_count": 497,
   "metadata": {
    "collapsed": false
   },
   "outputs": [],
   "source": [
    "# reload data if needed\n",
    "dat = pd.read_csv(\"./data/ds_challenge_replaced_days_drive.csv\")\n",
    "try:\n",
    "    del dat['Unnamed: 0']"
   ]
  },
  {
   "cell_type": "markdown",
   "metadata": {},
   "source": [
    "Plotting the data for a particular case:"
   ]
  },
  {
   "cell_type": "code",
   "execution_count": 498,
   "metadata": {
    "collapsed": false
   },
   "outputs": [
    {
     "data": {
      "text/plain": [
       "<matplotlib.text.Text at 0x1ab97cdefd0>"
      ]
     },
     "execution_count": 498,
     "metadata": {},
     "output_type": "execute_result"
    },
    {
     "data": {
      "image/png": "[encoded data removed]",
      "text/plain": [
       "<matplotlib.figure.Figure at 0x1abdc3fde10>"
      ]
     },
     "metadata": {},
     "output_type": "display_data"
    }
   ],
   "source": [
    "fig, (ax1, ax2) = plt.subplots(2, sharex = True, figsize = (6, 8) )\n",
    "dat.ix[ dat.Target == 0, 'days_bgc'].plot.hist(bins = 60, ax = ax1, color = 'red', alpha = 0.7 )\n",
    "dat.ix[ dat.Target == 1, 'days_bgc'].plot.hist(bins = 40, ax = ax2, color = 'blue', alpha = 0.7 )\n",
    "ax1.set_ylabel('Count')\n",
    "ax1.set_title('Target = 0')\n",
    "ax2.set_ylabel('Count')\n",
    "ax2.set_title('Target = 1')\n",
    "ax2.set_xlabel('Days tooks for bgc since signup date')"
   ]
  },
  {
   "cell_type": "markdown",
   "metadata": {},
   "source": [
    "From the above plot, it is obvious that as the number of days since the signup increases the probability of getting background check approval (and drive) falls exponentially.\n",
    "\n",
    "From the training set, if the days_bgc < 25 there is a finite probability, although negligible, that the candidate will give approval for the backgroud check. However, after ~25 days it is highly unlikely to get approval for bgc.\n",
    "\n",
    "Hence this parameter could be a good predictor of the target"
   ]
  },
  {
   "cell_type": "markdown",
   "metadata": {},
   "source": [
    "## Data cleaning - 2:"
   ]
  },
  {
   "cell_type": "markdown",
   "metadata": {},
   "source": [
    "### Clean days_bgc:"
   ]
  },
  {
   "cell_type": "markdown",
   "metadata": {
    "collapsed": true
   },
   "source": [
    "Time to replace NaNs in days_bgc columns"
   ]
  },
  {
   "cell_type": "code",
   "execution_count": 499,
   "metadata": {
    "collapsed": false
   },
   "outputs": [
    {
     "data": {
      "text/plain": [
       "Unnamed: 0        1.000000\n",
       "id                1.000000\n",
       "city_name         1.000000\n",
       "signup_os         1.000000\n",
       "signup_channel    1.000000\n",
       "Target            1.000000\n",
       "days_bgc          0.601358\n",
       "days_drive        1.000000\n",
       "dtype: float64"
      ]
     },
     "execution_count": 499,
     "metadata": {},
     "output_type": "execute_result"
    }
   ],
   "source": [
    "dat.count() / len(dat)"
   ]
  },
  {
   "cell_type": "markdown",
   "metadata": {},
   "source": [
    "Approximately 40% of the data are missing in the days_bgc column"
   ]
  },
  {
   "cell_type": "markdown",
   "metadata": {},
   "source": [
    "We have significant difference in 'days_bgc' (exponential-decay rate) when target = 0 compared to the other case (refer previous plot). So this would be helpful to replace the NaNs in the dataset more accurately. "
   ]
  },
  {
   "cell_type": "markdown",
   "metadata": {},
   "source": [
    "Creating a matrix with mean days_bgc for each group:"
   ]
  },
  {
   "cell_type": "code",
   "execution_count": 500,
   "metadata": {
    "collapsed": false,
    "scrolled": true
   },
   "outputs": [
    {
     "name": "stdout",
     "output_type": "stream",
     "text": [
      "  city_name    signup_os signup_channel  Target  days_bgc\n",
      "0    Berton  android web        Organic     0.0        11\n",
      "1    Berton  android web        Organic     1.0         3\n",
      "2    Berton  android web           Paid     0.0        11\n",
      "3    Berton  android web           Paid     1.0         3\n",
      "4    Berton  android web       Referral     0.0        11\n",
      "5    Berton  android web       Referral     1.0         3\n",
      "6    Berton      ios web        Organic     0.0        11\n",
      "7    Berton      ios web        Organic     1.0         3\n",
      "8    Berton      ios web           Paid     0.0        11\n",
      "9    Berton      ios web           Paid     1.0         2\n",
      "(90, 5)\n"
     ]
    }
   ],
   "source": [
    "days_bgc_freq_table = dat.groupby(['city_name', 'signup_os', 'signup_channel', 'Target'])['days_bgc'].mean().astype(int).reset_index()\n",
    "print(days_bgc_freq_table.head(10))\n",
    "print(days_bgc_freq_table.shape)"
   ]
  },
  {
   "cell_type": "markdown",
   "metadata": {},
   "source": [
    "There are 90 different cases (or groups)"
   ]
  },
  {
   "cell_type": "markdown",
   "metadata": {},
   "source": [
    "<b> Data exploration through visualization for 8 different cases: </b>"
   ]
  },
  {
   "cell_type": "code",
   "execution_count": 199,
   "metadata": {
    "collapsed": false
   },
   "outputs": [
    {
     "data": {
      "image/png": "[encoded data removed]",
      "text/plain": [
       "<matplotlib.figure.Figure at 0x1abdea20cc0>"
      ]
     },
     "metadata": {},
     "output_type": "display_data"
    }
   ],
   "source": [
    "fig, axes = plt.subplots(4, 2, figsize = (8, 10), sharex = True)\n",
    "\n",
    "params1 = {'color':'red', 'alpha':0.6, 'bins': 40}\n",
    "params2 = {'color':'blue', 'alpha':0.8, 'bins': 20}\n",
    "\n",
    "dat.ix[(dat.city_name == 'Berton') & (dat.signup_os == 'android web') & (dat.signup_channel == 'Organic') & (dat.Target == 0), 'days_bgc'].hist(ax = axes[0, 0], **params1)\n",
    "dat.ix[(dat.city_name == 'Berton') & (dat.signup_os == 'ios web') & (dat.signup_channel == 'Organic') & (dat.Target == 0), 'days_bgc'].hist(ax = axes[1, 0], **params1)\n",
    "dat.ix[(dat.city_name == 'Berton') & (dat.signup_os == 'android web') & (dat.signup_channel == 'Referral') & (dat.Target == 0), 'days_bgc'].hist(ax = axes[2, 0], **params1)\n",
    "dat.ix[(dat.city_name == 'Berton') & (dat.signup_os == 'ios web') & (dat.signup_channel == 'Paid') & (dat.Target == 0), 'days_bgc'].hist(ax = axes[3, 0], **params1)\n",
    "\n",
    "dat.ix[(dat.city_name == 'Berton') & (dat.signup_os == 'android web') & (dat.signup_channel == 'Organic') & (dat.Target == 1), 'days_bgc'].hist(ax = axes[0, 1], **params2)\n",
    "dat.ix[(dat.city_name == 'Berton') & (dat.signup_os == 'ios web') & (dat.signup_channel == 'Organic') & (dat.Target == 1), 'days_bgc'].hist(ax = axes[1, 1], **params2)\n",
    "dat.ix[(dat.city_name == 'Berton') & (dat.signup_os == 'android web') & (dat.signup_channel == 'Referral') & (dat.Target == 1), 'days_bgc'].hist(ax = axes[2, 1], **params2)\n",
    "dat.ix[(dat.city_name == 'Berton') & (dat.signup_os == 'ios web') & (dat.signup_channel == 'Paid') & (dat.Target == 1), 'days_bgc'].hist(ax = axes[3, 1], **params2)\n",
    "\n",
    "axes[0,0].set_title('Case-1 (Target = 0)')\n",
    "axes[1,0].set_title('Case-2 (Target = 0)')\n",
    "axes[2,0].set_title('Case-3 (Target = 0)')\n",
    "axes[3,0].set_title('Case-4 (Target = 0)')\n",
    "axes[0,1].set_title('Case-1 (Target = 1)')\n",
    "axes[1,1].set_title('Case-2 (Target = 1)')\n",
    "axes[2,1].set_title('Case-3 (Target = 1)')\n",
    "axes[3,1].set_title('Case-4 (Target = 1)')\n",
    "\n",
    "fig.text(0.5, 0.08, 'days_bgc', ha='center')\n",
    "fig.text(0.05, 0.5, 'Count', va='center', rotation='vertical')\n",
    "\n",
    "plt.show()"
   ]
  },
  {
   "cell_type": "markdown",
   "metadata": {},
   "source": [
    "From the above set of plots, it is safe to assume that for any case the no. of. partners to give bgc approval drops exponentially as the no. of days increases. However, the exponential-decay rate and constants are different for each case. Therefore, we should not assume a generic model for all the cases.\n",
    "\n",
    "To go forward, lets find probability distribution function (pdf) for all 90 cases and use them to replace NaNs."
   ]
  },
  {
   "cell_type": "code",
   "execution_count": 501,
   "metadata": {
    "collapsed": true
   },
   "outputs": [],
   "source": [
    "from scipy import stats\n",
    "from scipy.optimize import curve_fit # to use custom functions for fitting"
   ]
  },
  {
   "cell_type": "markdown",
   "metadata": {},
   "source": [
    "As the count drop exponentially, lets assume exponential fit and find the parameters for each fit"
   ]
  },
  {
   "cell_type": "code",
   "execution_count": 502,
   "metadata": {
    "collapsed": true
   },
   "outputs": [],
   "source": [
    "# Exponential fit function:\n",
    "def exp_fit(x, a, b, c):\n",
    "    return a * np.exp(-b * x) + c"
   ]
  },
  {
   "cell_type": "markdown",
   "metadata": {},
   "source": [
    "<b> Find optimal parameters for the exponential fit (by minimizing least square error): </b>"
   ]
  },
  {
   "cell_type": "code",
   "execution_count": 503,
   "metadata": {
    "collapsed": false
   },
   "outputs": [
    {
     "name": "stdout",
     "output_type": "stream",
     "text": [
      "Optimal parameters: [ 0.0772263   0.09180655  0.00252311]\n"
     ]
    }
   ],
   "source": [
    "fit_data = dat.ix[(dat.city_name == 'Berton') & (dat.signup_os == 'android web') \n",
    "                     & (dat.signup_channel == 'Organic') & (dat.Target == 0), 'days_bgc'].value_counts()\n",
    "fit_data = fit_data / fit_data.sum()\n",
    "fit_data = fit_data.reset_index()\n",
    "\n",
    "popt, _ = curve_fit(exp_fit, fit_data['index'].values, fit_data['days_bgc'].values)\n",
    "print(\"Optimal parameters:\", popt)"
   ]
  },
  {
   "cell_type": "markdown",
   "metadata": {},
   "source": [
    "<b> Visualize the data and the fit: </b>"
   ]
  },
  {
   "cell_type": "code",
   "execution_count": 505,
   "metadata": {
    "collapsed": false
   },
   "outputs": [
    {
     "data": {
      "image/png": "[encoded data removed]",
      "text/plain": [
       "<matplotlib.figure.Figure at 0x1ab97d48d68>"
      ]
     },
     "metadata": {},
     "output_type": "display_data"
    }
   ],
   "source": [
    "plt.figure()\n",
    "plt.plot(fit_data_1['index'].values, exp_fit(fit_data_1['index'].values, *popt), 'r.', label=\"Fitted Curve\")\n",
    "plt.bar(fit_data_1['index'].values, fit_data_1['days_bgc'].values)\n",
    "plt.show()"
   ]
  },
  {
   "cell_type": "code",
   "execution_count": 506,
   "metadata": {
    "collapsed": true
   },
   "outputs": [],
   "source": [
    "# Finds optimal parameters for each of 90 cases and randomly picks 'n' values based on the pdf\n",
    "def replace_NaN_bgc(df, n):\n",
    "    fit_data = df.value_counts()\n",
    "    fit_data = fit_data / fit_data.sum()\n",
    "    fit_data = fit_data.reset_index()\n",
    "\n",
    "    popt, _ = curve_fit( exp_fit, fit_data['index'].values, fit_data['days_bgc'].values )\n",
    "    \n",
    "    y = [(x, exp_fit(x, *popt)) for x in range(100)]\n",
    "    days, probs = zip(*y)\n",
    "    probs = probs / sum(probs) # Normalized to have a sum of 1\n",
    "    \n",
    "    return np.random.choice(days, p = probs, size = n)"
   ]
  },
  {
   "cell_type": "code",
   "execution_count": 507,
   "metadata": {
    "collapsed": false,
    "scrolled": true
   },
   "outputs": [],
   "source": [
    "# Runs in loop and replaces NaN:\n",
    "for index_, data_  in days_bgc_freq_table.iterrows():\n",
    "    \n",
    "    city_ = data_['city_name']; os_ = data_['signup_os']; channel_ = data_['signup_channel']; targ = data_['Target']\n",
    "    \n",
    "    condition_null = (dat.city_name == city_) & (dat.signup_os == os_) & (dat.signup_channel == channel_) & \\\n",
    "                     (dat.Target == targ) & dat['days_bgc'].isnull()\n",
    "    \n",
    "    condition_notnull = (dat.city_name == city_) & (dat.signup_os == os_) & (dat.signup_channel == channel_) & \\\n",
    "                        (dat.Target == targ) & dat['days_bgc'].notnull()\n",
    "    \n",
    "    n_miss = dat[condition_null].shape[0]\n",
    "    \n",
    "    if n_miss > 0:\n",
    "        dat.ix[condition_null, 'days_bgc'] = replace_NaN_bgc( dat.ix[condition_notnull, 'days_bgc'], n_miss )"
   ]
  },
  {
   "cell_type": "markdown",
   "metadata": {},
   "source": [
    "Data percentage after replacement:"
   ]
  },
  {
   "cell_type": "code",
   "execution_count": 508,
   "metadata": {
    "collapsed": false,
    "scrolled": true
   },
   "outputs": [
    {
     "data": {
      "text/plain": [
       "Unnamed: 0        1.0\n",
       "id                1.0\n",
       "city_name         1.0\n",
       "signup_os         1.0\n",
       "signup_channel    1.0\n",
       "Target            1.0\n",
       "days_bgc          1.0\n",
       "days_drive        1.0\n",
       "dtype: float64"
      ]
     },
     "execution_count": 508,
     "metadata": {},
     "output_type": "execute_result"
    }
   ],
   "source": [
    "dat.count() / len(dat)"
   ]
  },
  {
   "cell_type": "markdown",
   "metadata": {},
   "source": [
    "Lets check the distribution after replacement:"
   ]
  },
  {
   "cell_type": "code",
   "execution_count": 381,
   "metadata": {
    "collapsed": false
   },
   "outputs": [
    {
     "data": {
      "image/png": "[encoded data removed]",
      "text/plain": [
       "<matplotlib.figure.Figure at 0x1abde841d68>"
      ]
     },
     "metadata": {},
     "output_type": "display_data"
    }
   ],
   "source": [
    "fig, axes = plt.subplots(4, 2, figsize = (8, 10), sharex = True)\n",
    "\n",
    "params1 = {'color':'red', 'alpha':0.6, 'bins': 40}\n",
    "params2 = {'color':'blue', 'alpha':0.8, 'bins': 20}\n",
    "\n",
    "dat.ix[(dat.city_name == 'Berton') & (dat.signup_os == 'android web') & (dat.signup_channel == 'Organic') & (dat.Target == 0), 'days_bgc'].hist(ax = axes[0, 0], **params1)\n",
    "dat.ix[(dat.city_name == 'Berton') & (dat.signup_os == 'ios web') & (dat.signup_channel == 'Organic') & (dat.Target == 0), 'days_bgc'].hist(ax = axes[1, 0], **params1)\n",
    "dat.ix[(dat.city_name == 'Berton') & (dat.signup_os == 'android web') & (dat.signup_channel == 'Referral') & (dat.Target == 0), 'days_bgc'].hist(ax = axes[2, 0], **params1)\n",
    "dat.ix[(dat.city_name == 'Berton') & (dat.signup_os == 'ios web') & (dat.signup_channel == 'Paid') & (dat.Target == 0), 'days_bgc'].hist(ax = axes[3, 0], **params1)\n",
    "\n",
    "dat.ix[(dat.city_name == 'Berton') & (dat.signup_os == 'android web') & (dat.signup_channel == 'Organic') & (dat.Target == 1), 'days_bgc'].hist(ax = axes[0, 1], **params2)\n",
    "dat.ix[(dat.city_name == 'Berton') & (dat.signup_os == 'ios web') & (dat.signup_channel == 'Organic') & (dat.Target == 1), 'days_bgc'].hist(ax = axes[1, 1], **params2)\n",
    "dat.ix[(dat.city_name == 'Berton') & (dat.signup_os == 'android web') & (dat.signup_channel == 'Referral') & (dat.Target == 1), 'days_bgc'].hist(ax = axes[2, 1], **params2)\n",
    "dat.ix[(dat.city_name == 'Berton') & (dat.signup_os == 'ios web') & (dat.signup_channel == 'Paid') & (dat.Target == 1), 'days_bgc'].hist(ax = axes[3, 1], **params2)\n",
    "\n",
    "axes[0,0].set_title('Case-1 (Target = 0)')\n",
    "axes[1,0].set_title('Case-2 (Target = 0)')\n",
    "axes[2,0].set_title('Case-3 (Target = 0)')\n",
    "axes[3,0].set_title('Case-4 (Target = 0)')\n",
    "axes[0,1].set_title('Case-1 (Target = 1)')\n",
    "axes[1,1].set_title('Case-2 (Target = 1)')\n",
    "axes[2,1].set_title('Case-3 (Target = 1)')\n",
    "axes[3,1].set_title('Case-4 (Target = 1)')\n",
    "\n",
    "fig.text(0.5, 0.08, 'days_bgc', ha='center')\n",
    "fig.text(0.05, 0.5, 'Count', va='center', rotation='vertical')\n",
    "\n",
    "plt.show()"
   ]
  },
  {
   "cell_type": "markdown",
   "metadata": {},
   "source": [
    "So we retain the data distribution for any case as desired and hence we can proceed further to the next step"
   ]
  },
  {
   "cell_type": "code",
   "execution_count": 515,
   "metadata": {
    "collapsed": true
   },
   "outputs": [],
   "source": [
    "# Save backup:\n",
    "dat.to_csv(\"./data/ds_challenge_clean_all.csv\", index = False)"
   ]
  },
  {
   "cell_type": "markdown",
   "metadata": {},
   "source": [
    "# Predictive modeling"
   ]
  },
  {
   "cell_type": "markdown",
   "metadata": {},
   "source": [
    "As the data is clean and valid, lets move forward to predictive modeling part."
   ]
  },
  {
   "cell_type": "code",
   "execution_count": 518,
   "metadata": {
    "collapsed": false
   },
   "outputs": [],
   "source": [
    "# Reload data if needed\n",
    "dat = pd.read_csv(\"./data/ds_challenge_clean_all.csv\")                         "
   ]
  },
  {
   "cell_type": "code",
   "execution_count": 520,
   "metadata": {
    "collapsed": false
   },
   "outputs": [
    {
     "data": {
      "text/html": [
       "<div>\n",
       "<table border=\"1\" class=\"dataframe\">\n",
       "  <thead>\n",
       "    <tr style=\"text-align: right;\">\n",
       "      <th></th>\n",
       "      <th>id</th>\n",
       "      <th>city_name</th>\n",
       "      <th>signup_os</th>\n",
       "      <th>signup_channel</th>\n",
       "      <th>Target</th>\n",
       "      <th>days_bgc</th>\n",
       "      <th>days_drive</th>\n",
       "    </tr>\n",
       "  </thead>\n",
       "  <tbody>\n",
       "    <tr>\n",
       "      <th>0</th>\n",
       "      <td>1</td>\n",
       "      <td>Strark</td>\n",
       "      <td>ios web</td>\n",
       "      <td>Paid</td>\n",
       "      <td>0.0</td>\n",
       "      <td>8.0</td>\n",
       "      <td>-1.0</td>\n",
       "    </tr>\n",
       "    <tr>\n",
       "      <th>1</th>\n",
       "      <td>2</td>\n",
       "      <td>Strark</td>\n",
       "      <td>windows</td>\n",
       "      <td>Paid</td>\n",
       "      <td>0.0</td>\n",
       "      <td>30.0</td>\n",
       "      <td>-1.0</td>\n",
       "    </tr>\n",
       "    <tr>\n",
       "      <th>2</th>\n",
       "      <td>3</td>\n",
       "      <td>Wrouver</td>\n",
       "      <td>windows</td>\n",
       "      <td>Organic</td>\n",
       "      <td>0.0</td>\n",
       "      <td>0.0</td>\n",
       "      <td>-1.0</td>\n",
       "    </tr>\n",
       "    <tr>\n",
       "      <th>3</th>\n",
       "      <td>4</td>\n",
       "      <td>Berton</td>\n",
       "      <td>android web</td>\n",
       "      <td>Referral</td>\n",
       "      <td>1.0</td>\n",
       "      <td>5.0</td>\n",
       "      <td>0.0</td>\n",
       "    </tr>\n",
       "    <tr>\n",
       "      <th>4</th>\n",
       "      <td>5</td>\n",
       "      <td>Strark</td>\n",
       "      <td>android web</td>\n",
       "      <td>Referral</td>\n",
       "      <td>0.0</td>\n",
       "      <td>15.0</td>\n",
       "      <td>-1.0</td>\n",
       "    </tr>\n",
       "  </tbody>\n",
       "</table>\n",
       "</div>"
      ],
      "text/plain": [
       "   id city_name    signup_os signup_channel  Target  days_bgc  days_drive\n",
       "0   1    Strark      ios web           Paid     0.0       8.0        -1.0\n",
       "1   2    Strark      windows           Paid     0.0      30.0        -1.0\n",
       "2   3   Wrouver      windows        Organic     0.0       0.0        -1.0\n",
       "3   4    Berton  android web       Referral     1.0       5.0         0.0\n",
       "4   5    Strark  android web       Referral     0.0      15.0        -1.0"
      ]
     },
     "execution_count": 520,
     "metadata": {},
     "output_type": "execute_result"
    }
   ],
   "source": [
    "dat.head()"
   ]
  },
  {
   "cell_type": "markdown",
   "metadata": {},
   "source": [
    "## Data Preparation"
   ]
  },
  {
   "cell_type": "markdown",
   "metadata": {},
   "source": [
    "### Predictors and Target split:"
   ]
  },
  {
   "cell_type": "code",
   "execution_count": 521,
   "metadata": {
    "collapsed": true
   },
   "outputs": [],
   "source": [
    "data_predictors = dat[['city_name', 'signup_os', 'signup_channel', 'days_bgc', 'days_drive']]\n",
    "data_target = dat[['Target']]"
   ]
  },
  {
   "cell_type": "markdown",
   "metadata": {},
   "source": [
    "It is mandatory to convert all the string in the dataset to nominal values for easier handling (by algos) in the modeling step"
   ]
  },
  {
   "cell_type": "code",
   "execution_count": 522,
   "metadata": {
    "collapsed": false
   },
   "outputs": [],
   "source": [
    "from sklearn import preprocessing as pre\n",
    "from sklearn.preprocessing import LabelEncoder as LE"
   ]
  },
  {
   "cell_type": "markdown",
   "metadata": {},
   "source": [
    "### Convert categorical to nominal values:"
   ]
  },
  {
   "cell_type": "code",
   "execution_count": 523,
   "metadata": {
    "collapsed": true
   },
   "outputs": [],
   "source": [
    "le_city = LE()\n",
    "le_os = LE()\n",
    "le_channel = LE()"
   ]
  },
  {
   "cell_type": "code",
   "execution_count": 524,
   "metadata": {
    "collapsed": true
   },
   "outputs": [
    {
     "name": "stderr",
     "output_type": "stream",
     "text": [
      "C:\\USERS\\VENKI_K07\\ANACONDA3\\lib\\site-packages\\ipykernel\\__main__.py:1: SettingWithCopyWarning: \n",
      "A value is trying to be set on a copy of a slice from a DataFrame.\n",
      "Try using .loc[row_indexer,col_indexer] = value instead\n",
      "\n",
      "See the caveats in the documentation: http://pandas.pydata.org/pandas-docs/stable/indexing.html#indexing-view-versus-copy\n",
      "  if __name__ == '__main__':\n",
      "C:\\USERS\\VENKI_K07\\ANACONDA3\\lib\\site-packages\\ipykernel\\__main__.py:2: SettingWithCopyWarning: \n",
      "A value is trying to be set on a copy of a slice from a DataFrame.\n",
      "Try using .loc[row_indexer,col_indexer] = value instead\n",
      "\n",
      "See the caveats in the documentation: http://pandas.pydata.org/pandas-docs/stable/indexing.html#indexing-view-versus-copy\n",
      "  from ipykernel import kernelapp as app\n",
      "C:\\USERS\\VENKI_K07\\ANACONDA3\\lib\\site-packages\\ipykernel\\__main__.py:3: SettingWithCopyWarning: \n",
      "A value is trying to be set on a copy of a slice from a DataFrame.\n",
      "Try using .loc[row_indexer,col_indexer] = value instead\n",
      "\n",
      "See the caveats in the documentation: http://pandas.pydata.org/pandas-docs/stable/indexing.html#indexing-view-versus-copy\n",
      "  app.launch_new_instance()\n"
     ]
    }
   ],
   "source": [
    "data_predictors['city_name'] = le_city.fit_transform(data_predictors['city_name'])\n",
    "data_predictors['signup_os'] = le_os.fit_transform(data_predictors['signup_os'])\n",
    "data_predictors['signup_channel'] = le_channel.fit_transform(data_predictors['signup_channel'])"
   ]
  },
  {
   "cell_type": "code",
   "execution_count": 525,
   "metadata": {
    "collapsed": false
   },
   "outputs": [
    {
     "data": {
      "text/html": [
       "<div>\n",
       "<table border=\"1\" class=\"dataframe\">\n",
       "  <thead>\n",
       "    <tr style=\"text-align: right;\">\n",
       "      <th></th>\n",
       "      <th>city_name</th>\n",
       "      <th>signup_os</th>\n",
       "      <th>signup_channel</th>\n",
       "      <th>days_bgc</th>\n",
       "      <th>days_drive</th>\n",
       "    </tr>\n",
       "  </thead>\n",
       "  <tbody>\n",
       "    <tr>\n",
       "      <th>0</th>\n",
       "      <td>1</td>\n",
       "      <td>1</td>\n",
       "      <td>1</td>\n",
       "      <td>8.0</td>\n",
       "      <td>-1.0</td>\n",
       "    </tr>\n",
       "    <tr>\n",
       "      <th>1</th>\n",
       "      <td>1</td>\n",
       "      <td>4</td>\n",
       "      <td>1</td>\n",
       "      <td>30.0</td>\n",
       "      <td>-1.0</td>\n",
       "    </tr>\n",
       "    <tr>\n",
       "      <th>2</th>\n",
       "      <td>2</td>\n",
       "      <td>4</td>\n",
       "      <td>0</td>\n",
       "      <td>0.0</td>\n",
       "      <td>-1.0</td>\n",
       "    </tr>\n",
       "    <tr>\n",
       "      <th>3</th>\n",
       "      <td>0</td>\n",
       "      <td>0</td>\n",
       "      <td>2</td>\n",
       "      <td>5.0</td>\n",
       "      <td>0.0</td>\n",
       "    </tr>\n",
       "    <tr>\n",
       "      <th>4</th>\n",
       "      <td>1</td>\n",
       "      <td>0</td>\n",
       "      <td>2</td>\n",
       "      <td>15.0</td>\n",
       "      <td>-1.0</td>\n",
       "    </tr>\n",
       "  </tbody>\n",
       "</table>\n",
       "</div>"
      ],
      "text/plain": [
       "   city_name  signup_os  signup_channel  days_bgc  days_drive\n",
       "0          1          1               1       8.0        -1.0\n",
       "1          1          4               1      30.0        -1.0\n",
       "2          2          4               0       0.0        -1.0\n",
       "3          0          0               2       5.0         0.0\n",
       "4          1          0               2      15.0        -1.0"
      ]
     },
     "execution_count": 525,
     "metadata": {},
     "output_type": "execute_result"
    }
   ],
   "source": [
    "data_predictors.head()"
   ]
  },
  {
   "cell_type": "code",
   "execution_count": 526,
   "metadata": {
    "collapsed": false
   },
   "outputs": [
    {
     "data": {
      "text/plain": [
       "(54648, 5)"
      ]
     },
     "execution_count": 526,
     "metadata": {},
     "output_type": "execute_result"
    }
   ],
   "source": [
    "data_predictors.shape"
   ]
  },
  {
   "cell_type": "code",
   "execution_count": 529,
   "metadata": {
    "collapsed": true
   },
   "outputs": [],
   "source": [
    "# Save backup:\n",
    "data_predictors.to_csv(\"./data/ds_challenge_clean_predictors.csv\", index = False)\n",
    "data_target.to_csv(\"./data/ds_challenge_clean_target.csv\", index = False)"
   ]
  },
  {
   "cell_type": "code",
   "execution_count": 518,
   "metadata": {
    "collapsed": false
   },
   "outputs": [],
   "source": [
    "### reload data if needed\n",
    "data_predictors = pd.read_csv(\"./data/ds_challenge_clean_predictors.csv\")\n",
    "data_target = pd.read_csv(\"./data/ds_challenge_clean_target.csv\")"
   ]
  },
  {
   "cell_type": "code",
   "execution_count": 530,
   "metadata": {
    "collapsed": false
   },
   "outputs": [
    {
     "data": {
      "text/html": [
       "<div>\n",
       "<table border=\"1\" class=\"dataframe\">\n",
       "  <thead>\n",
       "    <tr style=\"text-align: right;\">\n",
       "      <th></th>\n",
       "      <th>city_name</th>\n",
       "      <th>signup_os</th>\n",
       "      <th>signup_channel</th>\n",
       "      <th>days_bgc</th>\n",
       "      <th>days_drive</th>\n",
       "    </tr>\n",
       "  </thead>\n",
       "  <tbody>\n",
       "    <tr>\n",
       "      <th>0</th>\n",
       "      <td>1</td>\n",
       "      <td>1</td>\n",
       "      <td>1</td>\n",
       "      <td>8.0</td>\n",
       "      <td>-1.0</td>\n",
       "    </tr>\n",
       "    <tr>\n",
       "      <th>1</th>\n",
       "      <td>1</td>\n",
       "      <td>4</td>\n",
       "      <td>1</td>\n",
       "      <td>30.0</td>\n",
       "      <td>-1.0</td>\n",
       "    </tr>\n",
       "    <tr>\n",
       "      <th>2</th>\n",
       "      <td>2</td>\n",
       "      <td>4</td>\n",
       "      <td>0</td>\n",
       "      <td>0.0</td>\n",
       "      <td>-1.0</td>\n",
       "    </tr>\n",
       "    <tr>\n",
       "      <th>3</th>\n",
       "      <td>0</td>\n",
       "      <td>0</td>\n",
       "      <td>2</td>\n",
       "      <td>5.0</td>\n",
       "      <td>0.0</td>\n",
       "    </tr>\n",
       "    <tr>\n",
       "      <th>4</th>\n",
       "      <td>1</td>\n",
       "      <td>0</td>\n",
       "      <td>2</td>\n",
       "      <td>15.0</td>\n",
       "      <td>-1.0</td>\n",
       "    </tr>\n",
       "  </tbody>\n",
       "</table>\n",
       "</div>"
      ],
      "text/plain": [
       "   city_name  signup_os  signup_channel  days_bgc  days_drive\n",
       "0          1          1               1       8.0        -1.0\n",
       "1          1          4               1      30.0        -1.0\n",
       "2          2          4               0       0.0        -1.0\n",
       "3          0          0               2       5.0         0.0\n",
       "4          1          0               2      15.0        -1.0"
      ]
     },
     "execution_count": 530,
     "metadata": {},
     "output_type": "execute_result"
    }
   ],
   "source": [
    "data_predictors.head()"
   ]
  },
  {
   "cell_type": "markdown",
   "metadata": {},
   "source": [
    "### Data sampling techniques:"
   ]
  },
  {
   "cell_type": "code",
   "execution_count": 541,
   "metadata": {
    "collapsed": true
   },
   "outputs": [],
   "source": [
    "from sklearn.model_selection import train_test_split\n",
    "from sklearn.model_selection import StratifiedShuffleSplit\n",
    "from datetime import datetime as dt"
   ]
  },
  {
   "cell_type": "markdown",
   "metadata": {},
   "source": [
    "#### Data sampling: 1 (shuffle split)"
   ]
  },
  {
   "cell_type": "code",
   "execution_count": 553,
   "metadata": {
    "collapsed": false
   },
   "outputs": [],
   "source": [
    "X_train, X_test, y_train, y_test = train_test_split( data_predictors, data_target, test_size = 0.3, \n",
    "                                                     random_state = dt.now().time().microsecond)"
   ]
  },
  {
   "cell_type": "markdown",
   "metadata": {},
   "source": [
    "#### Data sampling: 2  (strafied shuffle split)"
   ]
  },
  {
   "cell_type": "code",
   "execution_count": 554,
   "metadata": {
    "collapsed": false
   },
   "outputs": [],
   "source": [
    "def sampling_stratified_shuffle_split(data_predictors, data_target):\n",
    "    \n",
    "    sp = StratifiedShuffleSplit( n_splits = 1, test_size = 0.3, random_state = dt.now().time().microsecond )\n",
    "    \n",
    "    for train_index, test_index in sp.split(data_predictors, data_target):\n",
    "        X_train, X_test = data_predictors.ix[train_index], data_predictors.ix[test_index]\n",
    "        y_train, y_test = data_target.ix[train_index], data_target.ix[test_index]\n",
    "        \n",
    "    return X_train, X_test, y_train, y_test"
   ]
  },
  {
   "cell_type": "markdown",
   "metadata": {},
   "source": [
    "## MODELING (Machine Learning):"
   ]
  },
  {
   "cell_type": "code",
   "execution_count": 412,
   "metadata": {
    "collapsed": true
   },
   "outputs": [],
   "source": [
    "from sklearn.ensemble import RandomForestClassifier\n",
    "from sklearn.metrics import roc_curve, auc"
   ]
  },
  {
   "cell_type": "markdown",
   "metadata": {},
   "source": [
    "### Model 1: Random Forest (days_drive - included)"
   ]
  },
  {
   "cell_type": "code",
   "execution_count": 597,
   "metadata": {
    "collapsed": false
   },
   "outputs": [],
   "source": [
    "# Create an object for Random forest classifier\n",
    "rfc1 = RandomForestClassifier(n_estimators = 1000, n_jobs= 4)"
   ]
  },
  {
   "cell_type": "code",
   "execution_count": 598,
   "metadata": {
    "collapsed": true
   },
   "outputs": [],
   "source": [
    "# Apply stratified sampling method to split train and test data\n",
    "X_train, X_test, y_train, y_test = sampling_stratified_shuffle_split( data_predictors, data_target )"
   ]
  },
  {
   "cell_type": "markdown",
   "metadata": {},
   "source": [
    "#### Feature importances"
   ]
  },
  {
   "cell_type": "code",
   "execution_count": 599,
   "metadata": {
    "collapsed": false,
    "scrolled": true
   },
   "outputs": [
    {
     "name": "stdout",
     "output_type": "stream",
     "text": [
      "days_drive (0.945419)\n",
      "days_bgc (0.038533)\n",
      "signup_channel (0.014249)\n",
      "signup_os (0.001396)\n",
      "city_name (0.000403)\n"
     ]
    }
   ],
   "source": [
    "rfc1.fit(X_train, np.ravel(y_train))\n",
    "\n",
    "importances = rfc1.feature_importances_\n",
    "\n",
    "indices = np.argsort(importances)[::-1] # Reverse the order based on ranking\n",
    "\n",
    "for f in range(X_train.shape[1]):\n",
    "    print( \"%s (%f)\" % (X_train.columns.values[indices[f]], importances[indices[f]]) )"
   ]
  },
  {
   "cell_type": "markdown",
   "metadata": {},
   "source": [
    "#### Model accuracy"
   ]
  },
  {
   "cell_type": "code",
   "execution_count": 600,
   "metadata": {
    "collapsed": false
   },
   "outputs": [
    {
     "name": "stdout",
     "output_type": "stream",
     "text": [
      "Test score: 1.0\n"
     ]
    }
   ],
   "source": [
    "print(\"Test score:\", rfc1.score(X_test, np.ravel(y_test)))"
   ]
  },
  {
   "cell_type": "markdown",
   "metadata": {},
   "source": [
    "This tells us that the 'days_drive' is the only major predictor. This is because of the NaNs we had in the dataset (all) for 'days_drive' when Target = 0. Since we replaced the NaNs with -1, the model could easy be developed just with this parameter. \n",
    "\n",
    "If 'days_drive' < 0 then target = 0\n",
    "\n",
    "If 'days_drive' > 0 then target = 1"
   ]
  },
  {
   "cell_type": "markdown",
   "metadata": {},
   "source": [
    "Therefore we should remove this variable from the dataset"
   ]
  },
  {
   "cell_type": "markdown",
   "metadata": {},
   "source": [
    "### Model 2: Random Forest (days_drive - excluded)"
   ]
  },
  {
   "cell_type": "code",
   "execution_count": 575,
   "metadata": {
    "collapsed": false
   },
   "outputs": [],
   "source": [
    "data_predictors2 = data_predictors.copy(deep = True)\n",
    "del data_predictors2['days_drive']"
   ]
  },
  {
   "cell_type": "code",
   "execution_count": 576,
   "metadata": {
    "collapsed": true
   },
   "outputs": [],
   "source": [
    "X_train2, X_test2, y_train2, y_test2 = sampling_stratified_shuffle_split( data_predictors2, data_target )"
   ]
  },
  {
   "cell_type": "markdown",
   "metadata": {},
   "source": [
    "#### Feature importances"
   ]
  },
  {
   "cell_type": "code",
   "execution_count": 578,
   "metadata": {
    "collapsed": false,
    "scrolled": true
   },
   "outputs": [
    {
     "name": "stdout",
     "output_type": "stream",
     "text": [
      "days_bgc (0.640059)\n",
      "signup_channel (0.220868)\n",
      "signup_os (0.088730)\n",
      "city_name (0.050342)\n"
     ]
    }
   ],
   "source": [
    "rfc2 = RandomForestClassifier(n_estimators = 1000, n_jobs= 4)\n",
    "\n",
    "rfc2.fit(X_train2, np.ravel(y_train2))\n",
    "\n",
    "importances = rfc2.feature_importances_\n",
    "\n",
    "indices = np.argsort(importances)[::-1] # Reverse the order based on ranking\n",
    "\n",
    "for f in range(X_train2.shape[1]):\n",
    "    print( \"%s (%f)\" % (X_train2.columns.values[indices[f]], importances[indices[f]]) )"
   ]
  },
  {
   "cell_type": "markdown",
   "metadata": {},
   "source": [
    "#### Model accuracy"
   ]
  },
  {
   "cell_type": "code",
   "execution_count": 579,
   "metadata": {
    "collapsed": false,
    "scrolled": true
   },
   "outputs": [
    {
     "name": "stdout",
     "output_type": "stream",
     "text": [
      "Test score: 0.888319609637\n"
     ]
    }
   ],
   "source": [
    "print(\"Test score:\", rfc2.score(X_test2, np.ravel(y_test2)))"
   ]
  },
  {
   "cell_type": "markdown",
   "metadata": {},
   "source": [
    "### Model 3: Random Forest (days_drive and days_bgc - excluded)"
   ]
  },
  {
   "cell_type": "code",
   "execution_count": 580,
   "metadata": {
    "collapsed": false
   },
   "outputs": [],
   "source": [
    "data_predictors3 = data_predictors.copy(deep = True)\n",
    "data_predictors3.drop(['days_drive', 'days_bgc'], axis = 1, inplace = True)"
   ]
  },
  {
   "cell_type": "code",
   "execution_count": 581,
   "metadata": {
    "collapsed": true
   },
   "outputs": [],
   "source": [
    "X_train3, X_test3, y_train3, y_test3 = sampling_stratified_shuffle_split( data_predictors3, data_target )"
   ]
  },
  {
   "cell_type": "markdown",
   "metadata": {},
   "source": [
    "#### Feature importances"
   ]
  },
  {
   "cell_type": "code",
   "execution_count": 582,
   "metadata": {
    "collapsed": false,
    "scrolled": true
   },
   "outputs": [
    {
     "name": "stdout",
     "output_type": "stream",
     "text": [
      "signup_channel (0.820642)\n",
      "signup_os (0.132115)\n",
      "city_name (0.047243)\n"
     ]
    }
   ],
   "source": [
    "rfc3 = RandomForestClassifier(n_estimators = 1000, n_jobs= 4)\n",
    "\n",
    "rfc3.fit(X_train3, np.ravel(y_train3))\n",
    "\n",
    "importances = rfc3.feature_importances_\n",
    "\n",
    "indices = np.argsort(importances)[::-1] # Reverse the order based on ranking\n",
    "\n",
    "for f in range(X_train3.shape[1]):\n",
    "    print( \"%s (%f)\" % (X_train3.columns.values[indices[f]], importances[indices[f]]) )"
   ]
  },
  {
   "cell_type": "markdown",
   "metadata": {},
   "source": [
    "#### Model accuracy"
   ]
  },
  {
   "cell_type": "code",
   "execution_count": 583,
   "metadata": {
    "collapsed": false
   },
   "outputs": [
    {
     "name": "stdout",
     "output_type": "stream",
     "text": [
      "Test score: 0.888319609637\n"
     ]
    }
   ],
   "source": [
    "print(\"Test score:\", rfc3.score(X_test3, np.ravel(y_test3)))"
   ]
  },
  {
   "cell_type": "markdown",
   "metadata": {},
   "source": [
    "### Model 4: Random Forest (days_drive, days_bgc, and city_name - excluded)"
   ]
  },
  {
   "cell_type": "code",
   "execution_count": 584,
   "metadata": {
    "collapsed": false
   },
   "outputs": [],
   "source": [
    "data_predictors4 = data_predictors.copy(deep = True)\n",
    "data_predictors4.drop(['days_drive', 'days_bgc', 'city_name'], axis = 1, inplace = True)"
   ]
  },
  {
   "cell_type": "code",
   "execution_count": 585,
   "metadata": {
    "collapsed": true
   },
   "outputs": [],
   "source": [
    "X_train4, X_test4, y_train4, y_test4 = sampling_stratified_shuffle_split( data_predictors4, data_target )"
   ]
  },
  {
   "cell_type": "markdown",
   "metadata": {},
   "source": [
    "#### Feature importances"
   ]
  },
  {
   "cell_type": "code",
   "execution_count": 586,
   "metadata": {
    "collapsed": false,
    "scrolled": true
   },
   "outputs": [
    {
     "name": "stdout",
     "output_type": "stream",
     "text": [
      "signup_channel (0.866644)\n",
      "signup_os (0.133356)\n"
     ]
    }
   ],
   "source": [
    "rfc4 = RandomForestClassifier(n_estimators = 1000, n_jobs= 4)\n",
    "\n",
    "rfc4.fit(X_train4, np.ravel(y_train4))\n",
    "\n",
    "importances = rfc4.feature_importances_\n",
    "\n",
    "indices = np.argsort(importances)[::-1] # Reverse the order based on ranking\n",
    "\n",
    "for f in range(X_train4.shape[1]):\n",
    "    print( \"%s (%f)\" % (X_train4.columns.values[indices[f]], importances[indices[f]]) )"
   ]
  },
  {
   "cell_type": "markdown",
   "metadata": {},
   "source": [
    "#### Model accuracy"
   ]
  },
  {
   "cell_type": "code",
   "execution_count": 587,
   "metadata": {
    "collapsed": false
   },
   "outputs": [
    {
     "name": "stdout",
     "output_type": "stream",
     "text": [
      "Test score: 0.888319609637\n"
     ]
    }
   ],
   "source": [
    "print(\"Test score:\", rfc4.score(X_test4, np.ravel(y_test4)))"
   ]
  },
  {
   "cell_type": "markdown",
   "metadata": {},
   "source": [
    "## Modeling Validation: AUC"
   ]
  },
  {
   "cell_type": "code",
   "execution_count": 592,
   "metadata": {
    "collapsed": true
   },
   "outputs": [],
   "source": [
    "# Function to return receiver-operator characteristics ( false positive rate, true positive rate, and area under the curve)\n",
    "def get_ROC(model, x, y):    \n",
    "    fpr, tpr, _ = roc_curve(y, model.predict_proba(x)[:,1])\n",
    "    return fpr, tpr, auc(fpr, tpr)"
   ]
  },
  {
   "cell_type": "code",
   "execution_count": 593,
   "metadata": {
    "collapsed": true
   },
   "outputs": [],
   "source": [
    "# Plot receiver-operator characteristics (ROC) curve:\n",
    "def plot_AUC(x_trains, y_trains, models, labels):\n",
    "\n",
    "    plt.figure()\n",
    "    for x_train, y_train, model, label in zip(x_trains, y_trains, models, labels):\n",
    "\n",
    "        fpr, tpr, auc_ = get_ROC(model, x_train, y_train)\n",
    "\n",
    "        plt.plot(fpr, tpr, label ='%s (Area = %0.4f)' %(label, auc_))\n",
    "        plt.plot([0,1],[0,1],'k--')\n",
    "        \n",
    "        plt.title('ROC Curve')\n",
    "        plt.xlabel('False positive rate')\n",
    "        plt.ylabel('True positive rate')\n",
    "        plt.xlim([0, 1])\n",
    "        plt.ylim([0, 1])\n",
    "        plt.legend(loc = \"lower right\")\n",
    "        \n",
    "    plt.show()"
   ]
  },
  {
   "cell_type": "code",
   "execution_count": 602,
   "metadata": {
    "collapsed": false
   },
   "outputs": [
    {
     "data": {
      "image/png": "[encoded data removed]",
      "text/plain": [
       "<matplotlib.figure.Figure at 0x1ab97e1a470>"
      ]
     },
     "metadata": {},
     "output_type": "display_data"
    }
   ],
   "source": [
    "plot_AUC( [X_train, X_train2, X_train3, X_train4], [y_train, y_train2, y_train3, y_train4], \n",
    "          [rfc1, rfc2, rfc3, rfc4], ['RFC_model_1', 'RFC_model_2', 'RFC_model_3', 'RFC_model_4'] )"
   ]
  },
  {
   "cell_type": "markdown",
   "metadata": {},
   "source": [
    "The model with highest AUC (area under the curve) represents the most reliable model. In the above plot, after skipping RFC_model_1, the most reliable model is RFC_model_2 with days_bgc, signup_channel, signup_os, and city_name.  "
   ]
  },
  {
   "cell_type": "markdown",
   "metadata": {},
   "source": [
    "## Hyperparameter Optimization:"
   ]
  },
  {
   "cell_type": "markdown",
   "metadata": {},
   "source": [
    "### Model 5: Random Forest with parameter optimization"
   ]
  },
  {
   "cell_type": "code",
   "execution_count": 609,
   "metadata": {
    "collapsed": false
   },
   "outputs": [],
   "source": [
    "from sklearn.cross_validation import StratifiedKFold\n",
    "from sklearn.model_selection import GridSearchCV"
   ]
  },
  {
   "cell_type": "code",
   "execution_count": 603,
   "metadata": {
    "collapsed": false
   },
   "outputs": [],
   "source": [
    "data_predictors5 = data_predictors.copy(deep = True)\n",
    "data_predictors5.drop(['days_drive'], axis = 1, inplace = True)"
   ]
  },
  {
   "cell_type": "code",
   "execution_count": 604,
   "metadata": {
    "collapsed": true
   },
   "outputs": [],
   "source": [
    "X_train5, X_test5, y_train5, y_test5 = sampling_stratified_shuffle_split( data_predictors5, data_target )"
   ]
  },
  {
   "cell_type": "markdown",
   "metadata": {},
   "source": [
    "<b> Apply Gridsearch method for finding the optimal parameter from the list: </b>"
   ]
  },
  {
   "cell_type": "code",
   "execution_count": 630,
   "metadata": {
    "collapsed": false,
    "scrolled": true
   },
   "outputs": [
    {
     "data": {
      "text/plain": [
       "GridSearchCV(cv=sklearn.cross_validation.KFold(n=38253, n_folds=5, shuffle=True, random_state=769787),\n",
       "       error_score='raise',\n",
       "       estimator=RandomForestClassifier(bootstrap=True, class_weight=None, criterion='gini',\n",
       "            max_depth=None, max_features='auto', max_leaf_nodes=None,\n",
       "            min_impurity_split=1e-07, min_samples_leaf=1,\n",
       "            min_samples_split=2, min_weight_fraction_leaf=0.0,\n",
       "            n_estimators=1000, n_jobs=1, oob_score=False,\n",
       "            random_state=None, verbose=0, warm_start=False),\n",
       "       fit_params={}, iid=True, n_jobs=4,\n",
       "       param_grid={'max_features': [2, 3, 4]}, pre_dispatch='2*n_jobs',\n",
       "       refit=True, return_train_score=True, scoring=None, verbose=0)"
      ]
     },
     "execution_count": 630,
     "metadata": {},
     "output_type": "execute_result"
    }
   ],
   "source": [
    "rfc5 = RandomForestClassifier(n_estimators = 1000)\n",
    "param_grid_all = {\"max_features\": [2, 3, 4]}\n",
    "\n",
    "crv = cv.KFold(len(X_train5), n_folds = 5, shuffle = True, random_state = dt.now().time().microsecond )\n",
    "\n",
    "classifier = GridSearchCV(estimator = rfc5, cv = crv, param_grid = param_grid_all, n_jobs= 4)  \n",
    "classifier.fit(X_train5, np.ravel(y_train5))"
   ]
  },
  {
   "cell_type": "markdown",
   "metadata": {},
   "source": [
    "#### Model accuracy"
   ]
  },
  {
   "cell_type": "code",
   "execution_count": 631,
   "metadata": {
    "collapsed": false
   },
   "outputs": [
    {
     "name": "stdout",
     "output_type": "stream",
     "text": [
      "Test score: 0.886794754498\n"
     ]
    }
   ],
   "source": [
    "print(\"Test score:\", classifier.score(X_test5, np.ravel(y_test5)))"
   ]
  },
  {
   "cell_type": "markdown",
   "metadata": {},
   "source": [
    "#### Optimal parameters"
   ]
  },
  {
   "cell_type": "code",
   "execution_count": 635,
   "metadata": {
    "collapsed": false,
    "scrolled": false
   },
   "outputs": [
    {
     "data": {
      "text/plain": [
       "{'max_features': 4}"
      ]
     },
     "execution_count": 635,
     "metadata": {},
     "output_type": "execute_result"
    }
   ],
   "source": [
    "classifier.best_params_"
   ]
  },
  {
   "cell_type": "markdown",
   "metadata": {},
   "source": [
    "#### Cross-validation results"
   ]
  },
  {
   "cell_type": "code",
   "execution_count": 638,
   "metadata": {
    "collapsed": false
   },
   "outputs": [
    {
     "data": {
      "text/plain": [
       "{'mean_fit_time': array([  7.77381754,   8.95802813,  10.35651002]),\n",
       " 'mean_score_time': array([ 0.8608572,  0.8500463,  0.8135725]),\n",
       " 'mean_test_score': array([ 0.88874075,  0.88863619,  0.8888976 ]),\n",
       " 'mean_train_score': array([ 0.89173398,  0.89173398,  0.89173398]),\n",
       " 'param_max_features': masked_array(data = [2 3 4],\n",
       "              mask = [False False False],\n",
       "        fill_value = ?),\n",
       " 'params': ({'max_features': 2}, {'max_features': 3}, {'max_features': 4}),\n",
       " 'rank_test_score': array([2, 3, 1]),\n",
       " 'split0_test_score': array([ 0.88981832,  0.89047183,  0.89021043]),\n",
       " 'split0_train_score': array([ 0.89124894,  0.89124894,  0.89124894]),\n",
       " 'split1_test_score': array([ 0.88955692,  0.88994903,  0.88916482]),\n",
       " 'split1_train_score': array([ 0.89157571,  0.89157571,  0.89157571]),\n",
       " 'split2_test_score': array([ 0.89034113,  0.88942622,  0.89034113]),\n",
       " 'split2_train_score': array([ 0.89151036,  0.89151036,  0.89151036]),\n",
       " 'split3_test_score': array([ 0.88601307,  0.8854902 ,  0.88653595]),\n",
       " 'split3_train_score': array([ 0.8924942,  0.8924942,  0.8924942]),\n",
       " 'split4_test_score': array([ 0.88797386,  0.88784314,  0.88823529]),\n",
       " 'split4_train_score': array([ 0.89184067,  0.89184067,  0.89184067]),\n",
       " 'std_fit_time': array([ 0.17980276,  0.12297584,  0.03654637]),\n",
       " 'std_score_time': array([ 0.00498069,  0.03997492,  0.01481738]),\n",
       " 'std_test_score': array([ 0.00157585,  0.00180238,  0.00140673]),\n",
       " 'std_train_score': array([ 0.00042418,  0.00042418,  0.00042418])}"
      ]
     },
     "execution_count": 638,
     "metadata": {},
     "output_type": "execute_result"
    }
   ],
   "source": [
    "classifier.cv_results_"
   ]
  },
  {
   "cell_type": "markdown",
   "metadata": {},
   "source": [
    "#### Grid scores"
   ]
  },
  {
   "cell_type": "code",
   "execution_count": 633,
   "metadata": {
    "collapsed": false
   },
   "outputs": [
    {
     "name": "stderr",
     "output_type": "stream",
     "text": [
      "C:\\USERS\\VENKI_K07\\ANACONDA3\\lib\\site-packages\\sklearn\\model_selection\\_search.py:662: DeprecationWarning: The grid_scores_ attribute was deprecated in version 0.18 in favor of the more elaborate cv_results_ attribute. The grid_scores_ attribute will not be available from 0.20\n",
      "  DeprecationWarning)\n"
     ]
    },
    {
     "data": {
      "text/plain": [
       "[mean: 0.88874, std: 0.00158, params: {'max_features': 2},\n",
       " mean: 0.88864, std: 0.00180, params: {'max_features': 3},\n",
       " mean: 0.88890, std: 0.00141, params: {'max_features': 4}]"
      ]
     },
     "execution_count": 633,
     "metadata": {},
     "output_type": "execute_result"
    }
   ],
   "source": [
    "classifier.grid_scores_"
   ]
  },
  {
   "cell_type": "markdown",
   "metadata": {},
   "source": [
    "#### ROC curve"
   ]
  },
  {
   "cell_type": "code",
   "execution_count": 634,
   "metadata": {
    "collapsed": false
   },
   "outputs": [
    {
     "data": {
      "image/png": "[encoded data removed]",
      "text/plain": [
       "<matplotlib.figure.Figure at 0x1ab97f316d8>"
      ]
     },
     "metadata": {},
     "output_type": "display_data"
    }
   ],
   "source": [
    "plot_AUC( [X_train5], [y_train5], [classifier], ['RFC_model_5'] )"
   ]
  },
  {
   "cell_type": "markdown",
   "metadata": {},
   "source": [
    "### Model 6: Logistic regression"
   ]
  },
  {
   "cell_type": "code",
   "execution_count": 639,
   "metadata": {
    "collapsed": true
   },
   "outputs": [],
   "source": [
    "from sklearn.linear_model import LogisticRegression"
   ]
  },
  {
   "cell_type": "code",
   "execution_count": 641,
   "metadata": {
    "collapsed": false
   },
   "outputs": [],
   "source": [
    "data_predictors6 = data_predictors.copy(deep = True)\n",
    "data_predictors6.drop(['days_drive'], axis = 1, inplace = True)"
   ]
  },
  {
   "cell_type": "code",
   "execution_count": 642,
   "metadata": {
    "collapsed": true
   },
   "outputs": [],
   "source": [
    "X_train6, X_test6, y_train6, y_test6 = sampling_stratified_shuffle_split( data_predictors6, data_target )"
   ]
  },
  {
   "cell_type": "code",
   "execution_count": 648,
   "metadata": {
    "collapsed": false,
    "scrolled": true
   },
   "outputs": [
    {
     "data": {
      "text/plain": [
       "LogisticRegression(C=0.5, class_weight=None, dual=False, fit_intercept=True,\n",
       "          intercept_scaling=1, max_iter=100, multi_class='ovr', n_jobs=1,\n",
       "          penalty='l2', random_state=256104, solver='liblinear',\n",
       "          tol=0.0001, verbose=0, warm_start=False)"
      ]
     },
     "execution_count": 648,
     "metadata": {},
     "output_type": "execute_result"
    }
   ],
   "source": [
    "lr = LogisticRegression( C = 0.5, penalty = 'l2', random_state = dt.now().time().microsecond )\n",
    "lr.fit(X_train6, np.ravel(y_train6))"
   ]
  },
  {
   "cell_type": "markdown",
   "metadata": {},
   "source": [
    "#### Model accuracy"
   ]
  },
  {
   "cell_type": "code",
   "execution_count": 650,
   "metadata": {
    "collapsed": false,
    "scrolled": true
   },
   "outputs": [
    {
     "name": "stdout",
     "output_type": "stream",
     "text": [
      "Test score: 0.888319609637\n"
     ]
    }
   ],
   "source": [
    "print(\"Test score:\", lr.score(X_test6, np.ravel(y_test6)))"
   ]
  },
  {
   "cell_type": "markdown",
   "metadata": {},
   "source": [
    "#### ROC curve"
   ]
  },
  {
   "cell_type": "code",
   "execution_count": 652,
   "metadata": {
    "collapsed": false
   },
   "outputs": [
    {
     "data": {
      "image/png": "[encoded data removed]",
      "text/plain": [
       "<matplotlib.figure.Figure at 0x1ab97c2e358>"
      ]
     },
     "metadata": {},
     "output_type": "display_data"
    }
   ],
   "source": [
    "plot_AUC( [X_train6], [y_train6], [lr], ['lr_model_1'] )"
   ]
  },
  {
   "cell_type": "markdown",
   "metadata": {},
   "source": [
    "## Model Validation: Combining all the models"
   ]
  },
  {
   "cell_type": "code",
   "execution_count": 654,
   "metadata": {
    "collapsed": false
   },
   "outputs": [
    {
     "data": {
      "image/png": "[encoded data removed]",
      "text/plain": [
       "<matplotlib.figure.Figure at 0x1ab9861d908>"
      ]
     },
     "metadata": {},
     "output_type": "display_data"
    }
   ],
   "source": [
    "plot_AUC( [X_train, X_train2, X_train3, X_train4, X_train5, X_train6], \n",
    "          [y_train, y_train2, y_train3, y_train4, y_train5, y_train6], \n",
    "          [rfc1, rfc2, rfc3, rfc4, classifier, lr], \n",
    "          ['RFC_model_1', 'RFC_model_2', 'RFC_model_3', 'RFC_model_4', 'RFC_grid_5', 'lr_model_1'] )"
   ]
  },
  {
   "cell_type": "markdown",
   "metadata": {
    "collapsed": true
   },
   "source": [
    "<b> From the above 6 models, the most reliable models are RFC_model_2 and RFC_model_5 (both has same parameters) </b>"
   ]
  },
  {
   "cell_type": "markdown",
   "metadata": {},
   "source": [
    "# Conclusion:"
   ]
  },
  {
   "cell_type": "markdown",
   "metadata": {},
   "source": [
    "The best classifier is the Random Forest classifier with crossvalidation (gridsearch model - hyperparameter optimization).\n",
    "\n",
    "The most important parameters for modeling are days_bgc, signup_channel, signup_os, and city_name.\n",
    "\n",
    "The RFC model is 89% accurate for prediction"
   ]
  },
  {
   "cell_type": "code",
   "execution_count": null,
   "metadata": {
    "collapsed": true
   },
   "outputs": [],
   "source": []
  }
 ],
 "metadata": {
  "anaconda-cloud": {},
  "kernelspec": {
   "display_name": "Python [default]",
   "language": "python",
   "name": "python3"
  },
  "language_info": {
   "codemirror_mode": {
    "name": "ipython",
    "version": 3
   },
   "file_extension": ".py",
   "mimetype": "text/x-python",
   "name": "python",
   "nbconvert_exporter": "python",
   "pygments_lexer": "ipython3",
   "version": "3.5.2"
  }
 },
 "nbformat": 4,
 "nbformat_minor": 1
}
