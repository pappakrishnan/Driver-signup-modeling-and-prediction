{
 "cells": [
  {
   "cell_type": "code",
   "execution_count": null,
   "metadata": {
    "collapsed": true
   },
   "outputs": [],
   "source": []
  },
  {
   "cell_type": "code",
   "execution_count": null,
   "metadata": {
    "collapsed": true
   },
   "outputs": [],
   "source": []
  },
  {
   "cell_type": "markdown",
   "metadata": {
    "collapsed": true
   },
   "source": [
    "<b> Questions to answer: </b>\n",
    "1. Which driver signups are most likely to start driving\n",
    "2. What factors are best at predicting whether a signup will result in driving and offer insights"
   ]
  },
  {
   "cell_type": "markdown",
   "metadata": {
    "collapsed": true
   },
   "source": [
    "Dataset provided contains driver's background information\n",
    "\n",
    "<b> Data description: </b>\n",
    "\n",
    "id: driver_id\n",
    "\n",
    "city_id : city_id this user signed up in\n",
    "\n",
    "signup_os : signup device of the user (“android”, “ios”, “website”, “other”)\n",
    "\n",
    "signup_channel : what channel did the driver sign up from (“offline”, “paid”, “organic”, “referral”)\n",
    "\n",
    "signup_timestamp : timestamp of account creation; local time in the form ‘YYYYMMDD’\n",
    "\n",
    "bgc_date : date of background check consent; in the form ‘YYYYMMDD’\n",
    "\n",
    "vehicle_added_date : date when driver’s vehicle information was uploaded; in the form ‘YYYYMMDD’\n",
    "\n",
    "first_trip_date : date of the first trip as a driver; in the form ‘YYYYMMDD’\n",
    "\n",
    "vehicle_make: make of vehicle uploaded (i.e. Honda, Ford, Kia)\n",
    "\n",
    "vehicle_model: model of vehicle uploaded (i.e. Accord, Prius, 350z)\n",
    "\n",
    "vehicle_year: year that the car was made; in the form ‘YYYY’"
   ]
  },
  {
   "cell_type": "code",
   "execution_count": 2,
   "metadata": {
    "collapsed": false
   },
   "outputs": [],
   "source": [
    "% matplotlib inline\n",
    "\n",
    "import pandas as pd\n",
    "import numpy as np\n",
    "import matplotlib.pyplot as plt\n",
    "import seaborn as sns"
   ]
  },
  {
   "cell_type": "code",
   "execution_count": 34,
   "metadata": {
    "collapsed": false
   },
   "outputs": [
    {
     "data": {
      "text/html": [
       "<div>\n",
       "<table border=\"1\" class=\"dataframe\">\n",
       "  <thead>\n",
       "    <tr style=\"text-align: right;\">\n",
       "      <th></th>\n",
       "      <th>id</th>\n",
       "      <th>city_name</th>\n",
       "      <th>signup_os</th>\n",
       "      <th>signup_channel</th>\n",
       "      <th>signup_date</th>\n",
       "      <th>bgc_date</th>\n",
       "      <th>vehicle_added_date</th>\n",
       "      <th>vehicle_make</th>\n",
       "      <th>vehicle_model</th>\n",
       "      <th>vehicle_year</th>\n",
       "      <th>first_completed_date</th>\n",
       "    </tr>\n",
       "  </thead>\n",
       "  <tbody>\n",
       "    <tr>\n",
       "      <th>0</th>\n",
       "      <td>1</td>\n",
       "      <td>Strark</td>\n",
       "      <td>ios web</td>\n",
       "      <td>Paid</td>\n",
       "      <td>1/2/16</td>\n",
       "      <td>NaN</td>\n",
       "      <td>NaN</td>\n",
       "      <td>NaN</td>\n",
       "      <td>NaN</td>\n",
       "      <td>NaN</td>\n",
       "      <td>NaN</td>\n",
       "    </tr>\n",
       "    <tr>\n",
       "      <th>1</th>\n",
       "      <td>2</td>\n",
       "      <td>Strark</td>\n",
       "      <td>windows</td>\n",
       "      <td>Paid</td>\n",
       "      <td>1/21/16</td>\n",
       "      <td>NaN</td>\n",
       "      <td>NaN</td>\n",
       "      <td>NaN</td>\n",
       "      <td>NaN</td>\n",
       "      <td>NaN</td>\n",
       "      <td>NaN</td>\n",
       "    </tr>\n",
       "    <tr>\n",
       "      <th>2</th>\n",
       "      <td>3</td>\n",
       "      <td>Wrouver</td>\n",
       "      <td>windows</td>\n",
       "      <td>Organic</td>\n",
       "      <td>1/11/16</td>\n",
       "      <td>1/11/16</td>\n",
       "      <td>NaN</td>\n",
       "      <td>NaN</td>\n",
       "      <td>NaN</td>\n",
       "      <td>NaN</td>\n",
       "      <td>NaN</td>\n",
       "    </tr>\n",
       "    <tr>\n",
       "      <th>3</th>\n",
       "      <td>4</td>\n",
       "      <td>Berton</td>\n",
       "      <td>android web</td>\n",
       "      <td>Referral</td>\n",
       "      <td>1/29/16</td>\n",
       "      <td>2/3/16</td>\n",
       "      <td>2/3/16</td>\n",
       "      <td>Toyota</td>\n",
       "      <td>Corolla</td>\n",
       "      <td>2016.0</td>\n",
       "      <td>2/3/16</td>\n",
       "    </tr>\n",
       "    <tr>\n",
       "      <th>4</th>\n",
       "      <td>5</td>\n",
       "      <td>Strark</td>\n",
       "      <td>android web</td>\n",
       "      <td>Referral</td>\n",
       "      <td>1/10/16</td>\n",
       "      <td>1/25/16</td>\n",
       "      <td>1/26/16</td>\n",
       "      <td>Hyundai</td>\n",
       "      <td>Sonata</td>\n",
       "      <td>2016.0</td>\n",
       "      <td>NaN</td>\n",
       "    </tr>\n",
       "  </tbody>\n",
       "</table>\n",
       "</div>"
      ],
      "text/plain": [
       "   id city_name    signup_os signup_channel signup_date bgc_date  \\\n",
       "0   1    Strark      ios web           Paid      1/2/16      NaN   \n",
       "1   2    Strark      windows           Paid     1/21/16      NaN   \n",
       "2   3   Wrouver      windows        Organic     1/11/16  1/11/16   \n",
       "3   4    Berton  android web       Referral     1/29/16   2/3/16   \n",
       "4   5    Strark  android web       Referral     1/10/16  1/25/16   \n",
       "\n",
       "  vehicle_added_date vehicle_make vehicle_model  vehicle_year  \\\n",
       "0                NaN          NaN           NaN           NaN   \n",
       "1                NaN          NaN           NaN           NaN   \n",
       "2                NaN          NaN           NaN           NaN   \n",
       "3             2/3/16       Toyota       Corolla        2016.0   \n",
       "4            1/26/16      Hyundai        Sonata        2016.0   \n",
       "\n",
       "  first_completed_date  \n",
       "0                  NaN  \n",
       "1                  NaN  \n",
       "2                  NaN  \n",
       "3               2/3/16  \n",
       "4                  NaN  "
      ]
     },
     "execution_count": 34,
     "metadata": {},
     "output_type": "execute_result"
    }
   ],
   "source": [
    "data = pd.read_csv(\"./data/ds_challenge.csv\")\n",
    "data.head()"
   ]
  },
  {
   "cell_type": "code",
   "execution_count": 35,
   "metadata": {
    "collapsed": false
   },
   "outputs": [
    {
     "data": {
      "text/plain": [
       "array(['id', 'city_name', 'signup_os', 'signup_channel', 'signup_date',\n",
       "       'bgc_date', 'vehicle_added_date', 'vehicle_make', 'vehicle_model',\n",
       "       'vehicle_year', 'first_completed_date'], dtype=object)"
      ]
     },
     "execution_count": 35,
     "metadata": {},
     "output_type": "execute_result"
    }
   ],
   "source": [
    "data.columns.values"
   ]
  },
  {
   "cell_type": "code",
   "execution_count": 36,
   "metadata": {
    "collapsed": false
   },
   "outputs": [
    {
     "data": {
      "text/plain": [
       "id                      54681\n",
       "city_name               54681\n",
       "signup_os               47824\n",
       "signup_channel          54681\n",
       "signup_date             54681\n",
       "bgc_date                32896\n",
       "vehicle_added_date      13134\n",
       "vehicle_make            13223\n",
       "vehicle_model           13223\n",
       "vehicle_year            13223\n",
       "first_completed_date     6137\n",
       "dtype: int64"
      ]
     },
     "execution_count": 36,
     "metadata": {},
     "output_type": "execute_result"
    }
   ],
   "source": [
    "data.count()"
   ]
  },
  {
   "cell_type": "code",
   "execution_count": 37,
   "metadata": {
    "collapsed": false
   },
   "outputs": [
    {
     "name": "stdout",
     "output_type": "stream",
     "text": [
      "id                      1.000000\n",
      "city_name               1.000000\n",
      "signup_os               0.874600\n",
      "signup_channel          1.000000\n",
      "signup_date             1.000000\n",
      "bgc_date                0.601598\n",
      "vehicle_added_date      0.240193\n",
      "vehicle_make            0.241821\n",
      "vehicle_model           0.241821\n",
      "vehicle_year            0.241821\n",
      "first_completed_date    0.112233\n",
      "dtype: float64\n"
     ]
    }
   ],
   "source": [
    "data_percent = data.count() / len(data)\n",
    "print(data_percent)"
   ]
  },
  {
   "cell_type": "markdown",
   "metadata": {
    "collapsed": true
   },
   "source": [
    "The parameters with lot of missing values may not contain useful information for modeling. Hence, lets assume a cutoff of 60% non-NaN values and drop the parameters with values less than that. "
   ]
  },
  {
   "cell_type": "code",
   "execution_count": 38,
   "metadata": {
    "collapsed": false
   },
   "outputs": [
    {
     "data": {
      "text/plain": [
       "id                1.000000\n",
       "city_name         1.000000\n",
       "signup_os         0.874600\n",
       "signup_channel    1.000000\n",
       "signup_date       1.000000\n",
       "bgc_date          0.601598\n",
       "dtype: float64"
      ]
     },
     "execution_count": 38,
     "metadata": {},
     "output_type": "execute_result"
    }
   ],
   "source": [
    "data_percent[data_percent > 0.6]"
   ]
  },
  {
   "cell_type": "code",
   "execution_count": 39,
   "metadata": {
    "collapsed": false,
    "scrolled": true
   },
   "outputs": [
    {
     "name": "stdout",
     "output_type": "stream",
     "text": [
      "['id' 'city_name' 'signup_os' 'signup_channel' 'signup_date' 'bgc_date']\n"
     ]
    }
   ],
   "source": [
    "valid_parameters = data_percent[data_percent > 0.6].index.values\n",
    "print(valid_parameters)"
   ]
  },
  {
   "cell_type": "code",
   "execution_count": 46,
   "metadata": {
    "collapsed": false
   },
   "outputs": [],
   "source": [
    "valid_parameters = np.append( valid_parameters, 'first_completed_date')"
   ]
  },
  {
   "cell_type": "code",
   "execution_count": 47,
   "metadata": {
    "collapsed": false
   },
   "outputs": [
    {
     "data": {
      "text/html": [
       "<div>\n",
       "<table border=\"1\" class=\"dataframe\">\n",
       "  <thead>\n",
       "    <tr style=\"text-align: right;\">\n",
       "      <th></th>\n",
       "      <th>id</th>\n",
       "      <th>city_name</th>\n",
       "      <th>signup_os</th>\n",
       "      <th>signup_channel</th>\n",
       "      <th>signup_date</th>\n",
       "      <th>bgc_date</th>\n",
       "      <th>first_completed_date</th>\n",
       "    </tr>\n",
       "  </thead>\n",
       "  <tbody>\n",
       "    <tr>\n",
       "      <th>0</th>\n",
       "      <td>1</td>\n",
       "      <td>Strark</td>\n",
       "      <td>ios web</td>\n",
       "      <td>Paid</td>\n",
       "      <td>1/2/16</td>\n",
       "      <td>NaN</td>\n",
       "      <td>NaN</td>\n",
       "    </tr>\n",
       "    <tr>\n",
       "      <th>1</th>\n",
       "      <td>2</td>\n",
       "      <td>Strark</td>\n",
       "      <td>windows</td>\n",
       "      <td>Paid</td>\n",
       "      <td>1/21/16</td>\n",
       "      <td>NaN</td>\n",
       "      <td>NaN</td>\n",
       "    </tr>\n",
       "    <tr>\n",
       "      <th>2</th>\n",
       "      <td>3</td>\n",
       "      <td>Wrouver</td>\n",
       "      <td>windows</td>\n",
       "      <td>Organic</td>\n",
       "      <td>1/11/16</td>\n",
       "      <td>1/11/16</td>\n",
       "      <td>NaN</td>\n",
       "    </tr>\n",
       "    <tr>\n",
       "      <th>3</th>\n",
       "      <td>4</td>\n",
       "      <td>Berton</td>\n",
       "      <td>android web</td>\n",
       "      <td>Referral</td>\n",
       "      <td>1/29/16</td>\n",
       "      <td>2/3/16</td>\n",
       "      <td>2/3/16</td>\n",
       "    </tr>\n",
       "    <tr>\n",
       "      <th>4</th>\n",
       "      <td>5</td>\n",
       "      <td>Strark</td>\n",
       "      <td>android web</td>\n",
       "      <td>Referral</td>\n",
       "      <td>1/10/16</td>\n",
       "      <td>1/25/16</td>\n",
       "      <td>NaN</td>\n",
       "    </tr>\n",
       "  </tbody>\n",
       "</table>\n",
       "</div>"
      ],
      "text/plain": [
       "   id city_name    signup_os signup_channel signup_date bgc_date  \\\n",
       "0   1    Strark      ios web           Paid      1/2/16      NaN   \n",
       "1   2    Strark      windows           Paid     1/21/16      NaN   \n",
       "2   3   Wrouver      windows        Organic     1/11/16  1/11/16   \n",
       "3   4    Berton  android web       Referral     1/29/16   2/3/16   \n",
       "4   5    Strark  android web       Referral     1/10/16  1/25/16   \n",
       "\n",
       "  first_completed_date  \n",
       "0                  NaN  \n",
       "1                  NaN  \n",
       "2                  NaN  \n",
       "3               2/3/16  \n",
       "4                  NaN  "
      ]
     },
     "execution_count": 47,
     "metadata": {},
     "output_type": "execute_result"
    }
   ],
   "source": [
    "# Retain only valid_parameters in the dataframe:\n",
    "data = data[valid_parameters]\n",
    "data.head()"
   ]
  },
  {
   "cell_type": "markdown",
   "metadata": {},
   "source": [
    "<b> Is 'id' a unique variable ? </b>"
   ]
  },
  {
   "cell_type": "code",
   "execution_count": 22,
   "metadata": {
    "collapsed": false
   },
   "outputs": [
    {
     "name": "stdout",
     "output_type": "stream",
     "text": [
      "id_unique_count: 54681\n",
      "Length of the dataframe: 54681\n"
     ]
    }
   ],
   "source": [
    "id_unique_count = len(data['id'].unique())\n",
    "print(\"id_unique_count: %d\" %id_unique_count)\n",
    "print(\"Length of the dataframe: %d\" %len(data))"
   ]
  },
  {
   "cell_type": "markdown",
   "metadata": {},
   "source": [
    "Therefore 'id' is a unique value for each user as expected and can be assigned as index of the dataframe"
   ]
  },
  {
   "cell_type": "code",
   "execution_count": 48,
   "metadata": {
    "collapsed": true
   },
   "outputs": [],
   "source": [
    "data = data.set_index(\"id\", drop = True)\n",
    "data['signup_date'] = pd.to_datetime(data['signup_date'])\n",
    "data['bgc_date'] = pd.to_datetime(data['bgc_date'])\n",
    "data['first_completed_date'] = pd.to_datetime(data['first_completed_date'])"
   ]
  },
  {
   "cell_type": "code",
   "execution_count": 49,
   "metadata": {
    "collapsed": false
   },
   "outputs": [
    {
     "data": {
      "text/html": [
       "<div>\n",
       "<table border=\"1\" class=\"dataframe\">\n",
       "  <thead>\n",
       "    <tr style=\"text-align: right;\">\n",
       "      <th></th>\n",
       "      <th>city_name</th>\n",
       "      <th>signup_os</th>\n",
       "      <th>signup_channel</th>\n",
       "      <th>signup_date</th>\n",
       "      <th>bgc_date</th>\n",
       "      <th>first_completed_date</th>\n",
       "    </tr>\n",
       "    <tr>\n",
       "      <th>id</th>\n",
       "      <th></th>\n",
       "      <th></th>\n",
       "      <th></th>\n",
       "      <th></th>\n",
       "      <th></th>\n",
       "      <th></th>\n",
       "    </tr>\n",
       "  </thead>\n",
       "  <tbody>\n",
       "    <tr>\n",
       "      <th>1</th>\n",
       "      <td>Strark</td>\n",
       "      <td>ios web</td>\n",
       "      <td>Paid</td>\n",
       "      <td>2016-01-02</td>\n",
       "      <td>NaT</td>\n",
       "      <td>NaT</td>\n",
       "    </tr>\n",
       "    <tr>\n",
       "      <th>2</th>\n",
       "      <td>Strark</td>\n",
       "      <td>windows</td>\n",
       "      <td>Paid</td>\n",
       "      <td>2016-01-21</td>\n",
       "      <td>NaT</td>\n",
       "      <td>NaT</td>\n",
       "    </tr>\n",
       "    <tr>\n",
       "      <th>3</th>\n",
       "      <td>Wrouver</td>\n",
       "      <td>windows</td>\n",
       "      <td>Organic</td>\n",
       "      <td>2016-01-11</td>\n",
       "      <td>2016-01-11</td>\n",
       "      <td>NaT</td>\n",
       "    </tr>\n",
       "    <tr>\n",
       "      <th>4</th>\n",
       "      <td>Berton</td>\n",
       "      <td>android web</td>\n",
       "      <td>Referral</td>\n",
       "      <td>2016-01-29</td>\n",
       "      <td>2016-02-03</td>\n",
       "      <td>2016-02-03</td>\n",
       "    </tr>\n",
       "    <tr>\n",
       "      <th>5</th>\n",
       "      <td>Strark</td>\n",
       "      <td>android web</td>\n",
       "      <td>Referral</td>\n",
       "      <td>2016-01-10</td>\n",
       "      <td>2016-01-25</td>\n",
       "      <td>NaT</td>\n",
       "    </tr>\n",
       "  </tbody>\n",
       "</table>\n",
       "</div>"
      ],
      "text/plain": [
       "   city_name    signup_os signup_channel signup_date   bgc_date  \\\n",
       "id                                                                \n",
       "1     Strark      ios web           Paid  2016-01-02        NaT   \n",
       "2     Strark      windows           Paid  2016-01-21        NaT   \n",
       "3    Wrouver      windows        Organic  2016-01-11 2016-01-11   \n",
       "4     Berton  android web       Referral  2016-01-29 2016-02-03   \n",
       "5     Strark  android web       Referral  2016-01-10 2016-01-25   \n",
       "\n",
       "   first_completed_date  \n",
       "id                       \n",
       "1                   NaT  \n",
       "2                   NaT  \n",
       "3                   NaT  \n",
       "4            2016-02-03  \n",
       "5                   NaT  "
      ]
     },
     "execution_count": 49,
     "metadata": {},
     "output_type": "execute_result"
    }
   ],
   "source": [
    "data.head()"
   ]
  },
  {
   "cell_type": "markdown",
   "metadata": {},
   "source": [
    "As we know, signup_os and bgc_date has missing values that needs to be replaced"
   ]
  },
  {
   "cell_type": "markdown",
   "metadata": {},
   "source": [
    "## Data Exploration:"
   ]
  },
  {
   "cell_type": "markdown",
   "metadata": {},
   "source": [
    "<b> Let's do some data exploration to help replace missing values: </b>"
   ]
  },
  {
   "cell_type": "markdown",
   "metadata": {},
   "source": [
    "### 1. Frequency matrix:"
   ]
  },
  {
   "cell_type": "code",
   "execution_count": 54,
   "metadata": {
    "collapsed": true
   },
   "outputs": [],
   "source": [
    "del df_group1"
   ]
  },
  {
   "cell_type": "code",
   "execution_count": 50,
   "metadata": {
    "collapsed": false
   },
   "outputs": [
    {
     "data": {
      "text/html": [
       "<div>\n",
       "<table border=\"1\" class=\"dataframe\">\n",
       "  <thead>\n",
       "    <tr style=\"text-align: right;\">\n",
       "      <th></th>\n",
       "      <th>signup_channel</th>\n",
       "      <th>city_name</th>\n",
       "      <th>signup_os</th>\n",
       "      <th>Count</th>\n",
       "    </tr>\n",
       "  </thead>\n",
       "  <tbody>\n",
       "    <tr>\n",
       "      <th>0</th>\n",
       "      <td>Organic</td>\n",
       "      <td>Berton</td>\n",
       "      <td>android web</td>\n",
       "      <td>1052</td>\n",
       "    </tr>\n",
       "    <tr>\n",
       "      <th>1</th>\n",
       "      <td>Organic</td>\n",
       "      <td>Berton</td>\n",
       "      <td>ios web</td>\n",
       "      <td>1427</td>\n",
       "    </tr>\n",
       "    <tr>\n",
       "      <th>2</th>\n",
       "      <td>Organic</td>\n",
       "      <td>Berton</td>\n",
       "      <td>mac</td>\n",
       "      <td>699</td>\n",
       "    </tr>\n",
       "    <tr>\n",
       "      <th>3</th>\n",
       "      <td>Organic</td>\n",
       "      <td>Berton</td>\n",
       "      <td>other</td>\n",
       "      <td>374</td>\n",
       "    </tr>\n",
       "    <tr>\n",
       "      <th>4</th>\n",
       "      <td>Organic</td>\n",
       "      <td>Berton</td>\n",
       "      <td>windows</td>\n",
       "      <td>697</td>\n",
       "    </tr>\n",
       "  </tbody>\n",
       "</table>\n",
       "</div>"
      ],
      "text/plain": [
       "  signup_channel city_name    signup_os  Count\n",
       "0        Organic    Berton  android web   1052\n",
       "1        Organic    Berton      ios web   1427\n",
       "2        Organic    Berton          mac    699\n",
       "3        Organic    Berton        other    374\n",
       "4        Organic    Berton      windows    697"
      ]
     },
     "execution_count": 50,
     "metadata": {},
     "output_type": "execute_result"
    }
   ],
   "source": [
    "df_group1 = data.groupby(['signup_channel', 'city_name', 'signup_os'])['signup_date'].count()\n",
    "df_group1 = df_group1.reset_index()\n",
    "df_group1.columns = ['signup_channel', 'city_name', 'signup_os', 'Count']\n",
    "df_group1.head()"
   ]
  },
  {
   "cell_type": "code",
   "execution_count": 10,
   "metadata": {
    "collapsed": false
   },
   "outputs": [
    {
     "data": {
      "text/plain": [
       "<matplotlib.axes._subplots.AxesSubplot at 0xc4d358>"
      ]
     },
     "execution_count": 10,
     "metadata": {},
     "output_type": "execute_result"
    },
    {
     "data": {
      "image/png": "[encoded data removed]",
      "text/plain": [
       "<matplotlib.figure.Figure at 0x2f98278>"
      ]
     },
     "metadata": {},
     "output_type": "display_data"
    }
   ],
   "source": [
    "df_group1.ix[ (df_group1['signup_channel'] == 'Organic') & (df_group1['city_name'] == 'Berton')].plot.bar( x = 'signup_os', y = 'Count', figsize = (6, 4) )"
   ]
  },
  {
   "cell_type": "markdown",
   "metadata": {},
   "source": [
    "From the above plot, it is obvious that when the 'signup_channel' is Organic and 'city_name' is berton then the user is more likely to have signedup from ios web and the next option is high probability is android web. \n",
    "\n",
    "Although, the likelihood for being signedup from ios web is higher than the other options, we cannot just ignore them as they are not negligible. "
   ]
  },
  {
   "cell_type": "markdown",
   "metadata": {},
   "source": [
    "Let's look at another case:"
   ]
  },
  {
   "cell_type": "code",
   "execution_count": 81,
   "metadata": {
    "collapsed": false
   },
   "outputs": [
    {
     "data": {
      "text/plain": [
       "<matplotlib.axes._subplots.AxesSubplot at 0x2956b574e80>"
      ]
     },
     "execution_count": 81,
     "metadata": {},
     "output_type": "execute_result"
    },
    {
     "data": {
      "image/png": "[encoded data removed]",
      "text/plain": [
       "<matplotlib.figure.Figure at 0x2956aef3320>"
      ]
     },
     "metadata": {},
     "output_type": "display_data"
    }
   ],
   "source": [
    "df_group1.ix[ (df_group1['signup_channel'] == 'Paid') & (df_group1['city_name'] == 'Strark')].plot.bar( x = 'signup_os', y = 'Count', figsize = (6, 4) )"
   ]
  },
  {
   "cell_type": "markdown",
   "metadata": {},
   "source": [
    "In such cases, the two best methods to replace missing values are:\n",
    "    1. Assign weight to each of the categories based on the count and pick randomly\n",
    "    2. Develop a model by assuming 'signup_os' as the target variable with 'signup_channel' and 'city_name' as predictors"
   ]
  },
  {
   "cell_type": "markdown",
   "metadata": {},
   "source": [
    "Lets add probability for each group in the frequency table"
   ]
  },
  {
   "cell_type": "code",
   "execution_count": 51,
   "metadata": {
    "collapsed": false
   },
   "outputs": [
    {
     "data": {
      "text/html": [
       "<div>\n",
       "<table border=\"1\" class=\"dataframe\">\n",
       "  <thead>\n",
       "    <tr style=\"text-align: right;\">\n",
       "      <th></th>\n",
       "      <th>signup_channel</th>\n",
       "      <th>city_name</th>\n",
       "      <th>Total</th>\n",
       "    </tr>\n",
       "  </thead>\n",
       "  <tbody>\n",
       "    <tr>\n",
       "      <th>0</th>\n",
       "      <td>Organic</td>\n",
       "      <td>Berton</td>\n",
       "      <td>4249</td>\n",
       "    </tr>\n",
       "    <tr>\n",
       "      <th>1</th>\n",
       "      <td>Organic</td>\n",
       "      <td>Strark</td>\n",
       "      <td>5668</td>\n",
       "    </tr>\n",
       "    <tr>\n",
       "      <th>2</th>\n",
       "      <td>Organic</td>\n",
       "      <td>Wrouver</td>\n",
       "      <td>978</td>\n",
       "    </tr>\n",
       "    <tr>\n",
       "      <th>3</th>\n",
       "      <td>Paid</td>\n",
       "      <td>Berton</td>\n",
       "      <td>8708</td>\n",
       "    </tr>\n",
       "    <tr>\n",
       "      <th>4</th>\n",
       "      <td>Paid</td>\n",
       "      <td>Strark</td>\n",
       "      <td>12350</td>\n",
       "    </tr>\n",
       "  </tbody>\n",
       "</table>\n",
       "</div>"
      ],
      "text/plain": [
       "  signup_channel city_name  Total\n",
       "0        Organic    Berton   4249\n",
       "1        Organic    Strark   5668\n",
       "2        Organic   Wrouver    978\n",
       "3           Paid    Berton   8708\n",
       "4           Paid    Strark  12350"
      ]
     },
     "execution_count": 51,
     "metadata": {},
     "output_type": "execute_result"
    }
   ],
   "source": [
    "df_group1_freq = data.groupby(['signup_channel', 'city_name'])['signup_os'].count()\n",
    "df_group1_freq = df_group1_freq.reset_index()\n",
    "df_group1_freq.columns = ['signup_channel', 'city_name', 'Total']\n",
    "df_group1_freq.head()"
   ]
  },
  {
   "cell_type": "code",
   "execution_count": 52,
   "metadata": {
    "collapsed": true
   },
   "outputs": [],
   "source": [
    "df = pd.merge(df_group1, df_group1_freq, how = 'outer', on=['signup_channel', 'city_name'])"
   ]
  },
  {
   "cell_type": "code",
   "execution_count": 53,
   "metadata": {
    "collapsed": false
   },
   "outputs": [
    {
     "data": {
      "text/html": [
       "<div>\n",
       "<table border=\"1\" class=\"dataframe\">\n",
       "  <thead>\n",
       "    <tr style=\"text-align: right;\">\n",
       "      <th></th>\n",
       "      <th>signup_channel</th>\n",
       "      <th>city_name</th>\n",
       "      <th>signup_os</th>\n",
       "      <th>Count</th>\n",
       "      <th>Total</th>\n",
       "    </tr>\n",
       "  </thead>\n",
       "  <tbody>\n",
       "    <tr>\n",
       "      <th>0</th>\n",
       "      <td>Organic</td>\n",
       "      <td>Berton</td>\n",
       "      <td>android web</td>\n",
       "      <td>1052</td>\n",
       "      <td>4249</td>\n",
       "    </tr>\n",
       "    <tr>\n",
       "      <th>1</th>\n",
       "      <td>Organic</td>\n",
       "      <td>Berton</td>\n",
       "      <td>ios web</td>\n",
       "      <td>1427</td>\n",
       "      <td>4249</td>\n",
       "    </tr>\n",
       "    <tr>\n",
       "      <th>2</th>\n",
       "      <td>Organic</td>\n",
       "      <td>Berton</td>\n",
       "      <td>mac</td>\n",
       "      <td>699</td>\n",
       "      <td>4249</td>\n",
       "    </tr>\n",
       "    <tr>\n",
       "      <th>3</th>\n",
       "      <td>Organic</td>\n",
       "      <td>Berton</td>\n",
       "      <td>other</td>\n",
       "      <td>374</td>\n",
       "      <td>4249</td>\n",
       "    </tr>\n",
       "    <tr>\n",
       "      <th>4</th>\n",
       "      <td>Organic</td>\n",
       "      <td>Berton</td>\n",
       "      <td>windows</td>\n",
       "      <td>697</td>\n",
       "      <td>4249</td>\n",
       "    </tr>\n",
       "    <tr>\n",
       "      <th>5</th>\n",
       "      <td>Organic</td>\n",
       "      <td>Strark</td>\n",
       "      <td>android web</td>\n",
       "      <td>1529</td>\n",
       "      <td>5668</td>\n",
       "    </tr>\n",
       "    <tr>\n",
       "      <th>6</th>\n",
       "      <td>Organic</td>\n",
       "      <td>Strark</td>\n",
       "      <td>ios web</td>\n",
       "      <td>1814</td>\n",
       "      <td>5668</td>\n",
       "    </tr>\n",
       "    <tr>\n",
       "      <th>7</th>\n",
       "      <td>Organic</td>\n",
       "      <td>Strark</td>\n",
       "      <td>mac</td>\n",
       "      <td>929</td>\n",
       "      <td>5668</td>\n",
       "    </tr>\n",
       "    <tr>\n",
       "      <th>8</th>\n",
       "      <td>Organic</td>\n",
       "      <td>Strark</td>\n",
       "      <td>other</td>\n",
       "      <td>430</td>\n",
       "      <td>5668</td>\n",
       "    </tr>\n",
       "    <tr>\n",
       "      <th>9</th>\n",
       "      <td>Organic</td>\n",
       "      <td>Strark</td>\n",
       "      <td>windows</td>\n",
       "      <td>966</td>\n",
       "      <td>5668</td>\n",
       "    </tr>\n",
       "  </tbody>\n",
       "</table>\n",
       "</div>"
      ],
      "text/plain": [
       "  signup_channel city_name    signup_os  Count  Total\n",
       "0        Organic    Berton  android web   1052   4249\n",
       "1        Organic    Berton      ios web   1427   4249\n",
       "2        Organic    Berton          mac    699   4249\n",
       "3        Organic    Berton        other    374   4249\n",
       "4        Organic    Berton      windows    697   4249\n",
       "5        Organic    Strark  android web   1529   5668\n",
       "6        Organic    Strark      ios web   1814   5668\n",
       "7        Organic    Strark          mac    929   5668\n",
       "8        Organic    Strark        other    430   5668\n",
       "9        Organic    Strark      windows    966   5668"
      ]
     },
     "execution_count": 53,
     "metadata": {},
     "output_type": "execute_result"
    }
   ],
   "source": [
    "df.head(10)"
   ]
  },
  {
   "cell_type": "code",
   "execution_count": 54,
   "metadata": {
    "collapsed": true
   },
   "outputs": [],
   "source": [
    "df['prob'] = df['Count'] / df['Total']"
   ]
  },
  {
   "cell_type": "code",
   "execution_count": 55,
   "metadata": {
    "collapsed": false
   },
   "outputs": [
    {
     "data": {
      "text/html": [
       "<div>\n",
       "<table border=\"1\" class=\"dataframe\">\n",
       "  <thead>\n",
       "    <tr style=\"text-align: right;\">\n",
       "      <th></th>\n",
       "      <th>signup_channel</th>\n",
       "      <th>city_name</th>\n",
       "      <th>signup_os</th>\n",
       "      <th>Count</th>\n",
       "      <th>Total</th>\n",
       "      <th>prob</th>\n",
       "    </tr>\n",
       "  </thead>\n",
       "  <tbody>\n",
       "    <tr>\n",
       "      <th>0</th>\n",
       "      <td>Organic</td>\n",
       "      <td>Berton</td>\n",
       "      <td>android web</td>\n",
       "      <td>1052</td>\n",
       "      <td>4249</td>\n",
       "      <td>0.247588</td>\n",
       "    </tr>\n",
       "    <tr>\n",
       "      <th>1</th>\n",
       "      <td>Organic</td>\n",
       "      <td>Berton</td>\n",
       "      <td>ios web</td>\n",
       "      <td>1427</td>\n",
       "      <td>4249</td>\n",
       "      <td>0.335844</td>\n",
       "    </tr>\n",
       "    <tr>\n",
       "      <th>2</th>\n",
       "      <td>Organic</td>\n",
       "      <td>Berton</td>\n",
       "      <td>mac</td>\n",
       "      <td>699</td>\n",
       "      <td>4249</td>\n",
       "      <td>0.164509</td>\n",
       "    </tr>\n",
       "    <tr>\n",
       "      <th>3</th>\n",
       "      <td>Organic</td>\n",
       "      <td>Berton</td>\n",
       "      <td>other</td>\n",
       "      <td>374</td>\n",
       "      <td>4249</td>\n",
       "      <td>0.088021</td>\n",
       "    </tr>\n",
       "    <tr>\n",
       "      <th>4</th>\n",
       "      <td>Organic</td>\n",
       "      <td>Berton</td>\n",
       "      <td>windows</td>\n",
       "      <td>697</td>\n",
       "      <td>4249</td>\n",
       "      <td>0.164039</td>\n",
       "    </tr>\n",
       "  </tbody>\n",
       "</table>\n",
       "</div>"
      ],
      "text/plain": [
       "  signup_channel city_name    signup_os  Count  Total      prob\n",
       "0        Organic    Berton  android web   1052   4249  0.247588\n",
       "1        Organic    Berton      ios web   1427   4249  0.335844\n",
       "2        Organic    Berton          mac    699   4249  0.164509\n",
       "3        Organic    Berton        other    374   4249  0.088021\n",
       "4        Organic    Berton      windows    697   4249  0.164039"
      ]
     },
     "execution_count": 55,
     "metadata": {},
     "output_type": "execute_result"
    }
   ],
   "source": [
    "df.head()"
   ]
  },
  {
   "cell_type": "markdown",
   "metadata": {},
   "source": [
    "Now its time to fill NaNs in the 'signup_os' column"
   ]
  },
  {
   "cell_type": "code",
   "execution_count": 93,
   "metadata": {
    "collapsed": false
   },
   "outputs": [
    {
     "data": {
      "text/plain": [
       "(45, 6)"
      ]
     },
     "execution_count": 93,
     "metadata": {},
     "output_type": "execute_result"
    }
   ],
   "source": [
    "df.shape"
   ]
  },
  {
   "cell_type": "code",
   "execution_count": 56,
   "metadata": {
    "collapsed": false,
    "scrolled": true
   },
   "outputs": [
    {
     "data": {
      "text/html": [
       "<div>\n",
       "<table border=\"1\" class=\"dataframe\">\n",
       "  <thead>\n",
       "    <tr style=\"text-align: right;\">\n",
       "      <th></th>\n",
       "      <th>signup_channel</th>\n",
       "      <th>city_name</th>\n",
       "      <th>prob_dict</th>\n",
       "    </tr>\n",
       "  </thead>\n",
       "  <tbody>\n",
       "    <tr>\n",
       "      <th>0</th>\n",
       "      <td>Organic</td>\n",
       "      <td>Berton</td>\n",
       "      <td>{'windows': 0.16403859731701576, 'mac': 0.1645...</td>\n",
       "    </tr>\n",
       "    <tr>\n",
       "      <th>1</th>\n",
       "      <td>Organic</td>\n",
       "      <td>Strark</td>\n",
       "      <td>{'windows': 0.17043048694424842, 'mac': 0.1639...</td>\n",
       "    </tr>\n",
       "    <tr>\n",
       "      <th>2</th>\n",
       "      <td>Organic</td>\n",
       "      <td>Wrouver</td>\n",
       "      <td>{'windows': 0.20245398773006135, 'mac': 0.1717...</td>\n",
       "    </tr>\n",
       "    <tr>\n",
       "      <th>3</th>\n",
       "      <td>Paid</td>\n",
       "      <td>Berton</td>\n",
       "      <td>{'windows': 0.1619200734956362, 'mac': 0.11862...</td>\n",
       "    </tr>\n",
       "    <tr>\n",
       "      <th>4</th>\n",
       "      <td>Paid</td>\n",
       "      <td>Strark</td>\n",
       "      <td>{'windows': 0.1382995951417004, 'mac': 0.10615...</td>\n",
       "    </tr>\n",
       "    <tr>\n",
       "      <th>5</th>\n",
       "      <td>Paid</td>\n",
       "      <td>Wrouver</td>\n",
       "      <td>{'windows': 0.17680950666186532, 'mac': 0.0975...</td>\n",
       "    </tr>\n",
       "    <tr>\n",
       "      <th>6</th>\n",
       "      <td>Referral</td>\n",
       "      <td>Berton</td>\n",
       "      <td>{'windows': 0.09788308409399883, 'mac': 0.1118...</td>\n",
       "    </tr>\n",
       "    <tr>\n",
       "      <th>7</th>\n",
       "      <td>Referral</td>\n",
       "      <td>Strark</td>\n",
       "      <td>{'windows': 0.09795570698466781, 'mac': 0.1061...</td>\n",
       "    </tr>\n",
       "    <tr>\n",
       "      <th>8</th>\n",
       "      <td>Referral</td>\n",
       "      <td>Wrouver</td>\n",
       "      <td>{'windows': 0.12430632630410655, 'mac': 0.0987...</td>\n",
       "    </tr>\n",
       "  </tbody>\n",
       "</table>\n",
       "</div>"
      ],
      "text/plain": [
       "  signup_channel city_name                                          prob_dict\n",
       "0        Organic    Berton  {'windows': 0.16403859731701576, 'mac': 0.1645...\n",
       "1        Organic    Strark  {'windows': 0.17043048694424842, 'mac': 0.1639...\n",
       "2        Organic   Wrouver  {'windows': 0.20245398773006135, 'mac': 0.1717...\n",
       "3           Paid    Berton  {'windows': 0.1619200734956362, 'mac': 0.11862...\n",
       "4           Paid    Strark  {'windows': 0.1382995951417004, 'mac': 0.10615...\n",
       "5           Paid   Wrouver  {'windows': 0.17680950666186532, 'mac': 0.0975...\n",
       "6       Referral    Berton  {'windows': 0.09788308409399883, 'mac': 0.1118...\n",
       "7       Referral    Strark  {'windows': 0.09795570698466781, 'mac': 0.1061...\n",
       "8       Referral   Wrouver  {'windows': 0.12430632630410655, 'mac': 0.0987..."
      ]
     },
     "execution_count": 56,
     "metadata": {},
     "output_type": "execute_result"
    }
   ],
   "source": [
    "df_group1_prob_dict = df.groupby(['signup_channel', 'city_name']).apply(lambda x: { x1:y1 for x1, y1 in x[['signup_os', 'prob']].values}).reset_index()\n",
    "df_group1_prob_dict.columns = ['signup_channel', 'city_name', 'prob_dict']\n",
    "df_group1_prob_dict"
   ]
  },
  {
   "cell_type": "markdown",
   "metadata": {},
   "source": [
    "We can use the above probability table to fill the NaNs in 'signup_os' column"
   ]
  },
  {
   "cell_type": "code",
   "execution_count": 57,
   "metadata": {
    "collapsed": true
   },
   "outputs": [],
   "source": [
    "dat = data.copy()"
   ]
  },
  {
   "cell_type": "code",
   "execution_count": 61,
   "metadata": {
    "collapsed": false
   },
   "outputs": [
    {
     "data": {
      "text/plain": [
       "Series([], Name: signup_os, dtype: object)"
      ]
     },
     "execution_count": 61,
     "metadata": {},
     "output_type": "execute_result"
    }
   ],
   "source": [
    "dat.ix[(dat['signup_channel'] == 'Organic') & (dat['city_name'] == 'Berton') & dat['signup_os'].isnull(), 'signup_os']"
   ]
  },
  {
   "cell_type": "code",
   "execution_count": 59,
   "metadata": {
    "collapsed": false
   },
   "outputs": [],
   "source": [
    "for index_, x in df_group1_prob_dict[['signup_channel', 'city_name', 'prob_dict']].iterrows():\n",
    "    df_temp = dat.ix[(dat['signup_channel'] == x[0]) & (dat['city_name'] == x[1]) & dat['signup_os'].isnull(), 'signup_os']\n",
    "    keys, values = zip(*x['prob_dict'].items())\n",
    "    values_ = np.random.choice(keys, p = values, size = len(df_temp))\n",
    "    dat.ix[(dat['signup_channel'] == x[0]) & (dat['city_name'] == x[1]) & dat['signup_os'].isnull(), 'signup_os'] = values_"
   ]
  },
  {
   "cell_type": "code",
   "execution_count": 60,
   "metadata": {
    "collapsed": false
   },
   "outputs": [
    {
     "name": "stdout",
     "output_type": "stream",
     "text": [
      "city_name               1.000000\n",
      "signup_os               1.000000\n",
      "signup_channel          1.000000\n",
      "signup_date             1.000000\n",
      "bgc_date                0.601598\n",
      "first_completed_date    0.112233\n",
      "dtype: float64\n"
     ]
    }
   ],
   "source": [
    "data_percent = dat.count() / len(dat)\n",
    "print(data_percent)"
   ]
  },
  {
   "cell_type": "markdown",
   "metadata": {},
   "source": [
    "<b> The missing values on 'signup_os' replaced </b>"
   ]
  },
  {
   "cell_type": "code",
   "execution_count": 62,
   "metadata": {
    "collapsed": true
   },
   "outputs": [],
   "source": [
    "dat.to_csv(\"./data/ds_challenge_replaced_signup_os.csv\")"
   ]
  },
  {
   "cell_type": "markdown",
   "metadata": {
    "collapsed": true
   },
   "source": [
    "Now lets focus on replacing NaNs in bgc_date"
   ]
  },
  {
   "cell_type": "code",
   "execution_count": 98,
   "metadata": {
    "collapsed": false
   },
   "outputs": [],
   "source": [
    "dat = pd.read_csv(\"./data/ds_challenge_replaced_signup_os.csv\")\n",
    "dat['signup_date'] = pd.to_datetime(dat['signup_date'])\n",
    "dat['bgc_date'] = pd.to_datetime(dat['bgc_date'])\n",
    "dat['first_completed_date'] = pd.to_datetime(dat['first_completed_date'])                            "
   ]
  },
  {
   "cell_type": "code",
   "execution_count": 99,
   "metadata": {
    "collapsed": false
   },
   "outputs": [
    {
     "data": {
      "text/html": [
       "<div>\n",
       "<table border=\"1\" class=\"dataframe\">\n",
       "  <thead>\n",
       "    <tr style=\"text-align: right;\">\n",
       "      <th></th>\n",
       "      <th>id</th>\n",
       "      <th>city_name</th>\n",
       "      <th>signup_os</th>\n",
       "      <th>signup_channel</th>\n",
       "      <th>signup_date</th>\n",
       "      <th>bgc_date</th>\n",
       "      <th>first_completed_date</th>\n",
       "    </tr>\n",
       "  </thead>\n",
       "  <tbody>\n",
       "    <tr>\n",
       "      <th>0</th>\n",
       "      <td>1</td>\n",
       "      <td>Strark</td>\n",
       "      <td>ios web</td>\n",
       "      <td>Paid</td>\n",
       "      <td>2016-01-02</td>\n",
       "      <td>NaT</td>\n",
       "      <td>NaT</td>\n",
       "    </tr>\n",
       "    <tr>\n",
       "      <th>1</th>\n",
       "      <td>2</td>\n",
       "      <td>Strark</td>\n",
       "      <td>windows</td>\n",
       "      <td>Paid</td>\n",
       "      <td>2016-01-21</td>\n",
       "      <td>NaT</td>\n",
       "      <td>NaT</td>\n",
       "    </tr>\n",
       "    <tr>\n",
       "      <th>2</th>\n",
       "      <td>3</td>\n",
       "      <td>Wrouver</td>\n",
       "      <td>windows</td>\n",
       "      <td>Organic</td>\n",
       "      <td>2016-01-11</td>\n",
       "      <td>2016-01-11</td>\n",
       "      <td>NaT</td>\n",
       "    </tr>\n",
       "    <tr>\n",
       "      <th>3</th>\n",
       "      <td>4</td>\n",
       "      <td>Berton</td>\n",
       "      <td>android web</td>\n",
       "      <td>Referral</td>\n",
       "      <td>2016-01-29</td>\n",
       "      <td>2016-02-03</td>\n",
       "      <td>2016-02-03</td>\n",
       "    </tr>\n",
       "    <tr>\n",
       "      <th>4</th>\n",
       "      <td>5</td>\n",
       "      <td>Strark</td>\n",
       "      <td>android web</td>\n",
       "      <td>Referral</td>\n",
       "      <td>2016-01-10</td>\n",
       "      <td>2016-01-25</td>\n",
       "      <td>NaT</td>\n",
       "    </tr>\n",
       "  </tbody>\n",
       "</table>\n",
       "</div>"
      ],
      "text/plain": [
       "   id city_name    signup_os signup_channel signup_date   bgc_date  \\\n",
       "0   1    Strark      ios web           Paid  2016-01-02        NaT   \n",
       "1   2    Strark      windows           Paid  2016-01-21        NaT   \n",
       "2   3   Wrouver      windows        Organic  2016-01-11 2016-01-11   \n",
       "3   4    Berton  android web       Referral  2016-01-29 2016-02-03   \n",
       "4   5    Strark  android web       Referral  2016-01-10 2016-01-25   \n",
       "\n",
       "  first_completed_date  \n",
       "0                  NaT  \n",
       "1                  NaT  \n",
       "2                  NaT  \n",
       "3           2016-02-03  \n",
       "4                  NaT  "
      ]
     },
     "execution_count": 99,
     "metadata": {},
     "output_type": "execute_result"
    }
   ],
   "source": [
    "dat.head()"
   ]
  },
  {
   "cell_type": "markdown",
   "metadata": {
    "collapsed": true
   },
   "source": [
    "As signup_date is a datetime column and it might be correlated with bgc_date in many ways such as day, month, etc. "
   ]
  },
  {
   "cell_type": "code",
   "execution_count": 100,
   "metadata": {
    "collapsed": false
   },
   "outputs": [],
   "source": [
    "dat['signup_day'] = [x.weekday() for x in dat.signup_date]\n",
    "dat['signup_month'] = [x.month for x in dat.signup_date]"
   ]
  },
  {
   "cell_type": "markdown",
   "metadata": {},
   "source": [
    "Let's assume that when 'first_completed_date' is NaT then the driver didnt start driving after signup (0) and when there is a date then the driver started driving after signup\n",
    "\n",
    "We will create a new binary variable 'target' based on 'first_completed_date'<br>\n",
    "Target = 0 ( 'first_completed_date' is NaT ) <br>\n",
    "Target = 1 ( 'first_completed_date' is a date )"
   ]
  },
  {
   "cell_type": "code",
   "execution_count": 101,
   "metadata": {
    "collapsed": false
   },
   "outputs": [],
   "source": [
    "dat.ix[dat['first_completed_date'].isnull(), 'Target'] = 0\n",
    "dat.ix[dat['first_completed_date'].notnull(), 'Target'] = 1"
   ]
  },
  {
   "cell_type": "code",
   "execution_count": 78,
   "metadata": {
    "collapsed": false
   },
   "outputs": [
    {
     "data": {
      "text/html": [
       "<div>\n",
       "<table border=\"1\" class=\"dataframe\">\n",
       "  <thead>\n",
       "    <tr style=\"text-align: right;\">\n",
       "      <th></th>\n",
       "      <th>id</th>\n",
       "      <th>city_name</th>\n",
       "      <th>signup_os</th>\n",
       "      <th>signup_channel</th>\n",
       "      <th>signup_date</th>\n",
       "      <th>bgc_date</th>\n",
       "      <th>first_completed_date</th>\n",
       "      <th>signup_day</th>\n",
       "      <th>signup_month</th>\n",
       "      <th>Target</th>\n",
       "    </tr>\n",
       "  </thead>\n",
       "  <tbody>\n",
       "    <tr>\n",
       "      <th>0</th>\n",
       "      <td>1</td>\n",
       "      <td>Strark</td>\n",
       "      <td>ios web</td>\n",
       "      <td>Paid</td>\n",
       "      <td>2016-01-02</td>\n",
       "      <td>NaT</td>\n",
       "      <td>NaT</td>\n",
       "      <td>5</td>\n",
       "      <td>1</td>\n",
       "      <td>0.0</td>\n",
       "    </tr>\n",
       "    <tr>\n",
       "      <th>1</th>\n",
       "      <td>2</td>\n",
       "      <td>Strark</td>\n",
       "      <td>windows</td>\n",
       "      <td>Paid</td>\n",
       "      <td>2016-01-21</td>\n",
       "      <td>NaT</td>\n",
       "      <td>NaT</td>\n",
       "      <td>3</td>\n",
       "      <td>1</td>\n",
       "      <td>0.0</td>\n",
       "    </tr>\n",
       "    <tr>\n",
       "      <th>2</th>\n",
       "      <td>3</td>\n",
       "      <td>Wrouver</td>\n",
       "      <td>windows</td>\n",
       "      <td>Organic</td>\n",
       "      <td>2016-01-11</td>\n",
       "      <td>2016-01-11</td>\n",
       "      <td>NaT</td>\n",
       "      <td>0</td>\n",
       "      <td>1</td>\n",
       "      <td>0.0</td>\n",
       "    </tr>\n",
       "    <tr>\n",
       "      <th>3</th>\n",
       "      <td>4</td>\n",
       "      <td>Berton</td>\n",
       "      <td>android web</td>\n",
       "      <td>Referral</td>\n",
       "      <td>2016-01-29</td>\n",
       "      <td>2016-02-03</td>\n",
       "      <td>2016-02-03</td>\n",
       "      <td>4</td>\n",
       "      <td>1</td>\n",
       "      <td>1.0</td>\n",
       "    </tr>\n",
       "    <tr>\n",
       "      <th>4</th>\n",
       "      <td>5</td>\n",
       "      <td>Strark</td>\n",
       "      <td>android web</td>\n",
       "      <td>Referral</td>\n",
       "      <td>2016-01-10</td>\n",
       "      <td>2016-01-25</td>\n",
       "      <td>NaT</td>\n",
       "      <td>6</td>\n",
       "      <td>1</td>\n",
       "      <td>0.0</td>\n",
       "    </tr>\n",
       "    <tr>\n",
       "      <th>5</th>\n",
       "      <td>6</td>\n",
       "      <td>Strark</td>\n",
       "      <td>android web</td>\n",
       "      <td>Referral</td>\n",
       "      <td>2016-01-18</td>\n",
       "      <td>2016-01-18</td>\n",
       "      <td>NaT</td>\n",
       "      <td>0</td>\n",
       "      <td>1</td>\n",
       "      <td>0.0</td>\n",
       "    </tr>\n",
       "    <tr>\n",
       "      <th>6</th>\n",
       "      <td>7</td>\n",
       "      <td>Strark</td>\n",
       "      <td>ios web</td>\n",
       "      <td>Paid</td>\n",
       "      <td>2016-01-14</td>\n",
       "      <td>2016-01-16</td>\n",
       "      <td>2016-01-23</td>\n",
       "      <td>3</td>\n",
       "      <td>1</td>\n",
       "      <td>1.0</td>\n",
       "    </tr>\n",
       "    <tr>\n",
       "      <th>7</th>\n",
       "      <td>8</td>\n",
       "      <td>Strark</td>\n",
       "      <td>ios web</td>\n",
       "      <td>Referral</td>\n",
       "      <td>2016-01-26</td>\n",
       "      <td>2016-02-05</td>\n",
       "      <td>NaT</td>\n",
       "      <td>1</td>\n",
       "      <td>1</td>\n",
       "      <td>0.0</td>\n",
       "    </tr>\n",
       "    <tr>\n",
       "      <th>8</th>\n",
       "      <td>9</td>\n",
       "      <td>Strark</td>\n",
       "      <td>mac</td>\n",
       "      <td>Referral</td>\n",
       "      <td>2016-01-05</td>\n",
       "      <td>NaT</td>\n",
       "      <td>NaT</td>\n",
       "      <td>1</td>\n",
       "      <td>1</td>\n",
       "      <td>0.0</td>\n",
       "    </tr>\n",
       "    <tr>\n",
       "      <th>9</th>\n",
       "      <td>10</td>\n",
       "      <td>Berton</td>\n",
       "      <td>ios web</td>\n",
       "      <td>Paid</td>\n",
       "      <td>2016-01-25</td>\n",
       "      <td>NaT</td>\n",
       "      <td>NaT</td>\n",
       "      <td>0</td>\n",
       "      <td>1</td>\n",
       "      <td>0.0</td>\n",
       "    </tr>\n",
       "  </tbody>\n",
       "</table>\n",
       "</div>"
      ],
      "text/plain": [
       "   id city_name    signup_os signup_channel signup_date   bgc_date  \\\n",
       "0   1    Strark      ios web           Paid  2016-01-02        NaT   \n",
       "1   2    Strark      windows           Paid  2016-01-21        NaT   \n",
       "2   3   Wrouver      windows        Organic  2016-01-11 2016-01-11   \n",
       "3   4    Berton  android web       Referral  2016-01-29 2016-02-03   \n",
       "4   5    Strark  android web       Referral  2016-01-10 2016-01-25   \n",
       "5   6    Strark  android web       Referral  2016-01-18 2016-01-18   \n",
       "6   7    Strark      ios web           Paid  2016-01-14 2016-01-16   \n",
       "7   8    Strark      ios web       Referral  2016-01-26 2016-02-05   \n",
       "8   9    Strark          mac       Referral  2016-01-05        NaT   \n",
       "9  10    Berton      ios web           Paid  2016-01-25        NaT   \n",
       "\n",
       "  first_completed_date  signup_day  signup_month  Target  \n",
       "0                  NaT           5             1     0.0  \n",
       "1                  NaT           3             1     0.0  \n",
       "2                  NaT           0             1     0.0  \n",
       "3           2016-02-03           4             1     1.0  \n",
       "4                  NaT           6             1     0.0  \n",
       "5                  NaT           0             1     0.0  \n",
       "6           2016-01-23           3             1     1.0  \n",
       "7                  NaT           1             1     0.0  \n",
       "8                  NaT           1             1     0.0  \n",
       "9                  NaT           0             1     0.0  "
      ]
     },
     "execution_count": 78,
     "metadata": {},
     "output_type": "execute_result"
    }
   ],
   "source": [
    "dat.head(10)"
   ]
  },
  {
   "cell_type": "markdown",
   "metadata": {},
   "source": [
    "Lets also include the number of days taken to allow background check"
   ]
  },
  {
   "cell_type": "code",
   "execution_count": 102,
   "metadata": {
    "collapsed": true
   },
   "outputs": [],
   "source": [
    "dat['days_bgc'] = dat['bgc_date'] - dat['signup_date']\n",
    "dat['days_drive'] = dat['first_completed_date'] - dat['bgc_date']"
   ]
  },
  {
   "cell_type": "markdown",
   "metadata": {},
   "source": [
    "Now the columns 'signup_date', 'bgc_date', and 'first_completed_date' can be deleted as we have transformed this into new variables"
   ]
  },
  {
   "cell_type": "code",
   "execution_count": 103,
   "metadata": {
    "collapsed": false
   },
   "outputs": [],
   "source": [
    "dat.drop(['signup_date', 'bgc_date', 'first_completed_date'], inplace = True, axis = 1)"
   ]
  },
  {
   "cell_type": "code",
   "execution_count": 81,
   "metadata": {
    "collapsed": false
   },
   "outputs": [
    {
     "data": {
      "text/html": [
       "<div>\n",
       "<table border=\"1\" class=\"dataframe\">\n",
       "  <thead>\n",
       "    <tr style=\"text-align: right;\">\n",
       "      <th></th>\n",
       "      <th>id</th>\n",
       "      <th>city_name</th>\n",
       "      <th>signup_os</th>\n",
       "      <th>signup_channel</th>\n",
       "      <th>signup_day</th>\n",
       "      <th>signup_month</th>\n",
       "      <th>Target</th>\n",
       "      <th>days_bgc</th>\n",
       "      <th>days_drive</th>\n",
       "    </tr>\n",
       "  </thead>\n",
       "  <tbody>\n",
       "    <tr>\n",
       "      <th>0</th>\n",
       "      <td>1</td>\n",
       "      <td>Strark</td>\n",
       "      <td>ios web</td>\n",
       "      <td>Paid</td>\n",
       "      <td>5</td>\n",
       "      <td>1</td>\n",
       "      <td>0.0</td>\n",
       "      <td>NaT</td>\n",
       "      <td>NaT</td>\n",
       "    </tr>\n",
       "    <tr>\n",
       "      <th>1</th>\n",
       "      <td>2</td>\n",
       "      <td>Strark</td>\n",
       "      <td>windows</td>\n",
       "      <td>Paid</td>\n",
       "      <td>3</td>\n",
       "      <td>1</td>\n",
       "      <td>0.0</td>\n",
       "      <td>NaT</td>\n",
       "      <td>NaT</td>\n",
       "    </tr>\n",
       "    <tr>\n",
       "      <th>2</th>\n",
       "      <td>3</td>\n",
       "      <td>Wrouver</td>\n",
       "      <td>windows</td>\n",
       "      <td>Organic</td>\n",
       "      <td>0</td>\n",
       "      <td>1</td>\n",
       "      <td>0.0</td>\n",
       "      <td>0 days</td>\n",
       "      <td>NaT</td>\n",
       "    </tr>\n",
       "    <tr>\n",
       "      <th>3</th>\n",
       "      <td>4</td>\n",
       "      <td>Berton</td>\n",
       "      <td>android web</td>\n",
       "      <td>Referral</td>\n",
       "      <td>4</td>\n",
       "      <td>1</td>\n",
       "      <td>1.0</td>\n",
       "      <td>5 days</td>\n",
       "      <td>0 days</td>\n",
       "    </tr>\n",
       "    <tr>\n",
       "      <th>4</th>\n",
       "      <td>5</td>\n",
       "      <td>Strark</td>\n",
       "      <td>android web</td>\n",
       "      <td>Referral</td>\n",
       "      <td>6</td>\n",
       "      <td>1</td>\n",
       "      <td>0.0</td>\n",
       "      <td>15 days</td>\n",
       "      <td>NaT</td>\n",
       "    </tr>\n",
       "    <tr>\n",
       "      <th>5</th>\n",
       "      <td>6</td>\n",
       "      <td>Strark</td>\n",
       "      <td>android web</td>\n",
       "      <td>Referral</td>\n",
       "      <td>0</td>\n",
       "      <td>1</td>\n",
       "      <td>0.0</td>\n",
       "      <td>0 days</td>\n",
       "      <td>NaT</td>\n",
       "    </tr>\n",
       "    <tr>\n",
       "      <th>6</th>\n",
       "      <td>7</td>\n",
       "      <td>Strark</td>\n",
       "      <td>ios web</td>\n",
       "      <td>Paid</td>\n",
       "      <td>3</td>\n",
       "      <td>1</td>\n",
       "      <td>1.0</td>\n",
       "      <td>2 days</td>\n",
       "      <td>7 days</td>\n",
       "    </tr>\n",
       "    <tr>\n",
       "      <th>7</th>\n",
       "      <td>8</td>\n",
       "      <td>Strark</td>\n",
       "      <td>ios web</td>\n",
       "      <td>Referral</td>\n",
       "      <td>1</td>\n",
       "      <td>1</td>\n",
       "      <td>0.0</td>\n",
       "      <td>10 days</td>\n",
       "      <td>NaT</td>\n",
       "    </tr>\n",
       "    <tr>\n",
       "      <th>8</th>\n",
       "      <td>9</td>\n",
       "      <td>Strark</td>\n",
       "      <td>mac</td>\n",
       "      <td>Referral</td>\n",
       "      <td>1</td>\n",
       "      <td>1</td>\n",
       "      <td>0.0</td>\n",
       "      <td>NaT</td>\n",
       "      <td>NaT</td>\n",
       "    </tr>\n",
       "    <tr>\n",
       "      <th>9</th>\n",
       "      <td>10</td>\n",
       "      <td>Berton</td>\n",
       "      <td>ios web</td>\n",
       "      <td>Paid</td>\n",
       "      <td>0</td>\n",
       "      <td>1</td>\n",
       "      <td>0.0</td>\n",
       "      <td>NaT</td>\n",
       "      <td>NaT</td>\n",
       "    </tr>\n",
       "  </tbody>\n",
       "</table>\n",
       "</div>"
      ],
      "text/plain": [
       "   id city_name    signup_os signup_channel  signup_day  signup_month  Target  \\\n",
       "0   1    Strark      ios web           Paid           5             1     0.0   \n",
       "1   2    Strark      windows           Paid           3             1     0.0   \n",
       "2   3   Wrouver      windows        Organic           0             1     0.0   \n",
       "3   4    Berton  android web       Referral           4             1     1.0   \n",
       "4   5    Strark  android web       Referral           6             1     0.0   \n",
       "5   6    Strark  android web       Referral           0             1     0.0   \n",
       "6   7    Strark      ios web           Paid           3             1     1.0   \n",
       "7   8    Strark      ios web       Referral           1             1     0.0   \n",
       "8   9    Strark          mac       Referral           1             1     0.0   \n",
       "9  10    Berton      ios web           Paid           0             1     0.0   \n",
       "\n",
       "   days_bgc  days_drive  \n",
       "0       NaT         NaT  \n",
       "1       NaT         NaT  \n",
       "2    0 days         NaT  \n",
       "3    5 days      0 days  \n",
       "4   15 days         NaT  \n",
       "5    0 days         NaT  \n",
       "6    2 days      7 days  \n",
       "7   10 days         NaT  \n",
       "8       NaT         NaT  \n",
       "9       NaT         NaT  "
      ]
     },
     "execution_count": 81,
     "metadata": {},
     "output_type": "execute_result"
    }
   ],
   "source": [
    "dat.head(10)"
   ]
  },
  {
   "cell_type": "code",
   "execution_count": 104,
   "metadata": {
    "collapsed": false
   },
   "outputs": [
    {
     "data": {
      "text/plain": [
       "array([1], dtype=int64)"
      ]
     },
     "execution_count": 104,
     "metadata": {},
     "output_type": "execute_result"
    }
   ],
   "source": [
    "dat.signup_month.unique()"
   ]
  },
  {
   "cell_type": "markdown",
   "metadata": {},
   "source": [
    "<b> All are signed up in the same month so signup month is not a good predictor </b>"
   ]
  },
  {
   "cell_type": "code",
   "execution_count": 105,
   "metadata": {
    "collapsed": true
   },
   "outputs": [],
   "source": [
    "del dat['signup_month']"
   ]
  },
  {
   "cell_type": "code",
   "execution_count": 106,
   "metadata": {
    "collapsed": false
   },
   "outputs": [
    {
     "data": {
      "text/plain": [
       "array([5, 3, 0, 4, 6, 1, 2], dtype=int64)"
      ]
     },
     "execution_count": 106,
     "metadata": {},
     "output_type": "execute_result"
    }
   ],
   "source": [
    "dat.signup_day.unique()"
   ]
  },
  {
   "cell_type": "code",
   "execution_count": 85,
   "metadata": {
    "collapsed": false
   },
   "outputs": [
    {
     "data": {
      "text/plain": [
       "(array([ 0.,  1.,  2.,  3.,  4.,  5.,  6.]),\n",
       " <a list of 7 Text xticklabel objects>)"
      ]
     },
     "execution_count": 85,
     "metadata": {},
     "output_type": "execute_result"
    },
    {
     "data": {
      "image/png": "[encoded data removed]",
      "text/plain": [
       "<matplotlib.figure.Figure at 0x1abd37f8780>"
      ]
     },
     "metadata": {},
     "output_type": "display_data"
    }
   ],
   "source": [
    "fig, (ax1, ax2) = plt.subplots(2, sharex = True, figsize = (4, 6.5) )\n",
    "sns.distplot(dat.ix[dat.Target == 0, 'signup_day'], color = 'r', kde=False, ax = ax1  )\n",
    "sns.distplot(dat.ix[dat.Target == 1, 'signup_day'], color = 'b', kde=False, ax = ax2 )\n",
    "ax1.set_ylabel('Count')\n",
    "ax1.set_xlabel('')\n",
    "ax1.set_title('Target = 0')\n",
    "ax2.set_ylabel('Count')\n",
    "ax2.set_title('Target = 1')\n",
    "ax2.set_xticklabels(['Monday', 'Tuesday', 'Wednesday', 'Thursday', 'Friday', 'Saturday', 'Sunday'])\n",
    "plt.xticks(rotation=50)"
   ]
  },
  {
   "cell_type": "markdown",
   "metadata": {},
   "source": [
    "<b> The above plot clearly shows that signup weekday is not a good predictor of whether he/she will drive </b>"
   ]
  },
  {
   "cell_type": "code",
   "execution_count": 107,
   "metadata": {
    "collapsed": true
   },
   "outputs": [],
   "source": [
    "del dat['signup_day']"
   ]
  },
  {
   "cell_type": "code",
   "execution_count": 108,
   "metadata": {
    "collapsed": true
   },
   "outputs": [],
   "source": [
    "def time_delta_int(x):\n",
    "    try:\n",
    "        return x.days\n",
    "    except:\n",
    "        return np.NaN"
   ]
  },
  {
   "cell_type": "code",
   "execution_count": 109,
   "metadata": {
    "collapsed": false
   },
   "outputs": [],
   "source": [
    "dat['days_bgc'] = dat['days_bgc'].apply(time_delta_int)\n",
    "dat['days_drive'] = dat['days_drive'].apply(time_delta_int)"
   ]
  },
  {
   "cell_type": "code",
   "execution_count": 111,
   "metadata": {
    "collapsed": false
   },
   "outputs": [
    {
     "data": {
      "text/plain": [
       "<matplotlib.axes._subplots.AxesSubplot at 0x1abd62084e0>"
      ]
     },
     "execution_count": 111,
     "metadata": {},
     "output_type": "execute_result"
    },
    {
     "data": {
      "image/png": "[encoded data removed]",
      "text/plain": [
       "<matplotlib.figure.Figure at 0x1abc7f2b7f0>"
      ]
     },
     "metadata": {},
     "output_type": "display_data"
    }
   ],
   "source": [
    "fig, (ax1, ax2) = plt.subplots(2, figsize = (6, 8) )\n",
    "dat.ix[ dat.Target == 0, 'days_drive'].plot.hist(bins = 100, ax = ax1 )\n",
    "dat.ix[ dat.Target == 1, 'days_drive'].plot.hist(bins = 100, ax = ax2 )"
   ]
  },
  {
   "cell_type": "code",
   "execution_count": 112,
   "metadata": {
    "collapsed": false
   },
   "outputs": [
    {
     "data": {
      "text/plain": [
       "array([ nan])"
      ]
     },
     "execution_count": 112,
     "metadata": {},
     "output_type": "execute_result"
    }
   ],
   "source": [
    "dat.ix[ dat.Target == 0, 'days_drive'].unique()"
   ]
  },
  {
   "cell_type": "markdown",
   "metadata": {
    "collapsed": true
   },
   "source": [
    "As expected, the no. of days to drive since bgc is NaN when the target is 0. Data integrity is maintained here. \n",
    "For modeling purposes, lets replace all NaNs with -1\n",
    "\n",
    "When the target is 1, the no. of days to drive since bgc has a xxxx distribution. However, it has some negative values which means the driver started driving even before the bgc approval. The best way to handle this is just by dropping those rows as they are significantly less.\n",
    "In this case, lets replace all NaNs with 0\n",
    "\n",
    "This could be a could predictor as well."
   ]
  },
  {
   "cell_type": "code",
   "execution_count": 120,
   "metadata": {
    "collapsed": false
   },
   "outputs": [
    {
     "data": {
      "text/plain": [
       "0   -1.0\n",
       "1   -1.0\n",
       "2   -1.0\n",
       "4   -1.0\n",
       "5   -1.0\n",
       "Name: days_drive, dtype: float64"
      ]
     },
     "execution_count": 120,
     "metadata": {},
     "output_type": "execute_result"
    }
   ],
   "source": [
    "dat.ix[dat.Target == 0, 'days_drive'].head()"
   ]
  },
  {
   "cell_type": "code",
   "execution_count": 119,
   "metadata": {
    "collapsed": true
   },
   "outputs": [],
   "source": [
    "dat.ix[dat.Target == 0, 'days_drive'] = dat.ix[dat.Target == 0, 'days_drive'].fillna(-1)"
   ]
  },
  {
   "cell_type": "code",
   "execution_count": 122,
   "metadata": {
    "collapsed": false
   },
   "outputs": [
    {
     "data": {
      "text/plain": [
       "id                1.0\n",
       "city_name         1.0\n",
       "signup_os         1.0\n",
       "signup_channel    1.0\n",
       "Target            1.0\n",
       "days_bgc          1.0\n",
       "days_drive        1.0\n",
       "dtype: float64"
      ]
     },
     "execution_count": 122,
     "metadata": {},
     "output_type": "execute_result"
    }
   ],
   "source": [
    "dat.ix[ (dat.Target == 1) & (dat.days_drive < 0)].count()"
   ]
  },
  {
   "cell_type": "markdown",
   "metadata": {},
   "source": [
    "Drop rows with days_drive as negative and Target = 1"
   ]
  },
  {
   "cell_type": "code",
   "execution_count": 130,
   "metadata": {
    "collapsed": false
   },
   "outputs": [],
   "source": [
    "index_drop = dat.ix[(dat.Target == 1) & (dat.days_drive < 0)].index.values\n",
    "dat.drop( dat.index[index_drop], inplace = True ).reset_index(drop = True)"
   ]
  },
  {
   "cell_type": "code",
   "execution_count": 136,
   "metadata": {
    "collapsed": false,
    "scrolled": true
   },
   "outputs": [
    {
     "data": {
      "text/plain": [
       "id                0\n",
       "city_name         0\n",
       "signup_os         0\n",
       "signup_channel    0\n",
       "Target            0\n",
       "days_bgc          0\n",
       "days_drive        0\n",
       "dtype: int64"
      ]
     },
     "execution_count": 136,
     "metadata": {},
     "output_type": "execute_result"
    }
   ],
   "source": [
    "dat.ix[ (dat.Target == 1) & (dat.days_drive < 0)].count()"
   ]
  },
  {
   "cell_type": "markdown",
   "metadata": {},
   "source": [
    "Replace NaNs with -1 for days_drive when the 'Target' is 0"
   ]
  },
  {
   "cell_type": "code",
   "execution_count": 137,
   "metadata": {
    "collapsed": true
   },
   "outputs": [],
   "source": [
    "dat.ix[ dat.Target == 0, 'days_drive' ] = -1"
   ]
  },
  {
   "cell_type": "code",
   "execution_count": 139,
   "metadata": {
    "collapsed": false
   },
   "outputs": [
    {
     "data": {
      "text/plain": [
       "id                1.000000\n",
       "city_name         1.000000\n",
       "signup_os         1.000000\n",
       "signup_channel    1.000000\n",
       "Target            1.000000\n",
       "days_bgc          0.601358\n",
       "days_drive        1.000000\n",
       "dtype: float64"
      ]
     },
     "execution_count": 139,
     "metadata": {},
     "output_type": "execute_result"
    }
   ],
   "source": [
    "dat.count() / len(dat)"
   ]
  },
  {
   "cell_type": "markdown",
   "metadata": {},
   "source": [
    "### days_bgc"
   ]
  },
  {
   "cell_type": "code",
   "execution_count": 110,
   "metadata": {
    "collapsed": false
   },
   "outputs": [
    {
     "data": {
      "text/plain": [
       "<matplotlib.text.Text at 0x1abc7ed0d68>"
      ]
     },
     "execution_count": 110,
     "metadata": {},
     "output_type": "execute_result"
    },
    {
     "data": {
      "image/png": "[encoded data removed]",
      "text/plain": [
       "<matplotlib.figure.Figure at 0x1abd5a3ea20>"
      ]
     },
     "metadata": {},
     "output_type": "display_data"
    }
   ],
   "source": [
    "fig, (ax1, ax2) = plt.subplots(2, sharex = True, figsize = (6, 8) )\n",
    "dat.ix[ dat.Target == 0, 'days_bgc'].plot.hist(bins = 60, ax = ax1, color = 'red', alpha = 0.7 )\n",
    "dat.ix[ dat.Target == 1, 'days_bgc'].plot.hist(bins = 40, ax = ax2, color = 'blue', alpha = 0.7 )\n",
    "ax1.set_ylabel('Count')\n",
    "ax1.set_title('Target = 0')\n",
    "ax2.set_ylabel('Count')\n",
    "ax2.set_title('Target = 1')\n",
    "ax2.set_xlabel('Days tooks for bgc since signup date')"
   ]
  },
  {
   "cell_type": "markdown",
   "metadata": {},
   "source": [
    "From the above plot, it is clear that as the number of days since signup increases the probability of approving background check and driving falls exponentially.\n",
    "\n",
    "From the training set, if the days_bgc < 25 there is a finite probability, eventhough negligible, that the candidate will give approval for the backgroud check. However, beyond ~ 25 days it is highly unlikely to get approval for bgc.\n",
    "\n",
    "Hence this parameter could be a good predictor of the target."
   ]
  },
  {
   "cell_type": "markdown",
   "metadata": {
    "collapsed": true
   },
   "source": [
    "##### Time to replace NaNs in days_bgc columns"
   ]
  },
  {
   "cell_type": "code",
   "execution_count": 139,
   "metadata": {
    "collapsed": false
   },
   "outputs": [
    {
     "data": {
      "text/plain": [
       "id                1.000000\n",
       "city_name         1.000000\n",
       "signup_os         1.000000\n",
       "signup_channel    1.000000\n",
       "Target            1.000000\n",
       "days_bgc          0.601358\n",
       "days_drive        1.000000\n",
       "dtype: float64"
      ]
     },
     "execution_count": 139,
     "metadata": {},
     "output_type": "execute_result"
    }
   ],
   "source": [
    "dat.count() / len(dat)"
   ]
  },
  {
   "cell_type": "markdown",
   "metadata": {},
   "source": [
    "I have also included the 'Target' in the groupby as we have significant difference in 'days_bgc' from the previous plot"
   ]
  },
  {
   "cell_type": "code",
   "execution_count": 142,
   "metadata": {
    "collapsed": false
   },
   "outputs": [
    {
     "data": {
      "text/plain": [
       "city_name  signup_os    signup_channel  Target\n",
       "Berton     android web  Organic         0.0       11.693419\n",
       "                                        1.0        3.953125\n",
       "                        Paid            0.0       11.334671\n",
       "                                        1.0        3.648936\n",
       "                        Referral        0.0       11.810704\n",
       "                                        1.0        3.279778\n",
       "           ios web      Organic         0.0       11.476959\n",
       "                                        1.0        3.604027\n",
       "                        Paid            0.0       11.327600\n",
       "                                        1.0        2.958824\n",
       "                        Referral        0.0       12.298177\n",
       "                                        1.0        2.895613\n",
       "           mac          Organic         0.0       12.640000\n",
       "                                        1.0        3.673469\n",
       "                        Paid            0.0       11.341410\n",
       "                                        1.0        3.024390\n",
       "                        Referral        0.0       10.915033\n",
       "                                        1.0        3.232044\n",
       "           other        Organic         0.0       10.736170\n",
       "                                        1.0        3.346154\n",
       "                        Paid            0.0       10.822823\n",
       "                                        1.0        3.426471\n",
       "                        Referral        0.0        9.760000\n",
       "                                        1.0        2.912088\n",
       "           windows      Organic         0.0       12.422566\n",
       "                                        1.0        3.561644\n",
       "                        Paid            0.0       11.405956\n",
       "                                        1.0        3.135135\n",
       "                        Referral        0.0       13.236934\n",
       "                                        1.0        2.798817\n",
       "                                                    ...    \n",
       "Wrouver    android web  Organic         0.0       12.108527\n",
       "                                        1.0        3.307692\n",
       "                        Paid            0.0       12.158537\n",
       "                                        1.0        4.080000\n",
       "                        Referral        0.0       11.465278\n",
       "                                        1.0        4.661972\n",
       "           ios web      Organic         0.0       12.596591\n",
       "                                        1.0        3.280000\n",
       "                        Paid            0.0       10.805233\n",
       "                                        1.0        3.309524\n",
       "                        Referral        0.0       11.320574\n",
       "                                        1.0        3.207317\n",
       "           mac          Organic         0.0       10.708333\n",
       "                                        1.0        5.852941\n",
       "                        Paid            0.0       11.871287\n",
       "                                        1.0        2.666667\n",
       "                        Referral        0.0        9.000000\n",
       "                                        1.0        5.250000\n",
       "           other        Organic         0.0       10.833333\n",
       "                                        1.0        3.533333\n",
       "                        Paid            0.0       10.825758\n",
       "                                        1.0        3.521739\n",
       "                        Referral        0.0        9.000000\n",
       "                                        1.0        1.428571\n",
       "           windows      Organic         0.0       11.201389\n",
       "                                        1.0        2.705882\n",
       "                        Paid            0.0       11.870647\n",
       "                                        1.0        2.428571\n",
       "                        Referral        0.0       11.000000\n",
       "                                        1.0        4.000000\n",
       "Name: days_bgc, dtype: float64"
      ]
     },
     "execution_count": 142,
     "metadata": {},
     "output_type": "execute_result"
    }
   ],
   "source": [
    "dat.groupby(['city_name', 'signup_os', 'signup_channel', 'Target'])['days_bgc'].mean()"
   ]
  },
  {
   "cell_type": "code",
   "execution_count": null,
   "metadata": {
    "collapsed": true
   },
   "outputs": [],
   "source": []
  },
  {
   "cell_type": "code",
   "execution_count": null,
   "metadata": {
    "collapsed": true
   },
   "outputs": [],
   "source": []
  },
  {
   "cell_type": "code",
   "execution_count": null,
   "metadata": {
    "collapsed": true
   },
   "outputs": [],
   "source": []
  },
  {
   "cell_type": "code",
   "execution_count": null,
   "metadata": {
    "collapsed": true
   },
   "outputs": [],
   "source": []
  },
  {
   "cell_type": "code",
   "execution_count": null,
   "metadata": {
    "collapsed": true
   },
   "outputs": [],
   "source": []
  },
  {
   "cell_type": "code",
   "execution_count": null,
   "metadata": {
    "collapsed": true
   },
   "outputs": [],
   "source": [
    "Stratified sampling"
   ]
  }
 ],
 "metadata": {
  "anaconda-cloud": {},
  "kernelspec": {
   "display_name": "Python [default]",
   "language": "python",
   "name": "python3"
  },
  "language_info": {
   "codemirror_mode": {
    "name": "ipython",
    "version": 3
   },
   "file_extension": ".py",
   "mimetype": "text/x-python",
   "name": "python",
   "nbconvert_exporter": "python",
   "pygments_lexer": "ipython3",
   "version": "3.5.2"
  }
 },
 "nbformat": 4,
 "nbformat_minor": 1
}
